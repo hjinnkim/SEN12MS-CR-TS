{
 "cells": [
  {
   "cell_type": "code",
   "execution_count": 5,
   "metadata": {},
   "outputs": [
    {
     "name": "stdout",
     "output_type": "stream",
     "text": [
      "\n",
      "Processing paths for train split of region all for split of season spring\n"
     ]
    },
    {
     "name": "stderr",
     "output_type": "stream",
     "text": [
      "100%|██████████| 1/1 [00:01<00:00,  1.80s/it]\n"
     ]
    },
    {
     "name": "stdout",
     "output_type": "stream",
     "text": [
      "\n",
      "Processing paths for train split of region all for split of season summer\n"
     ]
    },
    {
     "name": "stderr",
     "output_type": "stream",
     "text": [
      "100%|██████████| 1/1 [00:02<00:00,  2.10s/it]\n"
     ]
    },
    {
     "name": "stdout",
     "output_type": "stream",
     "text": [
      "\n",
      "Processing paths for train split of region all for split of season fall\n"
     ]
    },
    {
     "name": "stderr",
     "output_type": "stream",
     "text": [
      "100%|██████████| 1/1 [00:02<00:00,  2.51s/it]\n"
     ]
    },
    {
     "name": "stdout",
     "output_type": "stream",
     "text": [
      "\n",
      "Processing paths for train split of region all for split of season winter\n"
     ]
    },
    {
     "name": "stderr",
     "output_type": "stream",
     "text": [
      "100%|██████████| 1/1 [00:01<00:00,  1.12s/it]\n"
     ]
    },
    {
     "name": "stdout",
     "output_type": "stream",
     "text": [
      "\n",
      "Processing paths for train split of region all for split of season all\n"
     ]
    },
    {
     "name": "stderr",
     "output_type": "stream",
     "text": [
      "100%|██████████| 4/4 [00:06<00:00,  1.74s/it]\n"
     ]
    },
    {
     "name": "stdout",
     "output_type": "stream",
     "text": [
      "\n",
      "Processing paths for test split of region all for split of season spring\n"
     ]
    },
    {
     "name": "stderr",
     "output_type": "stream",
     "text": [
      "100%|██████████| 1/1 [00:00<00:00,  1.56it/s]\n"
     ]
    },
    {
     "name": "stdout",
     "output_type": "stream",
     "text": [
      "\n",
      "Processing paths for test split of region all for split of season summer\n"
     ]
    },
    {
     "name": "stderr",
     "output_type": "stream",
     "text": [
      "100%|██████████| 1/1 [00:00<00:00,  1.41it/s]\n"
     ]
    },
    {
     "name": "stdout",
     "output_type": "stream",
     "text": [
      "\n",
      "Processing paths for test split of region all for split of season fall\n"
     ]
    },
    {
     "name": "stderr",
     "output_type": "stream",
     "text": [
      "100%|██████████| 1/1 [00:00<00:00,  1.20it/s]\n"
     ]
    },
    {
     "name": "stdout",
     "output_type": "stream",
     "text": [
      "\n",
      "Processing paths for test split of region all for split of season winter\n"
     ]
    },
    {
     "name": "stderr",
     "output_type": "stream",
     "text": [
      "100%|██████████| 1/1 [00:00<00:00,  2.46it/s]\n"
     ]
    },
    {
     "name": "stdout",
     "output_type": "stream",
     "text": [
      "\n",
      "Processing paths for test split of region all for split of season all\n"
     ]
    },
    {
     "name": "stderr",
     "output_type": "stream",
     "text": [
      "100%|██████████| 4/4 [00:02<00:00,  1.57it/s]\n"
     ]
    },
    {
     "name": "stdout",
     "output_type": "stream",
     "text": [
      "\n",
      "Processing paths for val split of region all for split of season spring\n"
     ]
    },
    {
     "name": "stderr",
     "output_type": "stream",
     "text": [
      "100%|██████████| 1/1 [00:00<00:00,  1.67it/s]\n"
     ]
    },
    {
     "name": "stdout",
     "output_type": "stream",
     "text": [
      "\n",
      "Processing paths for val split of region all for split of season summer\n"
     ]
    },
    {
     "name": "stderr",
     "output_type": "stream",
     "text": [
      "100%|██████████| 1/1 [00:00<00:00,  1.43it/s]\n"
     ]
    },
    {
     "name": "stdout",
     "output_type": "stream",
     "text": [
      "\n",
      "Processing paths for val split of region all for split of season fall\n"
     ]
    },
    {
     "name": "stderr",
     "output_type": "stream",
     "text": [
      "100%|██████████| 1/1 [00:00<00:00,  1.20it/s]\n"
     ]
    },
    {
     "name": "stdout",
     "output_type": "stream",
     "text": [
      "\n",
      "Processing paths for val split of region all for split of season winter\n"
     ]
    },
    {
     "name": "stderr",
     "output_type": "stream",
     "text": [
      "100%|██████████| 1/1 [00:00<00:00,  2.66it/s]\n"
     ]
    },
    {
     "name": "stdout",
     "output_type": "stream",
     "text": [
      "\n",
      "Processing paths for val split of region all for split of season all\n"
     ]
    },
    {
     "name": "stderr",
     "output_type": "stream",
     "text": [
      "100%|██████████| 4/4 [00:02<00:00,  1.60it/s]\n"
     ]
    },
    {
     "name": "stdout",
     "output_type": "stream",
     "text": [
      "\n",
      "Processing paths for all split of region all for split of season spring\n"
     ]
    },
    {
     "name": "stderr",
     "output_type": "stream",
     "text": [
      "100%|██████████| 1/1 [00:01<00:00,  1.77s/it]\n"
     ]
    },
    {
     "name": "stdout",
     "output_type": "stream",
     "text": [
      "\n",
      "Processing paths for all split of region all for split of season summer\n"
     ]
    },
    {
     "name": "stderr",
     "output_type": "stream",
     "text": [
      "100%|██████████| 1/1 [00:02<00:00,  2.06s/it]\n"
     ]
    },
    {
     "name": "stdout",
     "output_type": "stream",
     "text": [
      "\n",
      "Processing paths for all split of region all for split of season fall\n"
     ]
    },
    {
     "name": "stderr",
     "output_type": "stream",
     "text": [
      "100%|██████████| 1/1 [00:02<00:00,  2.37s/it]\n"
     ]
    },
    {
     "name": "stdout",
     "output_type": "stream",
     "text": [
      "\n",
      "Processing paths for all split of region all for split of season winter\n"
     ]
    },
    {
     "name": "stderr",
     "output_type": "stream",
     "text": [
      "100%|██████████| 1/1 [00:01<00:00,  1.12s/it]\n"
     ]
    },
    {
     "name": "stdout",
     "output_type": "stream",
     "text": [
      "\n",
      "Processing paths for all split of region all for split of season all\n"
     ]
    },
    {
     "name": "stderr",
     "output_type": "stream",
     "text": [
      "100%|██████████| 4/4 [00:07<00:00,  1.84s/it]\n"
     ]
    }
   ],
   "source": [
    "import torch\n",
    "import os\n",
    "import matplotlib.pyplot as plt\n",
    "import numpy as np\n",
    "from tqdm import tqdm\n",
    "import pickle\n",
    "from data.sen12mscr_dataset import SEN12MSCR\n",
    "dir_SEN12MSCR = '/home/khj/SEN12MSCR'\n",
    "# sen12mscr = SEN12MSCR_NoMask(dir_SEN12MSCR, split='all', region='all', rescale_method='None')\n",
    "\n",
    "sen12mscr_train_spring = SEN12MSCR(dir_SEN12MSCR, split='train', region='all', season='spring', rescale_method=None)\n",
    "sen12mscr_train_summer = SEN12MSCR(dir_SEN12MSCR, split='train', region='all', season='summer', rescale_method=None)\n",
    "sen12mscr_train_fall = SEN12MSCR(dir_SEN12MSCR, split='train', region='all', season='fall', rescale_method=None)\n",
    "sen12mscr_train_winter = SEN12MSCR(dir_SEN12MSCR, split='train', region='all', season='winter', rescale_method=None)\n",
    "sen12mscr_train_all = SEN12MSCR(dir_SEN12MSCR, split='train', region='all', season='all', rescale_method=None)\n",
    "\n",
    "sen12mscr_test_spring = SEN12MSCR(dir_SEN12MSCR, split='test', region='all', season='spring', rescale_method=None)\n",
    "sen12mscr_test_summer = SEN12MSCR(dir_SEN12MSCR, split='test', region='all', season='summer', rescale_method=None)\n",
    "sen12mscr_test_fall = SEN12MSCR(dir_SEN12MSCR, split='test', region='all', season='fall', rescale_method=None)\n",
    "sen12mscr_test_winter = SEN12MSCR(dir_SEN12MSCR, split='test', region='all', season='winter', rescale_method=None)\n",
    "sen12mscr_test_all = SEN12MSCR(dir_SEN12MSCR, split='test', region='all', season='all', rescale_method=None)\n",
    "\n",
    "sen12mscr_val_spring = SEN12MSCR(dir_SEN12MSCR, split='val', region='all', season='spring', rescale_method=None)\n",
    "sen12mscr_val_summer = SEN12MSCR(dir_SEN12MSCR, split='val', region='all', season='summer', rescale_method=None)\n",
    "sen12mscr_val_fall = SEN12MSCR(dir_SEN12MSCR, split='val', region='all', season='fall', rescale_method=None)\n",
    "sen12mscr_val_winter = SEN12MSCR(dir_SEN12MSCR, split='val', region='all', season='winter', rescale_method=None)\n",
    "sen12mscr_val_all = SEN12MSCR(dir_SEN12MSCR, split='val', region='all', season='all', rescale_method=None)\n",
    "\n",
    "sen12mscr_spring = SEN12MSCR(dir_SEN12MSCR, split='all', region='all', season='spring', rescale_method=None)\n",
    "sen12mscr_summer = SEN12MSCR(dir_SEN12MSCR, split='all', region='all', season='summer', rescale_method=None)\n",
    "sen12mscr_fall = SEN12MSCR(dir_SEN12MSCR, split='all', region='all', season='fall', rescale_method=None)\n",
    "sen12mscr_winter = SEN12MSCR(dir_SEN12MSCR, split='all', region='all', season='winter', rescale_method=None)\n",
    "sen12mscr = SEN12MSCR(dir_SEN12MSCR, split='all', region='all', season='all', rescale_method=None)\n"
   ]
  },
  {
   "cell_type": "code",
   "execution_count": 6,
   "metadata": {},
   "outputs": [],
   "source": [
    "datasets = {'sen12mscr_train_spring': sen12mscr_train_spring,\n",
    "            'sen12mscr_train_summer': sen12mscr_train_summer,\n",
    "            'sen12mscr_train_fall': sen12mscr_train_fall,\n",
    "            'sen12mscr_train_winter': sen12mscr_train_winter,\n",
    "            'sen12mscr_train_all': sen12mscr_train_all,\n",
    "            'sen12mscr_test_spring': sen12mscr_test_spring,\n",
    "            'sen12mscr_test_summer': sen12mscr_test_summer,\n",
    "            'sen12mscr_test_fall': sen12mscr_test_fall,\n",
    "            'sen12mscr_test_winter': sen12mscr_test_winter,\n",
    "            'sen12mscr_test_all': sen12mscr_test_all,\n",
    "            'sen12mscr_val_spring': sen12mscr_val_spring,\n",
    "            'sen12mscr_val_summer': sen12mscr_val_summer,\n",
    "            'sen12mscr_val_fall': sen12mscr_val_fall,\n",
    "            'sen12mscr_val_winter': sen12mscr_val_winter,\n",
    "            'sen12mscr_val_all': sen12mscr_val_all,\n",
    "            'sen12mscr_spring': sen12mscr_spring,\n",
    "            'sen12mscr_summer': sen12mscr_summer,\n",
    "            'sen12mscr_fall': sen12mscr_fall,\n",
    "            'sen12mscr_winter': sen12mscr_winter,\n",
    "            'sen12mscr': sen12mscr,\n",
    "            }"
   ]
  },
  {
   "cell_type": "code",
   "execution_count": 7,
   "metadata": {},
   "outputs": [
    {
     "name": "stdout",
     "output_type": "stream",
     "text": [
      "Base Dataset Length :  122217\n",
      "Sum of Dataset Length for Each Season :  122217\n",
      "=========================\n",
      "Base Dataset Length :  122217\n",
      "Train + Test + Val :  107142  +  7899  +  7176  =  122217\n",
      "Train | Test & Val :  107142  |  15075\n",
      "Train | Test & Val (%) :  87.66538206632465  |  12.334617933675347\n",
      "=========================\n",
      "Spring Dataset Length :  29117\n",
      "Train + Test + Val :  24378  +  3983  +  756  =  29117\n",
      "Train | Test & Val :  24378  |  4739\n",
      "Train | Test & Val (%) :  83.72428478208607  |  16.275715217913934\n",
      "=========================\n",
      "Summer Dataset Length :  33826\n",
      "Train + Test + Val :  29393  +  1565  +  2868  =  33826\n",
      "Train | Test & Val :  29393  |  4433\n",
      "Train | Test & Val (%) :  86.8946963873943  |  13.105303612605686\n",
      "=========================\n",
      "Fall Dataset Length :  40941\n",
      "Train + Test + Val :  39376  +  784  +  781  =  40941\n",
      "Train | Test & Val :  39376  |  1565\n",
      "Train | Test & Val (%) :  96.17742605212379  |  3.8225739478762124\n",
      "=========================\n",
      "Winter Dataset Length :  18333\n",
      "Train + Test + Val :  13995  +  1567  +  2771  =  18333\n",
      "Train | Test & Val :  13995  |  4338\n",
      "Train | Test & Val (%) :  76.33775159548355  |  23.662248404516443\n"
     ]
    }
   ],
   "source": [
    "print('Base Dataset Length : ', len(datasets['sen12mscr']))\n",
    "print('Sum of Dataset Length for Each Season : ', len(datasets['sen12mscr_spring'])+len(datasets['sen12mscr_summer'])+len(datasets['sen12mscr_fall'])+len(datasets['sen12mscr_winter']))\n",
    "\n",
    "print('='*25)\n",
    "\n",
    "print('Base Dataset Length : ', len(datasets['sen12mscr']))\n",
    "print('Train + Test + Val : ', len(datasets['sen12mscr_train_all']), ' + ', len(datasets['sen12mscr_test_all']), ' + ',  len(datasets['sen12mscr_val_all']), ' = ', len(datasets['sen12mscr_train_all'])+len(datasets['sen12mscr_test_all'])+len(datasets['sen12mscr_val_all']))\n",
    "print('Train | Test & Val : ', len(datasets['sen12mscr_train_all']), ' | ', len(datasets['sen12mscr_test_all'])+len(datasets['sen12mscr_val_all']))\n",
    "print('Train | Test & Val (%) : ', len(datasets['sen12mscr_train_all']) / len(datasets['sen12mscr']) * 100, ' | ', (len(datasets['sen12mscr_test_all'])+len(datasets['sen12mscr_val_all'])) / len(datasets['sen12mscr']) * 100, )\n",
    "\n",
    "print('='*25)\n",
    "\n",
    "print('Spring Dataset Length : ', len(datasets['sen12mscr_spring']))\n",
    "print('Train + Test + Val : ', len(datasets['sen12mscr_train_spring']), ' + ', len(datasets['sen12mscr_test_spring']), ' + ', len(datasets['sen12mscr_val_spring']), ' = ', len(datasets['sen12mscr_train_spring'])+len(datasets['sen12mscr_test_spring'])+len(datasets['sen12mscr_val_spring']))\n",
    "print('Train | Test & Val : ', len(datasets['sen12mscr_train_spring']), ' | ', len(datasets['sen12mscr_test_spring']) + len(datasets['sen12mscr_val_spring']), )\n",
    "print('Train | Test & Val (%) : ', len(datasets['sen12mscr_train_spring']) / len(datasets['sen12mscr_spring']) * 100, ' | ', (len(datasets['sen12mscr_test_spring']) + len(datasets['sen12mscr_val_spring'])) / len(datasets['sen12mscr_spring']) * 100, )\n",
    "\n",
    "print('='*25)\n",
    "\n",
    "print('Summer Dataset Length : ', len(datasets['sen12mscr_summer']))\n",
    "print('Train + Test + Val : ', len(datasets['sen12mscr_train_summer']), ' + ', len(datasets['sen12mscr_test_summer']), ' + ', len(datasets['sen12mscr_val_summer']), ' = ', len(datasets['sen12mscr_train_summer'])+len(datasets['sen12mscr_test_summer'])+len(datasets['sen12mscr_val_summer']))\n",
    "print('Train | Test & Val : ', len(datasets['sen12mscr_train_summer']), ' | ', len(datasets['sen12mscr_test_summer'])+len(datasets['sen12mscr_val_summer']), )\n",
    "print('Train | Test & Val (%) : ', len(datasets['sen12mscr_train_summer']) / len(datasets['sen12mscr_summer']) * 100, ' | ', (len(datasets['sen12mscr_test_summer']) + len(datasets['sen12mscr_val_summer'])) / len(datasets['sen12mscr_summer']) * 100, )\n",
    "\n",
    "print('='*25)\n",
    "\n",
    "print('Fall Dataset Length : ', len(datasets['sen12mscr_fall']))\n",
    "print('Train + Test + Val : ', len(datasets['sen12mscr_train_fall']), ' + ', len(datasets['sen12mscr_test_fall']), ' + ', len(datasets['sen12mscr_val_fall']), ' = ', len(datasets['sen12mscr_train_fall'])+len(datasets['sen12mscr_test_fall'])+len(datasets['sen12mscr_val_fall']))\n",
    "print('Train | Test & Val : ', len(datasets['sen12mscr_train_fall']), ' | ', len(datasets['sen12mscr_test_fall']) + len(datasets['sen12mscr_val_fall']), )\n",
    "print('Train | Test & Val (%) : ', len(datasets['sen12mscr_train_fall']) / len(datasets['sen12mscr_fall']) * 100, ' | ', (len(datasets['sen12mscr_test_fall']) + len(datasets['sen12mscr_val_fall'])) / len(datasets['sen12mscr_fall']) * 100, )\n",
    "\n",
    "print('='*25)\n",
    "\n",
    "print('Winter Dataset Length : ', len(datasets['sen12mscr_winter']))\n",
    "print('Train + Test + Val : ', len(datasets['sen12mscr_train_winter']), ' + ', len(datasets['sen12mscr_test_winter']), ' + ', len(datasets['sen12mscr_val_winter']), ' = ', len(datasets['sen12mscr_train_winter'])+len(datasets['sen12mscr_test_winter'])+len(datasets['sen12mscr_val_winter']))\n",
    "print('Train | Test & Val : ', len(datasets['sen12mscr_train_winter']), ' | ', len(datasets['sen12mscr_test_winter'])+len(datasets['sen12mscr_val_winter']), )\n",
    "print('Train | Test & Val (%) : ', len(datasets['sen12mscr_train_winter']) / len(datasets['sen12mscr_winter']) * 100, ' | ', (len(datasets['sen12mscr_test_winter'])+len(datasets['sen12mscr_val_winter'])) / len(datasets['sen12mscr_winter']) * 100, )\n"
   ]
  },
  {
   "cell_type": "code",
   "execution_count": 8,
   "metadata": {},
   "outputs": [
    {
     "name": "stderr",
     "output_type": "stream",
     "text": [
      "  0%|          | 0/24378 [00:00<?, ?it/s]"
     ]
    },
    {
     "name": "stderr",
     "output_type": "stream",
     "text": [
      "100%|██████████| 24378/24378 [03:55<00:00, 103.35it/s]\n",
      "100%|██████████| 29393/29393 [04:59<00:00, 98.11it/s] \n",
      "100%|██████████| 39376/39376 [06:43<00:00, 97.52it/s] \n",
      "100%|██████████| 13995/13995 [02:20<00:00, 99.63it/s] \n",
      "100%|██████████| 107142/107142 [18:12<00:00, 98.04it/s] \n",
      "100%|██████████| 3983/3983 [00:40<00:00, 97.20it/s] \n",
      "100%|██████████| 1565/1565 [00:16<00:00, 97.03it/s]\n",
      "100%|██████████| 784/784 [00:08<00:00, 95.64it/s] \n",
      "100%|██████████| 1567/1567 [00:16<00:00, 95.58it/s]\n",
      "100%|██████████| 7899/7899 [01:20<00:00, 97.92it/s] \n",
      "100%|██████████| 756/756 [00:07<00:00, 97.13it/s] \n",
      "100%|██████████| 2868/2868 [00:29<00:00, 97.49it/s] \n",
      "100%|██████████| 781/781 [00:08<00:00, 97.18it/s] \n",
      "100%|██████████| 2771/2771 [00:27<00:00, 98.97it/s] \n",
      "100%|██████████| 7176/7176 [01:12<00:00, 98.75it/s] \n",
      "100%|██████████| 29117/29117 [04:55<00:00, 98.39it/s] \n",
      "100%|██████████| 33826/33826 [05:43<00:00, 98.42it/s] \n",
      "100%|██████████| 40941/40941 [07:03<00:00, 96.72it/s] \n",
      "100%|██████████| 18333/18333 [03:11<00:00, 95.98it/s] \n",
      "100%|██████████| 122217/122217 [20:55<00:00, 97.38it/s] \n"
     ]
    }
   ],
   "source": [
    "dataset_statistics = {}\n",
    "for key, val in datasets.items():\n",
    "    os.makedirs('statistics/'+key, exist_ok=True)\n",
    "    dataset_statistics[key]={}\n",
    "    \n",
    "    val_len = len(val)\n",
    "    VV_min = 10000\n",
    "    VV_max = -10000\n",
    "    VV_avg = 0\n",
    "    VH_min = 10000\n",
    "    VH_max = -10000\n",
    "    VH_avg = 0\n",
    "    B2_min = 10000\n",
    "    B2_max = -10000\n",
    "    B2_avg = 0\n",
    "    B3_min = 10000\n",
    "    B3_max = -10000\n",
    "    B3_avg = 0\n",
    "    B4_min = 10000\n",
    "    B4_max = -10000\n",
    "    B4_avg = 0\n",
    "    \n",
    "    VV_histogram = np.zeros((100), dtype=np.int64)\n",
    "    VH_histogram = np.zeros((100), dtype=np.int64)\n",
    "    SAR_total_histogram = np.zeros((100), dtype=np.int64)\n",
    "    B2_histogram = np.zeros((10000), dtype=np.int64)\n",
    "    B3_histogram = np.zeros((10000), dtype=np.int64)\n",
    "    B4_histogram = np.zeros((10000), dtype=np.int64)\n",
    "    EO_total_histogram = np.zeros((10000), dtype=np.int64)\n",
    "    \n",
    "    for sample in tqdm(val):\n",
    "        VV = sample['SAR']['S1'][0]\n",
    "        VH = sample['SAR']['S1'][1]\n",
    "        B2 = sample['EO']['S2'][2]\n",
    "        B3 = sample['EO']['S2'][1]\n",
    "        B4 = sample['EO']['S2'][0]\n",
    "        \n",
    "        VV = np.clip(sample['SAR']['S1'][0], -50, 0)\n",
    "        VH = np.clip(sample['SAR']['S1'][1], -50, 0)\n",
    "        B2 = np.clip(sample['EO']['S2'][2], 0, 10000)\n",
    "        B3 = np.clip(sample['EO']['S2'][1], 0, 10000)\n",
    "        B4 = np.clip(sample['EO']['S2'][0], 0, 10000)\n",
    "        \n",
    "        VV_avg += np.sum(VV)/val_len/65536\n",
    "        VH_avg += np.sum(VH)/val_len/65536\n",
    "        B2_avg += np.sum(B2)/val_len/65536\n",
    "        B3_avg += np.sum(B3)/val_len/65536\n",
    "        B4_avg += np.sum(B4)/val_len/65536\n",
    "        \n",
    "        if VV_min > VV.min():\n",
    "            VV_min = VV.min()\n",
    "        if VV_max < VV.max():\n",
    "            VV_max = VV.max()\n",
    "            \n",
    "        if VH_min > VH.min():\n",
    "            VH_min = VH.min()\n",
    "        if VH_max < VH.max():\n",
    "            VH_max = VH.max()\n",
    "            \n",
    "        if B2_min > B2.min():\n",
    "            B2_min = B2.min()\n",
    "        if B2_max < B2.max():\n",
    "            B2_max = B2.max()\n",
    "            \n",
    "        if B3_min > B3.min():\n",
    "            B3_min = B3.min()\n",
    "        if B3_max < B3.max():\n",
    "            B3_max = B3.max()\n",
    "            \n",
    "        if B4_min > B4.min():\n",
    "            B4_min = B4.min()\n",
    "        if B4_max < B4.max():\n",
    "            B4_max = B4.max()\n",
    "    \n",
    "        temp_VV_histogram, temp_VV_bins = np.histogram(VV, bins=100, range=(-50.0, 0.0))\n",
    "        temp_VH_histogram, temp_VH_bins = np.histogram(VH, bins=100, range=(-50.0, 0.0))\n",
    "        temp_B2_histogram, temp_B2_bins = np.histogram(B2, bins=10000, range=(0.0, 10000.0))\n",
    "        temp_B3_histogram, temp_B3_bins = np.histogram(B3, bins=10000, range=(0.0, 10000.0))\n",
    "        temp_B4_histogram, temp_B4_bins = np.histogram(B4, bins=10000, range=(0.0, 10000.0))\n",
    "        \n",
    "        VV_histogram += temp_VV_histogram\n",
    "        VH_histogram += temp_VH_histogram\n",
    "        SAR_total_histogram += temp_VV_histogram\n",
    "        SAR_total_histogram += temp_VH_histogram\n",
    "        B2_histogram += temp_B2_histogram\n",
    "        B3_histogram += temp_B3_histogram\n",
    "        B4_histogram += temp_B4_histogram\n",
    "        EO_total_histogram += temp_B2_histogram\n",
    "        EO_total_histogram += temp_B3_histogram\n",
    "        EO_total_histogram += temp_B4_histogram\n",
    "    \n",
    "    dataset_statistics[key]={}\n",
    "    dataset_statistics[key]['VV_min']=VV_min\n",
    "    dataset_statistics[key]['VV_max']=VV_max\n",
    "    dataset_statistics[key]['VV_avg']=VV_avg\n",
    "    dataset_statistics[key]['VH_min']=VH_min\n",
    "    dataset_statistics[key]['VH_max']=VH_max\n",
    "    dataset_statistics[key]['VH_avg']=VH_avg\n",
    "    dataset_statistics[key]['B2_min']=B2_min\n",
    "    dataset_statistics[key]['B2_max']=B2_max\n",
    "    dataset_statistics[key]['B2_avg']=B2_avg\n",
    "    dataset_statistics[key]['B3_min']=B3_min\n",
    "    dataset_statistics[key]['B3_max']=B3_max\n",
    "    dataset_statistics[key]['B3_avg']=B3_avg\n",
    "    dataset_statistics[key]['B4_min']=B4_min\n",
    "    dataset_statistics[key]['B4_max']=B4_max\n",
    "    dataset_statistics[key]['B4_avg']=B4_avg\n",
    "    dataset_statistics[key]['VV_histogram']=VV_histogram\n",
    "    dataset_statistics[key]['VH_histogram']=VH_histogram\n",
    "    dataset_statistics[key]['SAR_total_histogram']=SAR_total_histogram\n",
    "    dataset_statistics[key]['B2_histogram']=B2_histogram\n",
    "    dataset_statistics[key]['B3_histogram']=B3_histogram\n",
    "    dataset_statistics[key]['B4_histogram']=B4_histogram\n",
    "    dataset_statistics[key]['EO_total_histogram']=EO_total_histogram"
   ]
  },
  {
   "cell_type": "code",
   "execution_count": null,
   "metadata": {},
   "outputs": [],
   "source": [
    "for key in dataset_statistics.keys():\n",
    "    vv_avg = dataset_statistics[key]['VV_avg']\n",
    "    vh_avg = dataset_statistics[key]['VH_avg']\n",
    "    b2_avg = dataset_statistics[key]['B2_avg']\n",
    "    b3_avg = dataset_statistics[key]['B3_avg']\n",
    "    b4_avg = dataset_statistics[key]['B4_avg']\n",
    "    \n",
    "    dataset = datasets[key]\n",
    "    val_len = len(dataset)\n",
    "    \n",
    "    VV_var = 0\n",
    "    VH_var = 0\n",
    "    B2_var = 0\n",
    "    B3_var = 0\n",
    "    B4_var = 0\n",
    "\n",
    "    for sample in tqdm(dataset):\n",
    "        VV = sample['SAR']['S1'][0]\n",
    "        VH = sample['SAR']['S1'][1]\n",
    "        B2 = sample['EO']['S2'][2]\n",
    "        B3 = sample['EO']['S2'][1]\n",
    "        B4 = sample['EO']['S2'][0]\n",
    "        \n",
    "        VV_var += np.sum(np.square(VV-vv_avg)) /val_len /65536\n",
    "        VH_var += np.sum(np.square(VH-vh_avg)) /val_len /65536\n",
    "        B2_var += np.sum(np.square(B2-b2_avg)) /val_len /65536\n",
    "        B3_var += np.sum(np.square(B3-b3_avg)) /val_len /65536\n",
    "        B4_var += np.sum(np.square(B4-b4_avg)) /val_len /65536\n",
    "    \n",
    "    VV_std = np.sqrt(VV_var)\n",
    "    VH_std = np.sqrt(VH_var)\n",
    "    B2_std = np.sqrt(B2_var)\n",
    "    B3_std = np.sqrt(B3_var)\n",
    "    B4_std = np.sqrt(B4_var)\n",
    "    \n",
    "    dataset_statistics[key]['VV_var'] = VV_var\n",
    "    dataset_statistics[key]['VH_var'] = VH_var\n",
    "    dataset_statistics[key]['B2_var'] = B2_var\n",
    "    dataset_statistics[key]['B3_var'] = B3_var\n",
    "    dataset_statistics[key]['B4_var'] = B4_var\n",
    "    dataset_statistics[key]['VV_std'] = VV_std\n",
    "    dataset_statistics[key]['VH_std'] = VH_std\n",
    "    dataset_statistics[key]['B2_std'] = B2_std\n",
    "    dataset_statistics[key]['B3_std'] = B3_std\n",
    "    dataset_statistics[key]['B4_std'] = B4_std\n",
    "    "
   ]
  },
  {
   "cell_type": "code",
   "execution_count": 16,
   "metadata": {},
   "outputs": [],
   "source": [
    "SAR_bin = [elem/2 for elem in list(range(-100, 0))]\n",
    "EO_bin = [elem for elem in list(range(0, 10000))]\n",
    "\n",
    "for key in datasets.keys():        \n",
    "    stat = dataset_statistics[key]\n",
    "    \n",
    "    VV_histogram = stat['VV_histogram']\n",
    "    VH_histogram = stat['VH_histogram']\n",
    "    SAR_total_histogram = stat['SAR_total_histogram']\n",
    "    B2_histogram = stat['B2_histogram']\n",
    "    B3_histogram = stat['B3_histogram']\n",
    "    B4_histogram = stat['B4_histogram']\n",
    "    EO_total_histogram = stat['EO_total_histogram']\n",
    "    ###\n",
    "    threshold_upper_1 = np.sum(VV_histogram) * 0.99\n",
    "    threshold_lower_1 = np.sum(VV_histogram) * 0.01\n",
    "    threshold_upper_2 = np.sum(VV_histogram) * 0.98\n",
    "    threshold_lower_2 = np.sum(VV_histogram) * 0.02\n",
    "    \n",
    "    lower_1_flag = False\n",
    "    lower_2_flag = False\n",
    "    upper_2_flag = False\n",
    "    temp_num = 0\n",
    "    for i in range(len(VV_histogram)):\n",
    "        temp_num += VV_histogram[i]\n",
    "        if not lower_1_flag :\n",
    "            if temp_num >= threshold_lower_1:\n",
    "                lower_1 = i\n",
    "                lower_1_flag = True\n",
    "        elif not lower_2_flag:\n",
    "            if temp_num >= threshold_lower_2:\n",
    "                lower_2 = i\n",
    "                lower_2_flag = True\n",
    "        elif not upper_2_flag:\n",
    "            if temp_num >= threshold_upper_2:\n",
    "                upper_2 = i\n",
    "                upper_2_flag = True\n",
    "        else:\n",
    "            if temp_num >= threshold_upper_1:\n",
    "                upper_1 = i\n",
    "                break\n",
    "        \n",
    "\n",
    "    dataset_statistics[key]['VV_lower_1'] = SAR_bin[lower_1]\n",
    "    dataset_statistics[key]['VV_lower_2'] = SAR_bin[lower_2]\n",
    "    dataset_statistics[key]['VV_upper_1'] = SAR_bin[upper_1]\n",
    "    dataset_statistics[key]['VV_upper_2'] = SAR_bin[upper_2]\n",
    "    ###\n",
    "    threshold_upper_1 = np.sum(VH_histogram) * 0.99\n",
    "    threshold_lower_1 = np.sum(VH_histogram) * 0.01\n",
    "    threshold_upper_2 = np.sum(VH_histogram) * 0.98\n",
    "    threshold_lower_2 = np.sum(VH_histogram) * 0.02\n",
    "    \n",
    "    lower_1_flag = False\n",
    "    lower_2_flag = False\n",
    "    upper_2_flag = False\n",
    "    temp_num = 0\n",
    "    for i in range(len(VH_histogram)):\n",
    "        temp_num += VH_histogram[i]\n",
    "        if not lower_1_flag :\n",
    "            if temp_num >= threshold_lower_1:\n",
    "                lower_1 = i\n",
    "                lower_1_flag = True\n",
    "        elif not lower_2_flag:\n",
    "            if temp_num >= threshold_lower_2:\n",
    "                lower_2 = i\n",
    "                lower_2_flag = True\n",
    "        elif not upper_2_flag:\n",
    "            if temp_num >= threshold_upper_2:\n",
    "                upper_2 = i\n",
    "                upper_2_flag = True\n",
    "        else:\n",
    "            if temp_num >= threshold_upper_1:\n",
    "                upper_1 = i\n",
    "                break\n",
    "\n",
    "    dataset_statistics[key]['VH_lower_1'] = SAR_bin[lower_1]\n",
    "    dataset_statistics[key]['VH_lower_2'] = SAR_bin[lower_2]\n",
    "    dataset_statistics[key]['VH_upper_1'] = SAR_bin[upper_1]\n",
    "    dataset_statistics[key]['VH_upper_2'] = SAR_bin[upper_2]\n",
    "        \n",
    "    ###\n",
    "    threshold_upper_1 = np.sum(SAR_total_histogram) * 0.99\n",
    "    threshold_lower_1 = np.sum(SAR_total_histogram) * 0.01\n",
    "    threshold_upper_2 = np.sum(SAR_total_histogram) * 0.98\n",
    "    threshold_lower_2 = np.sum(SAR_total_histogram) * 0.02\n",
    "    \n",
    "    lower_1_flag = False\n",
    "    lower_2_flag = False\n",
    "    upper_2_flag = False\n",
    "    temp_num = 0\n",
    "    for i in range(len(SAR_total_histogram)):\n",
    "        temp_num += SAR_total_histogram[i]\n",
    "        if not lower_1_flag :\n",
    "            if temp_num >= threshold_lower_1:\n",
    "                lower_1 = i\n",
    "                lower_1_flag = True\n",
    "        elif not lower_2_flag:\n",
    "            if temp_num >= threshold_lower_2:\n",
    "                lower_2 = i\n",
    "                lower_2_flag = True\n",
    "        elif not upper_2_flag:\n",
    "            if temp_num >= threshold_upper_2:\n",
    "                upper_2 = i\n",
    "                upper_2_flag = True\n",
    "        else:\n",
    "            if temp_num >= threshold_upper_1:\n",
    "                upper_1 = i\n",
    "                break\n",
    "\n",
    "    dataset_statistics[key]['SAR_lower_1'] = SAR_bin[lower_1]\n",
    "    dataset_statistics[key]['SAR_lower_2'] = SAR_bin[lower_2]\n",
    "    dataset_statistics[key]['SAR_upper_1'] = SAR_bin[upper_1]\n",
    "    dataset_statistics[key]['SAR_upper_2'] = SAR_bin[upper_2]\n",
    "        \n",
    "    ###\n",
    "    threshold_upper_1 = np.sum(B2_histogram) * 0.99\n",
    "    threshold_lower_1 = np.sum(B2_histogram) * 0.01\n",
    "    threshold_upper_2 = np.sum(B2_histogram) * 0.98\n",
    "    threshold_lower_2 = np.sum(B2_histogram) * 0.02\n",
    "    \n",
    "    lower_1_flag = False\n",
    "    lower_2_flag = False\n",
    "    upper_2_flag = False\n",
    "    temp_num = 0\n",
    "    for i in range(len(B2_histogram)):\n",
    "        temp_num += B2_histogram[i]\n",
    "        if not lower_1_flag :\n",
    "            if temp_num >= threshold_lower_1:\n",
    "                lower_1 = i\n",
    "                lower_1_flag = True\n",
    "        elif not lower_2_flag:\n",
    "            if temp_num >= threshold_lower_2:\n",
    "                lower_2 = i\n",
    "                lower_2_flag = True\n",
    "        elif not upper_2_flag:\n",
    "            if temp_num >= threshold_upper_2:\n",
    "                upper_2 = i\n",
    "                upper_2_flag = True\n",
    "        else:\n",
    "            if temp_num >= threshold_upper_1:\n",
    "                upper_1 = i\n",
    "                break\n",
    "    \n",
    "    dataset_statistics[key]['B2_lower_1'] = EO_bin[lower_1]\n",
    "    dataset_statistics[key]['B2_lower_2'] = EO_bin[lower_2]\n",
    "    dataset_statistics[key]['B2_upper_1'] = EO_bin[upper_1]\n",
    "    dataset_statistics[key]['B2_upper_2'] = EO_bin[upper_2]\n",
    "    ###\n",
    "    threshold_upper_1 = np.sum(B3_histogram) * 0.99\n",
    "    threshold_lower_1 = np.sum(B3_histogram) * 0.01\n",
    "    threshold_upper_2 = np.sum(B3_histogram) * 0.98\n",
    "    threshold_lower_2 = np.sum(B3_histogram) * 0.02\n",
    "    \n",
    "    lower_1_flag = False\n",
    "    lower_2_flag = False\n",
    "    upper_2_flag = False\n",
    "    temp_num = 0\n",
    "    for i in range(len(B3_histogram)):\n",
    "        temp_num += B3_histogram[i]\n",
    "        if not lower_1_flag :\n",
    "            if temp_num >= threshold_lower_1:\n",
    "                lower_1 = i\n",
    "                lower_1_flag = True\n",
    "        elif not lower_2_flag:\n",
    "            if temp_num >= threshold_lower_2:\n",
    "                lower_2 = i\n",
    "                lower_2_flag = True\n",
    "        elif not upper_2_flag:\n",
    "            if temp_num >= threshold_upper_2:\n",
    "                upper_2 = i\n",
    "                upper_2_flag = True\n",
    "        else:\n",
    "            if temp_num >= threshold_upper_1:\n",
    "                upper_1 = i\n",
    "                break\n",
    "        \n",
    "    dataset_statistics[key]['B3_lower_1'] = EO_bin[lower_1]\n",
    "    dataset_statistics[key]['B3_lower_2'] = EO_bin[lower_2]\n",
    "    dataset_statistics[key]['B3_upper_1'] = EO_bin[upper_1]\n",
    "    dataset_statistics[key]['B3_upper_2'] = EO_bin[upper_2]\n",
    "    ###\n",
    "    threshold_upper_1 = np.sum(B4_histogram) * 0.99\n",
    "    threshold_lower_1 = np.sum(B4_histogram) * 0.01\n",
    "    threshold_upper_2 = np.sum(B4_histogram) * 0.98\n",
    "    threshold_lower_2 = np.sum(B4_histogram) * 0.02\n",
    "    \n",
    "    lower_1_flag = False\n",
    "    lower_2_flag = False\n",
    "    upper_2_flag = False\n",
    "    temp_num = 0\n",
    "    for i in range(len(B4_histogram)):\n",
    "        temp_num += B4_histogram[i]\n",
    "        if not lower_1_flag :\n",
    "            if temp_num >= threshold_lower_1:\n",
    "                lower_1 = i\n",
    "                lower_1_flag = True\n",
    "        elif not lower_2_flag:\n",
    "            if temp_num >= threshold_lower_2:\n",
    "                lower_2 = i\n",
    "                lower_2_flag = True\n",
    "        elif not upper_2_flag:\n",
    "            if temp_num >= threshold_upper_2:\n",
    "                upper_2 = i\n",
    "                upper_2_flag = True\n",
    "        else:\n",
    "            if temp_num >= threshold_upper_1:\n",
    "                upper_1 = i\n",
    "                break\n",
    "        \n",
    "    dataset_statistics[key]['B4_lower_1'] = EO_bin[lower_1]\n",
    "    dataset_statistics[key]['B4_lower_2'] = EO_bin[lower_2]\n",
    "    dataset_statistics[key]['B4_upper_1'] = EO_bin[upper_1]\n",
    "    dataset_statistics[key]['B4_upper_2'] = EO_bin[upper_2]\n",
    "    ###\n",
    "    threshold_upper_1 = np.sum(EO_total_histogram) * 0.99\n",
    "    threshold_lower_1 = np.sum(EO_total_histogram) * 0.01\n",
    "    threshold_upper_2 = np.sum(EO_total_histogram) * 0.98\n",
    "    threshold_lower_2 = np.sum(EO_total_histogram) * 0.02\n",
    "    \n",
    "    lower_1_flag = False\n",
    "    lower_2_flag = False\n",
    "    upper_2_flag = False\n",
    "    temp_num = 0\n",
    "    for i in range(len(EO_total_histogram)):\n",
    "        temp_num += EO_total_histogram[i]\n",
    "        if not lower_1_flag :\n",
    "            if temp_num >= threshold_lower_1:\n",
    "                lower_1 = i\n",
    "                lower_1_flag = True\n",
    "        elif not lower_2_flag:\n",
    "            if temp_num >= threshold_lower_2:\n",
    "                lower_2 = i\n",
    "                lower_2_flag = True\n",
    "        elif not upper_2_flag:\n",
    "            if temp_num >= threshold_upper_2:\n",
    "                upper_2 = i\n",
    "                upper_2_flag = True\n",
    "        else:\n",
    "            if temp_num >= threshold_upper_1:\n",
    "                upper_1 = i\n",
    "                break\n",
    "        \n",
    "    dataset_statistics[key]['EO_lower_1'] = EO_bin[lower_1]\n",
    "    dataset_statistics[key]['EO_lower_2'] = EO_bin[lower_2]\n",
    "    dataset_statistics[key]['EO_upper_1'] = EO_bin[upper_1]\n",
    "    dataset_statistics[key]['EO_upper_2'] = EO_bin[upper_2]"
   ]
  },
  {
   "cell_type": "code",
   "execution_count": 14,
   "metadata": {},
   "outputs": [
    {
     "name": "stderr",
     "output_type": "stream",
     "text": [
      "100%|██████████| 20/20 [13:22<00:00, 40.11s/it]\n"
     ]
    },
    {
     "data": {
      "image/png": "[encoded data removed]",
      "text/plain": [
       "<Figure size 640x480 with 1 Axes>"
      ]
     },
     "metadata": {},
     "output_type": "display_data"
    }
   ],
   "source": [
    "for key in tqdm(dataset_statistics.keys()):\n",
    "        \n",
    "        vv_histogram = dataset_statistics[key]['VV_histogram']\n",
    "        plt.bar([elem/2 for elem in list(range(-100, 0))], vv_histogram)\n",
    "        temp_path = 'statistics/'+key+'/SAR_VV_log.png'\n",
    "\n",
    "        lower_1 = dataset_statistics[key]['VV_lower_1']\n",
    "        upper_1 = dataset_statistics[key]['VV_upper_1']\n",
    "        lower_2 = dataset_statistics[key]['VV_lower_2']\n",
    "        upper_2 = dataset_statistics[key]['VV_upper_2']\n",
    "        plt.axvline(x = lower_1, color = 'r')\n",
    "        plt.axvline(x = upper_1, color = 'r')\n",
    "        plt.axvline(x = lower_2, color = 'b')\n",
    "        plt.axvline(x = upper_2, color = 'b')\n",
    "\n",
    "        plt.yscale('log')\n",
    "        plt.savefig(temp_path, dpi=400)\n",
    "        plt.yscale('linear')\n",
    "        temp_path = 'statistics/'+key+'/SAR_VV_linear.png'\n",
    "        plt.savefig(temp_path, dpi=400)\n",
    "        plt.cla()\n",
    "\n",
    "        vh_histogram = dataset_statistics[key]['VH_histogram']\n",
    "        plt.bar([elem/2 for elem in list(range(-100, 0))], vh_histogram)\n",
    "        temp_path = 'statistics/'+key+'/SAR_VH_log.png'\n",
    "\n",
    "        lower_1 = dataset_statistics[key]['VH_lower_1']\n",
    "        upper_1 = dataset_statistics[key]['VH_upper_1']\n",
    "        lower_2 = dataset_statistics[key]['VH_lower_2']\n",
    "        upper_2 = dataset_statistics[key]['VH_upper_2']\n",
    "        plt.axvline(x = lower_1, color = 'r')\n",
    "        plt.axvline(x = upper_1, color = 'r')\n",
    "        plt.axvline(x = lower_2, color = 'b')\n",
    "        plt.axvline(x = upper_2, color = 'b')\n",
    "\n",
    "        plt.yscale('log')\n",
    "        plt.savefig(temp_path, dpi=400)\n",
    "        plt.yscale('linear')\n",
    "        temp_path = 'statistics/'+key+'/SAR_VH_linear.png'\n",
    "        plt.savefig(temp_path, dpi=400)\n",
    "        plt.cla()\n",
    "\n",
    "        sar_histogram = dataset_statistics[key]['SAR_total_histogram']\n",
    "        plt.bar([elem/2 for elem in list(range(-100, 0))], sar_histogram)\n",
    "        temp_path = 'statistics/'+key+'/SAR_TOTAL_log.png'\n",
    "\n",
    "        lower_1 = dataset_statistics[key]['SAR_lower_1']\n",
    "        upper_1 = dataset_statistics[key]['SAR_upper_1']\n",
    "        lower_2 = dataset_statistics[key]['SAR_lower_2']\n",
    "        upper_2 = dataset_statistics[key]['SAR_upper_2']\n",
    "        plt.axvline(x = lower_1, color = 'r')\n",
    "        plt.axvline(x = upper_1, color = 'r')\n",
    "        plt.axvline(x = lower_2, color = 'b')\n",
    "        plt.axvline(x = upper_2, color = 'b')\n",
    "                \n",
    "        plt.yscale('log')\n",
    "        plt.savefig(temp_path, dpi=400)\n",
    "        plt.yscale('linear')\n",
    "        temp_path = 'statistics/'+key+'/SAR_TOTAL_linear.png'\n",
    "        plt.savefig(temp_path, dpi=400)\n",
    "        plt.cla()\n",
    "\n",
    "        b2_histogram = dataset_statistics[key]['B2_histogram']\n",
    "        plt.bar([elem for elem in list(range(0, 10000))], b2_histogram)\n",
    "        temp_path = 'statistics/'+key+'/EO_B2_log.png'\n",
    "\n",
    "        lower_1 = dataset_statistics[key]['B2_lower_1']\n",
    "        upper_1 = dataset_statistics[key]['B2_upper_1']\n",
    "        lower_2 = dataset_statistics[key]['B2_lower_2']\n",
    "        upper_2 = dataset_statistics[key]['B2_upper_2']\n",
    "        plt.axvline(x = lower_1, color = 'r')\n",
    "        plt.axvline(x = upper_1, color = 'r')\n",
    "        plt.axvline(x = lower_2, color = 'b')\n",
    "        plt.axvline(x = upper_2, color = 'b')\n",
    "\n",
    "        plt.yscale('log')\n",
    "        plt.savefig(temp_path, dpi=400)\n",
    "        plt.yscale('linear')\n",
    "        temp_path = 'statistics/'+key+'/EO_B2_linear.png'\n",
    "        plt.savefig(temp_path, dpi=400)\n",
    "        plt.cla()\n",
    "\n",
    "        b3_histogram = dataset_statistics[key]['B3_histogram']\n",
    "        plt.bar([elem for elem in list(range(0, 10000))], b3_histogram)\n",
    "        temp_path = 'statistics/'+key+'/EO_B3_log.png'\n",
    "\n",
    "        lower_1 = dataset_statistics[key]['B3_lower_1']\n",
    "        upper_1 = dataset_statistics[key]['B3_upper_1']\n",
    "        lower_2 = dataset_statistics[key]['B3_lower_2']\n",
    "        upper_2 = dataset_statistics[key]['B3_upper_2']\n",
    "        plt.axvline(x = lower_1, color = 'r')\n",
    "        plt.axvline(x = upper_1, color = 'r')\n",
    "        plt.axvline(x = lower_2, color = 'b')\n",
    "        plt.axvline(x = upper_2, color = 'b')\n",
    "\n",
    "        plt.yscale('log')\n",
    "        plt.savefig(temp_path, dpi=400)\n",
    "        plt.yscale('linear')\n",
    "        temp_path = 'statistics/'+key+'/EO_B3_linear.png'\n",
    "        plt.savefig(temp_path, dpi=400)\n",
    "        plt.cla()\n",
    "\n",
    "        b4_histogram = dataset_statistics[key]['B4_histogram']\n",
    "        plt.bar([elem for elem in list(range(0, 10000))], b4_histogram)\n",
    "        temp_path = 'statistics/'+key+'/EO_B4_log.png'\n",
    "\n",
    "        lower_1 = dataset_statistics[key]['B4_lower_1']\n",
    "        upper_1 = dataset_statistics[key]['B4_upper_1']\n",
    "        lower_2 = dataset_statistics[key]['B4_lower_2']\n",
    "        upper_2 = dataset_statistics[key]['B4_upper_2']\n",
    "        plt.axvline(x = lower_1, color = 'r')\n",
    "        plt.axvline(x = upper_1, color = 'r')\n",
    "        plt.axvline(x = lower_2, color = 'b')\n",
    "        plt.axvline(x = upper_2, color = 'b')\n",
    "\n",
    "        plt.yscale('log')\n",
    "        plt.savefig(temp_path, dpi=400)\n",
    "        plt.yscale('linear')\n",
    "        temp_path = 'statistics/'+key+'/EO_B4_linear.png'\n",
    "        plt.savefig(temp_path, dpi=400)\n",
    "        plt.cla()\n",
    "\n",
    "        eo_histogram = dataset_statistics[key]['EO_total_histogram']\n",
    "        plt.bar([elem for elem in list(range(0, 10000))], eo_histogram)\n",
    "        temp_path = 'statistics/'+key+'/EO_TOTAL_log.png'\n",
    "\n",
    "        lower_1 = dataset_statistics[key]['EO_lower_1']\n",
    "        upper_1 = dataset_statistics[key]['EO_upper_1']\n",
    "        lower_2 = dataset_statistics[key]['EO_lower_2']\n",
    "        upper_2 = dataset_statistics[key]['EO_upper_2']\n",
    "        plt.axvline(x = lower_1, color = 'r')\n",
    "        plt.axvline(x = upper_1, color = 'r')\n",
    "        plt.axvline(x = lower_2, color = 'b')\n",
    "        plt.axvline(x = upper_2, color = 'b')\n",
    "\n",
    "        plt.yscale('log')\n",
    "        plt.savefig(temp_path, dpi=400)\n",
    "        plt.yscale('linear')\n",
    "        temp_path = 'statistics/'+key+'/EO_TOTAL_linear.png'\n",
    "        plt.savefig(temp_path, dpi=400)\n",
    "        plt.cla()\n"
   ]
  },
  {
   "cell_type": "code",
   "execution_count": 17,
   "metadata": {},
   "outputs": [],
   "source": [
    "for key in dataset_statistics.keys():\n",
    "    path = 'statistics/'+key+'.pickle'\n",
    "    with open(path, 'wb') as fw:\n",
    "        pickle.dump(dataset_statistics[key], fw)"
   ]
  },
  {
   "cell_type": "code",
   "execution_count": null,
   "metadata": {},
   "outputs": [
    {
     "name": "stderr",
     "output_type": "stream",
     "text": [
      "100%|██████████| 24378/24378 [02:51<00:00, 141.91it/s]\n"
     ]
    },
    {
     "name": "stdout",
     "output_type": "stream",
     "text": [
      "sen12mscr_train_spring\n",
      "-8.804799\n",
      "3.6306603\n",
      "-8.337405\n",
      "3.735127\n",
      "-1.1590022\n",
      "18.173878\n",
      "-1.157046\n",
      "18.809906\n",
      "-0.90758175\n",
      "19.257519\n",
      "========\n"
     ]
    },
    {
     "name": "stderr",
     "output_type": "stream",
     "text": [
      "100%|██████████| 29393/29393 [03:34<00:00, 136.93it/s]\n"
     ]
    },
    {
     "name": "stdout",
     "output_type": "stream",
     "text": [
      "sen12mscr_train_summer\n",
      "-7.0760202\n",
      "3.4033563\n",
      "-6.439126\n",
      "3.3630133\n",
      "-3.9469652\n",
      "76.89437\n",
      "-2.9061513\n",
      "57.349598\n",
      "-1.6442516\n",
      "41.614246\n",
      "========\n"
     ]
    },
    {
     "name": "stderr",
     "output_type": "stream",
     "text": [
      "100%|██████████| 39376/39376 [04:42<00:00, 139.62it/s]\n"
     ]
    },
    {
     "name": "stdout",
     "output_type": "stream",
     "text": [
      "sen12mscr_train_fall\n",
      "-9.43716\n",
      "4.048251\n",
      "-5.7917204\n",
      "3.81947\n",
      "-4.248739\n",
      "98.01048\n",
      "-2.9756727\n",
      "78.71886\n",
      "-1.8257865\n",
      "50.46601\n",
      "========\n"
     ]
    },
    {
     "name": "stderr",
     "output_type": "stream",
     "text": [
      "100%|██████████| 13995/13995 [01:39<00:00, 140.46it/s]\n"
     ]
    },
    {
     "name": "stdout",
     "output_type": "stream",
     "text": [
      "sen12mscr_train_winter\n",
      "-7.3615227\n",
      "2.884234\n",
      "-6.6604304\n",
      "4.011864\n",
      "-3.9730866\n",
      "80.41979\n",
      "-2.6942818\n",
      "63.028023\n",
      "-1.6553774\n",
      "35.1092\n",
      "========\n"
     ]
    },
    {
     "name": "stderr",
     "output_type": "stream",
     "text": [
      "100%|██████████| 107142/107142 [12:49<00:00, 139.20it/s]\n"
     ]
    },
    {
     "name": "stdout",
     "output_type": "stream",
     "text": [
      "sen12mscr_train_all\n",
      "-8.7228565\n",
      "3.8128574\n",
      "-7.6589174\n",
      "3.6458952\n",
      "-2.0716186\n",
      "47.561024\n",
      "-1.8535179\n",
      "46.714462\n",
      "-1.3308519\n",
      "35.148\n",
      "========\n"
     ]
    },
    {
     "name": "stderr",
     "output_type": "stream",
     "text": [
      "100%|██████████| 3983/3983 [00:29<00:00, 136.80it/s]\n"
     ]
    },
    {
     "name": "stdout",
     "output_type": "stream",
     "text": [
      "sen12mscr_test_spring\n",
      "-6.3578353\n",
      "3.3668706\n",
      "-6.578855\n",
      "3.7074373\n",
      "-2.5308735\n",
      "83.52856\n",
      "-1.7388268\n",
      "62.704334\n",
      "-1.2991287\n",
      "48.83523\n",
      "========\n"
     ]
    },
    {
     "name": "stderr",
     "output_type": "stream",
     "text": [
      "100%|██████████| 1565/1565 [00:11<00:00, 135.91it/s]\n"
     ]
    },
    {
     "name": "stdout",
     "output_type": "stream",
     "text": [
      "sen12mscr_test_summer\n",
      "-5.9553185\n",
      "2.855249\n",
      "-7.074254\n",
      "4.511278\n",
      "-1.7873539\n",
      "46.841778\n",
      "-2.1621144\n",
      "47.84391\n",
      "-2.2014601\n",
      "41.7478\n",
      "========\n"
     ]
    },
    {
     "name": "stderr",
     "output_type": "stream",
     "text": [
      "100%|██████████| 784/784 [00:05<00:00, 135.38it/s]\n"
     ]
    },
    {
     "name": "stdout",
     "output_type": "stream",
     "text": [
      "sen12mscr_test_fall\n",
      "-7.0086775\n",
      "3.2864845\n",
      "-5.403223\n",
      "5.1478686\n",
      "-3.6649146\n",
      "55.246765\n",
      "-2.8247206\n",
      "72.30034\n",
      "-2.6300578\n",
      "44.370106\n",
      "========\n"
     ]
    },
    {
     "name": "stderr",
     "output_type": "stream",
     "text": [
      "100%|██████████| 1567/1567 [00:11<00:00, 137.54it/s]\n"
     ]
    },
    {
     "name": "stdout",
     "output_type": "stream",
     "text": [
      "sen12mscr_test_winter\n",
      "-5.697872\n",
      "2.360016\n",
      "-4.5859675\n",
      "3.3691325\n",
      "-3.2296906\n",
      "128.54599\n",
      "-2.0725205\n",
      "125.66852\n",
      "-1.6582652\n",
      "91.19592\n",
      "========\n"
     ]
    },
    {
     "name": "stderr",
     "output_type": "stream",
     "text": [
      "100%|██████████| 7899/7899 [00:57<00:00, 138.01it/s]\n"
     ]
    },
    {
     "name": "stdout",
     "output_type": "stream",
     "text": [
      "sen12mscr_test_all\n",
      "-6.948307\n",
      "3.5591214\n",
      "-6.8341303\n",
      "3.8221655\n",
      "-2.626291\n",
      "95.28149\n",
      "-1.9335803\n",
      "85.5678\n",
      "-1.5777462\n",
      "59.310204\n",
      "========\n"
     ]
    },
    {
     "name": "stderr",
     "output_type": "stream",
     "text": [
      "100%|██████████| 756/756 [00:05<00:00, 138.63it/s]\n"
     ]
    },
    {
     "name": "stdout",
     "output_type": "stream",
     "text": [
      "sen12mscr_val_spring\n",
      "-3.2930768\n",
      "3.7413478\n",
      "-4.1474795\n",
      "6.3464184\n",
      "-2.5218327\n",
      "58.947533\n",
      "-2.7256775\n",
      "34.701305\n",
      "-1.5525525\n",
      "27.780338\n",
      "========\n"
     ]
    },
    {
     "name": "stderr",
     "output_type": "stream",
     "text": [
      "100%|██████████| 2868/2868 [00:20<00:00, 139.57it/s]\n"
     ]
    },
    {
     "name": "stdout",
     "output_type": "stream",
     "text": [
      "sen12mscr_val_summer\n",
      "-7.764532\n",
      "4.265124\n",
      "-6.0877786\n",
      "4.7933645\n",
      "-1.6253207\n",
      "20.486807\n",
      "-1.7618676\n",
      "14.0592375\n",
      "-1.4742811\n",
      "12.748058\n",
      "========\n"
     ]
    },
    {
     "name": "stderr",
     "output_type": "stream",
     "text": [
      "100%|██████████| 781/781 [00:05<00:00, 138.20it/s]\n"
     ]
    },
    {
     "name": "stdout",
     "output_type": "stream",
     "text": [
      "sen12mscr_val_fall\n",
      "-6.2617254\n",
      "3.6349356\n",
      "-6.8573127\n",
      "5.6837816\n",
      "-2.9509609\n",
      "24.195637\n",
      "-2.922509\n",
      "11.283197\n",
      "-2.7774417\n",
      "9.248677\n",
      "========\n"
     ]
    },
    {
     "name": "stderr",
     "output_type": "stream",
     "text": [
      "100%|██████████| 2771/2771 [00:19<00:00, 140.11it/s]\n"
     ]
    },
    {
     "name": "stdout",
     "output_type": "stream",
     "text": [
      "sen12mscr_val_winter\n",
      "-4.8906045\n",
      "2.9226274\n",
      "-3.3758676\n",
      "3.799006\n",
      "-4.3244705\n",
      "44.246857\n",
      "-3.0142832\n",
      "41.63653\n",
      "-1.7410089\n",
      "35.012554\n",
      "========\n"
     ]
    },
    {
     "name": "stderr",
     "output_type": "stream",
     "text": [
      "100%|██████████| 7176/7176 [00:52<00:00, 137.79it/s]\n"
     ]
    },
    {
     "name": "stdout",
     "output_type": "stream",
     "text": [
      "sen12mscr_val_all\n",
      "-6.973457\n",
      "3.8667061\n",
      "-5.117841\n",
      "4.0743914\n",
      "-3.382379\n",
      "33.130737\n",
      "-2.4348993\n",
      "29.635927\n",
      "-1.4080721\n",
      "23.79898\n",
      "========\n"
     ]
    },
    {
     "name": "stderr",
     "output_type": "stream",
     "text": [
      "100%|██████████| 29117/29117 [03:31<00:00, 137.67it/s]\n"
     ]
    },
    {
     "name": "stdout",
     "output_type": "stream",
     "text": [
      "sen12mscr_spring\n",
      "-8.730852\n",
      "3.601269\n",
      "-8.377474\n",
      "3.7401435\n",
      "-1.2097267\n",
      "20.962418\n",
      "-1.1969552\n",
      "20.718405\n",
      "-0.9241168\n",
      "20.751822\n",
      "========\n"
     ]
    },
    {
     "name": "stderr",
     "output_type": "stream",
     "text": [
      "100%|██████████| 33826/33826 [04:05<00:00, 137.67it/s]\n"
     ]
    },
    {
     "name": "stdout",
     "output_type": "stream",
     "text": [
      "sen12mscr_summer\n",
      "-7.292373\n",
      "3.4995804\n",
      "-6.6564493\n",
      "3.4744663\n",
      "-3.6917653\n",
      "69.989204\n",
      "-2.6924767\n",
      "50.93772\n",
      "-1.5957022\n",
      "37.557163\n",
      "========\n"
     ]
    },
    {
     "name": "stderr",
     "output_type": "stream",
     "text": [
      "100%|██████████| 40941/40941 [04:55<00:00, 138.46it/s]\n"
     ]
    },
    {
     "name": "stdout",
     "output_type": "stream",
     "text": [
      "sen12mscr_fall\n",
      "-9.509605\n",
      "4.0684924\n",
      "-5.8472867\n",
      "3.8551645\n",
      "-4.2842774\n",
      "98.30197\n",
      "-3.0115347\n",
      "79.0802\n",
      "-1.8559414\n",
      "50.629032\n",
      "========\n"
     ]
    },
    {
     "name": "stderr",
     "output_type": "stream",
     "text": [
      "100%|██████████| 18333/18333 [02:11<00:00, 138.94it/s]\n"
     ]
    },
    {
     "name": "stdout",
     "output_type": "stream",
     "text": [
      "sen12mscr_winter\n",
      "-7.198238\n",
      "2.8296285\n",
      "-6.272256\n",
      "3.8242202\n",
      "-3.9932795\n",
      "90.36602\n",
      "-2.690601\n",
      "65.21052\n",
      "-1.6621954\n",
      "37.328285\n",
      "========\n"
     ]
    },
    {
     "name": "stderr",
     "output_type": "stream",
     "text": [
      "100%|██████████| 122217/122217 [14:48<00:00, 137.62it/s]"
     ]
    },
    {
     "name": "stdout",
     "output_type": "stream",
     "text": [
      "sen12mscr\n",
      "-8.774454\n",
      "3.8343053\n",
      "-7.706666\n",
      "3.6730244\n",
      "-2.1560895\n",
      "49.56938\n",
      "-1.9084202\n",
      "48.036316\n",
      "-1.3632632\n",
      "35.76313\n",
      "========\n"
     ]
    },
    {
     "name": "stderr",
     "output_type": "stream",
     "text": [
      "\n"
     ]
    }
   ],
   "source": [
    "for key, val in datasets.items():\n",
    "    dataset_statistics[key]={}    \n",
    "    \n",
    "    VV_min = 10000\n",
    "    VV_max = -10000\n",
    "    VH_min = 10000\n",
    "    VH_max = -10000\n",
    "    B2_min = 10000\n",
    "    B2_max = -10000\n",
    "    B3_min = 10000\n",
    "    B3_max = -10000\n",
    "    B4_min = 10000\n",
    "    B4_max = -10000\n",
    "    \n",
    "    path = 'statistics/'+key+'.pickle'\n",
    "    with open(path, 'rb') as fr:\n",
    "        stat = pickle.load(fr)\n",
    "        vv_avg = stat['VV_avg']\n",
    "        vh_avg = stat['VH_avg']\n",
    "        b2_avg = stat['B2_avg']\n",
    "        b3_avg = stat['B3_avg']\n",
    "        b4_avg = stat['B4_avg']\n",
    "        vv_std = stat['VV_std']\n",
    "        vh_std = stat['VH_std']\n",
    "        b2_std = stat['B2_std']\n",
    "        b3_std = stat['B3_std']\n",
    "        b4_std = stat['B4_std']\n",
    "    \n",
    "    for sample in tqdm(val):\n",
    "        VV = sample['SAR']['S1'][0]\n",
    "        VH = sample['SAR']['S1'][1]\n",
    "        B2 = sample['EO']['S2'][2]\n",
    "        B3 = sample['EO']['S2'][1]\n",
    "        B4 = sample['EO']['S2'][0]\n",
    "        \n",
    "        VV -= vv_avg\n",
    "        VH -= vh_avg\n",
    "        B2 -= b2_avg\n",
    "        B3 -= b3_avg\n",
    "        B4 -= b4_avg\n",
    "        \n",
    "        VV /= vv_std\n",
    "        VH /= vh_std\n",
    "        B2 /= b2_std\n",
    "        B3 /= b3_std\n",
    "        B4 /= b4_std\n",
    "    \n",
    "        if VV_min > VV.min():\n",
    "            VV_min = VV.min()\n",
    "        if VV_max < VV.max():\n",
    "            VV_max = VV.max()\n",
    "            \n",
    "        if VH_min > VH.min():\n",
    "            VH_min = VH.min()\n",
    "        if VH_max < VH.max():\n",
    "            VH_max = VH.max()\n",
    "            \n",
    "        if B2_min > B2.min():\n",
    "            B2_min = B2.min()\n",
    "        if B2_max < B2.max():\n",
    "            B2_max = B2.max()\n",
    "            \n",
    "        if B3_min > B3.min():\n",
    "            B3_min = B3.min()\n",
    "        if B3_max < B3.max():\n",
    "            B3_max = B3.max()\n",
    "            \n",
    "        if B4_min > B4.min():\n",
    "            B4_min = B4.min()\n",
    "        if B4_max < B4.max():\n",
    "            B4_max = B4.max()\n",
    "            \n",
    "    print(key)\n",
    "    print(VV_min)\n",
    "    print(VV_max)\n",
    "    print(VH_min)\n",
    "    print(VH_max)\n",
    "    print(B2_min)\n",
    "    print(B2_max)\n",
    "    print(B3_min)\n",
    "    print(B3_max)\n",
    "    print(B4_min)\n",
    "    print(B4_max)\n",
    "    print('========')"
   ]
  },
  {
   "cell_type": "code",
   "execution_count": null,
   "metadata": {},
   "outputs": [
    {
     "name": "stderr",
     "output_type": "stream",
     "text": [
      "100%|██████████| 24378/24378 [03:51<00:00, 105.15it/s]\n",
      "100%|██████████| 29393/29393 [04:38<00:00, 105.36it/s]\n",
      "100%|██████████| 39376/39376 [06:16<00:00, 104.53it/s]\n",
      "100%|██████████| 13995/13995 [02:12<00:00, 105.63it/s]\n",
      "100%|██████████| 107142/107142 [17:12<00:00, 103.81it/s]\n",
      "100%|██████████| 3983/3983 [00:38<00:00, 102.93it/s]\n",
      "100%|██████████| 1565/1565 [00:14<00:00, 104.95it/s]\n",
      "100%|██████████| 784/784 [00:07<00:00, 102.61it/s]\n",
      "100%|██████████| 1567/1567 [00:15<00:00, 103.00it/s]\n",
      "100%|██████████| 7899/7899 [01:15<00:00, 104.91it/s]\n",
      "100%|██████████| 756/756 [00:07<00:00, 106.24it/s]\n",
      "100%|██████████| 2868/2868 [00:27<00:00, 105.86it/s]\n",
      "100%|██████████| 781/781 [00:07<00:00, 106.91it/s]\n",
      "100%|██████████| 2771/2771 [00:26<00:00, 105.49it/s]\n",
      "100%|██████████| 7176/7176 [01:08<00:00, 104.87it/s]\n",
      "100%|██████████| 29117/29117 [04:43<00:00, 102.68it/s]\n",
      "100%|██████████| 33826/33826 [05:25<00:00, 103.87it/s]\n",
      "100%|██████████| 40941/40941 [06:30<00:00, 104.81it/s]\n",
      "100%|██████████| 18333/18333 [02:56<00:00, 104.05it/s]\n",
      "100%|██████████| 122217/122217 [19:29<00:00, 104.50it/s]\n"
     ]
    }
   ],
   "source": [
    "normalized_dataset_statistics = {}\n",
    "\n",
    "for key, val in datasets.items():\n",
    "    os.makedirs('normalized_statistics/'+key, exist_ok=True)\n",
    "    normalized_dataset_statistics[key]={}\n",
    "    \n",
    "    VV_histogram = np.zeros((200), dtype=np.int64)\n",
    "    VH_histogram = np.zeros((200), dtype=np.int64)\n",
    "    SAR_total_histogram = np.zeros((200), dtype=np.int64)\n",
    "    B2_histogram = np.zeros((200), dtype=np.int64)\n",
    "    B3_histogram = np.zeros((200), dtype=np.int64)\n",
    "    B4_histogram = np.zeros((200), dtype=np.int64)\n",
    "    EO_total_histogram = np.zeros((200), dtype=np.int64)\n",
    "    \n",
    "    path = 'statistics/'+key+'.pickle'\n",
    "    with open(path, 'rb') as fr:\n",
    "        stat = pickle.load(fr)\n",
    "        vv_avg = stat['VV_avg']\n",
    "        vh_avg = stat['VH_avg']\n",
    "        b2_avg = stat['B2_avg']\n",
    "        b3_avg = stat['B3_avg']\n",
    "        b4_avg = stat['B4_avg']\n",
    "        vv_std = stat['VV_std']\n",
    "        vh_std = stat['VH_std']\n",
    "        b2_std = stat['B2_std']\n",
    "        b3_std = stat['B3_std']\n",
    "        b4_std = stat['B4_std']\n",
    "    \n",
    "    for sample in tqdm(val):\n",
    "        VV = sample['SAR']['S1'][0]\n",
    "        VH = sample['SAR']['S1'][1]\n",
    "        B2 = sample['EO']['S2'][2]\n",
    "        B3 = sample['EO']['S2'][1]\n",
    "        B4 = sample['EO']['S2'][0]\n",
    "\n",
    "        VV -= vv_avg\n",
    "        VH -= vh_avg\n",
    "        B2 -= b2_avg\n",
    "        B3 -= b3_avg\n",
    "        B4 -= b4_avg\n",
    "        \n",
    "        VV /= vv_std\n",
    "        VH /= vh_std\n",
    "        B2 /= b2_std\n",
    "        B3 /= b3_std\n",
    "        B4 /= b4_std\n",
    "        \n",
    "        temp_VV_histogram, temp_VV_bins = np.histogram(VV, bins=200, range=(-10.0, 10.0))\n",
    "        temp_VH_histogram, temp_VH_bins = np.histogram(VH, bins=200, range=(-10.0, 10.0))\n",
    "        temp_B2_histogram, temp_B2_bins = np.histogram(B2, bins=200, range=(-10.0, 10.0))\n",
    "        temp_B3_histogram, temp_B3_bins = np.histogram(B3, bins=200, range=(-10.0, 10.0))\n",
    "        temp_B4_histogram, temp_B4_bins = np.histogram(B4, bins=200, range=(-10.0, 10.0))\n",
    "        \n",
    "        VV_histogram += temp_VV_histogram\n",
    "        VH_histogram += temp_VH_histogram\n",
    "        SAR_total_histogram += temp_VV_histogram\n",
    "        SAR_total_histogram += temp_VH_histogram\n",
    "        B2_histogram += temp_B2_histogram\n",
    "        B3_histogram += temp_B3_histogram\n",
    "        B4_histogram += temp_B4_histogram\n",
    "        EO_total_histogram += temp_B2_histogram\n",
    "        EO_total_histogram += temp_B3_histogram\n",
    "        EO_total_histogram += temp_B4_histogram\n",
    "    \n",
    "    normalized_dataset_statistics[key]['VV_histogram']=VV_histogram\n",
    "    normalized_dataset_statistics[key]['VH_histogram']=VH_histogram\n",
    "    normalized_dataset_statistics[key]['SAR_total_histogram']=SAR_total_histogram\n",
    "    normalized_dataset_statistics[key]['B2_histogram']=B2_histogram\n",
    "    normalized_dataset_statistics[key]['B3_histogram']=B3_histogram\n",
    "    normalized_dataset_statistics[key]['B4_histogram']=B4_histogram\n",
    "    normalized_dataset_statistics[key]['EO_total_histogram']=EO_total_histogram"
   ]
  },
  {
   "cell_type": "code",
   "execution_count": null,
   "metadata": {},
   "outputs": [],
   "source": [
    "for key in normalized_dataset_statistics.keys():\n",
    "    path = 'normalized_statistics/'+key+'.pickle'\n",
    "    with open(path, 'wb') as fw:\n",
    "        pickle.dump(normalized_dataset_statistics[key], fw)"
   ]
  },
  {
   "cell_type": "code",
   "execution_count": null,
   "metadata": {},
   "outputs": [
    {
     "name": "stderr",
     "output_type": "stream",
     "text": [
      "  0%|          | 0/20 [00:00<?, ?it/s]"
     ]
    },
    {
     "name": "stdout",
     "output_type": "stream",
     "text": [
      "sen12mscr_train_spring\n"
     ]
    },
    {
     "name": "stderr",
     "output_type": "stream",
     "text": [
      "  5%|▌         | 1/20 [00:05<01:43,  5.43s/it]"
     ]
    },
    {
     "name": "stdout",
     "output_type": "stream",
     "text": [
      "sen12mscr_train_summer\n"
     ]
    },
    {
     "name": "stderr",
     "output_type": "stream",
     "text": [
      " 10%|█         | 2/20 [00:10<01:32,  5.13s/it]"
     ]
    },
    {
     "name": "stdout",
     "output_type": "stream",
     "text": [
      "sen12mscr_train_fall\n"
     ]
    },
    {
     "name": "stderr",
     "output_type": "stream",
     "text": [
      " 15%|█▌        | 3/20 [00:15<01:23,  4.94s/it]"
     ]
    },
    {
     "name": "stdout",
     "output_type": "stream",
     "text": [
      "sen12mscr_train_winter\n"
     ]
    },
    {
     "name": "stderr",
     "output_type": "stream",
     "text": [
      " 20%|██        | 4/20 [00:20<01:19,  4.95s/it]"
     ]
    },
    {
     "name": "stdout",
     "output_type": "stream",
     "text": [
      "sen12mscr_train_all\n"
     ]
    },
    {
     "name": "stderr",
     "output_type": "stream",
     "text": [
      " 25%|██▌       | 5/20 [00:24<01:13,  4.92s/it]"
     ]
    },
    {
     "name": "stdout",
     "output_type": "stream",
     "text": [
      "sen12mscr_test_spring\n"
     ]
    },
    {
     "name": "stderr",
     "output_type": "stream",
     "text": [
      " 30%|███       | 6/20 [00:30<01:10,  5.00s/it]"
     ]
    },
    {
     "name": "stdout",
     "output_type": "stream",
     "text": [
      "sen12mscr_test_summer\n"
     ]
    },
    {
     "name": "stderr",
     "output_type": "stream",
     "text": [
      " 35%|███▌      | 7/20 [00:35<01:05,  5.02s/it]"
     ]
    },
    {
     "name": "stdout",
     "output_type": "stream",
     "text": [
      "sen12mscr_test_fall\n"
     ]
    },
    {
     "name": "stderr",
     "output_type": "stream",
     "text": [
      " 40%|████      | 8/20 [00:40<01:00,  5.01s/it]"
     ]
    },
    {
     "name": "stdout",
     "output_type": "stream",
     "text": [
      "sen12mscr_test_winter\n"
     ]
    },
    {
     "name": "stderr",
     "output_type": "stream",
     "text": [
      " 45%|████▌     | 9/20 [00:44<00:54,  4.97s/it]"
     ]
    },
    {
     "name": "stdout",
     "output_type": "stream",
     "text": [
      "sen12mscr_test_all\n"
     ]
    },
    {
     "name": "stderr",
     "output_type": "stream",
     "text": [
      " 50%|█████     | 10/20 [00:50<00:50,  5.00s/it]"
     ]
    },
    {
     "name": "stdout",
     "output_type": "stream",
     "text": [
      "sen12mscr_val_spring\n"
     ]
    },
    {
     "name": "stderr",
     "output_type": "stream",
     "text": [
      " 55%|█████▌    | 11/20 [00:55<00:44,  5.00s/it]"
     ]
    },
    {
     "name": "stdout",
     "output_type": "stream",
     "text": [
      "sen12mscr_val_summer\n"
     ]
    },
    {
     "name": "stderr",
     "output_type": "stream",
     "text": [
      " 60%|██████    | 12/20 [01:00<00:40,  5.02s/it]"
     ]
    },
    {
     "name": "stdout",
     "output_type": "stream",
     "text": [
      "sen12mscr_val_fall\n"
     ]
    },
    {
     "name": "stderr",
     "output_type": "stream",
     "text": [
      " 65%|██████▌   | 13/20 [01:05<00:35,  5.03s/it]"
     ]
    },
    {
     "name": "stdout",
     "output_type": "stream",
     "text": [
      "sen12mscr_val_winter\n"
     ]
    },
    {
     "name": "stderr",
     "output_type": "stream",
     "text": [
      " 70%|███████   | 14/20 [01:10<00:30,  5.03s/it]"
     ]
    },
    {
     "name": "stdout",
     "output_type": "stream",
     "text": [
      "sen12mscr_val_all\n"
     ]
    },
    {
     "name": "stderr",
     "output_type": "stream",
     "text": [
      " 75%|███████▌  | 15/20 [01:15<00:25,  5.02s/it]"
     ]
    },
    {
     "name": "stdout",
     "output_type": "stream",
     "text": [
      "sen12mscr_spring\n"
     ]
    },
    {
     "name": "stderr",
     "output_type": "stream",
     "text": [
      " 80%|████████  | 16/20 [01:19<00:19,  4.94s/it]"
     ]
    },
    {
     "name": "stdout",
     "output_type": "stream",
     "text": [
      "sen12mscr_summer\n"
     ]
    },
    {
     "name": "stderr",
     "output_type": "stream",
     "text": [
      " 85%|████████▌ | 17/20 [01:24<00:14,  4.95s/it]"
     ]
    },
    {
     "name": "stdout",
     "output_type": "stream",
     "text": [
      "sen12mscr_fall\n"
     ]
    },
    {
     "name": "stderr",
     "output_type": "stream",
     "text": [
      " 90%|█████████ | 18/20 [01:29<00:09,  4.87s/it]"
     ]
    },
    {
     "name": "stdout",
     "output_type": "stream",
     "text": [
      "sen12mscr_winter\n"
     ]
    },
    {
     "name": "stderr",
     "output_type": "stream",
     "text": [
      " 95%|█████████▌| 19/20 [01:34<00:04,  4.86s/it]"
     ]
    },
    {
     "name": "stdout",
     "output_type": "stream",
     "text": [
      "sen12mscr\n"
     ]
    },
    {
     "name": "stderr",
     "output_type": "stream",
     "text": [
      "100%|██████████| 20/20 [01:39<00:00,  4.96s/it]\n"
     ]
    },
    {
     "data": {
      "image/png": "[encoded data removed]",
      "text/plain": [
       "<Figure size 640x480 with 1 Axes>"
      ]
     },
     "metadata": {},
     "output_type": "display_data"
    }
   ],
   "source": [
    "for key in tqdm(dataset_statistics.keys()):\n",
    "    path = 'normalized_statistics/'+key+'.pickle'\n",
    "    with open (path, 'rb') as fr:\n",
    "        statistic = pickle.load(fr)\n",
    "        os.makedirs('normalized_statistics/'+key, exist_ok=True)\n",
    "        \n",
    "        vv_histogram = statistic['VV_histogram']\n",
    "        plt.bar([elem/10 for elem in list(range(-100, 100))], vv_histogram)\n",
    "        plt.xticks([-10+i for i in range(21)])\n",
    "        temp_path = 'normalized_statistics/'+key+'/SAR_VV_log.png'\n",
    "        plt.yscale('log')\n",
    "        plt.savefig(temp_path, dpi=400)\n",
    "        plt.yscale('linear')\n",
    "        temp_path = 'normalized_statistics/'+key+'/SAR_VV_linear.png'\n",
    "        plt.savefig(temp_path, dpi=400)\n",
    "        plt.cla()\n",
    "        \n",
    "        vh_histogram = statistic['VH_histogram']\n",
    "        plt.bar([elem/10 for elem in list(range(-100, 100))], vh_histogram)\n",
    "        plt.xticks([-10+i for i in range(21)])\n",
    "        temp_path = 'normalized_statistics/'+key+'/SAR_VH_log.png'\n",
    "        plt.yscale('log')\n",
    "        plt.savefig(temp_path, dpi=400)\n",
    "        plt.yscale('linear')\n",
    "        temp_path = 'normalized_statistics/'+key+'/SAR_VH_linear.png'\n",
    "        plt.savefig(temp_path, dpi=400)\n",
    "        plt.cla()\n",
    "        \n",
    "        sar_histogram = statistic['SAR_total_histogram']\n",
    "        plt.bar([elem/10 for elem in list(range(-100, 100))], sar_histogram)\n",
    "        plt.xticks([-10+i for i in range(21)])\n",
    "        temp_path = 'normalized_statistics/'+key+'/SAR_TOTAL_log.png'\n",
    "        plt.yscale('log')\n",
    "        plt.savefig(temp_path, dpi=400)\n",
    "        plt.yscale('linear')\n",
    "        temp_path = 'normalized_statistics/'+key+'/SAR_TOTAL_linear.png'\n",
    "        plt.savefig(temp_path, dpi=400)\n",
    "        plt.cla()\n",
    "        \n",
    "        b2_histogram = statistic['B2_histogram']\n",
    "        plt.bar([elem/10 for elem in list(range(-100, 100))], b2_histogram)\n",
    "        plt.xticks([-10+i for i in range(21)])\n",
    "        temp_path = 'normalized_statistics/'+key+'/EO_B2_log.png'\n",
    "        plt.yscale('log')\n",
    "        plt.savefig(temp_path, dpi=400)\n",
    "        plt.yscale('linear')\n",
    "        temp_path = 'normalized_statistics/'+key+'/EO_B2_linear.png'\n",
    "        plt.savefig(temp_path, dpi=400)\n",
    "        plt.cla()\n",
    "        \n",
    "        b3_histogram = statistic['B3_histogram']\n",
    "        plt.bar([elem/10 for elem in list(range(-100, 100))], b3_histogram)\n",
    "        plt.xticks([-10+i for i in range(21)])\n",
    "        temp_path = 'normalized_statistics/'+key+'/EO_B3_log.png'\n",
    "        plt.yscale('log')\n",
    "        plt.savefig(temp_path, dpi=400)\n",
    "        plt.yscale('linear')\n",
    "        temp_path = 'normalized_statistics/'+key+'/EO_B3_linear.png'\n",
    "        plt.savefig(temp_path, dpi=400)\n",
    "        plt.cla()\n",
    "        \n",
    "        b4_histogram = statistic['B4_histogram']\n",
    "        plt.bar([elem/10 for elem in list(range(-100, 100))], b4_histogram)\n",
    "        plt.xticks([-10+i for i in range(21)])\n",
    "        temp_path = 'normalized_statistics/'+key+'/EO_B4_log.png'\n",
    "        plt.yscale('log')\n",
    "        plt.savefig(temp_path, dpi=400)\n",
    "        plt.yscale('linear')\n",
    "        temp_path = 'normalized_statistics/'+key+'/EO_B4_linear.png'\n",
    "        plt.savefig(temp_path, dpi=400)\n",
    "        plt.cla()\n",
    "        \n",
    "        eo_histogram = statistic['EO_total_histogram']\n",
    "        plt.bar([elem/10 for elem in list(range(-100, 100))], eo_histogram)\n",
    "        plt.xticks([-10+i for i in range(21)])\n",
    "        temp_path = 'normalized_statistics/'+key+'/EO_TOTAL_log.png'\n",
    "        plt.yscale('log')\n",
    "        plt.savefig(temp_path, dpi=400)\n",
    "        plt.yscale('linear')\n",
    "        temp_path = 'normalized_statistics/'+key+'/EO_TOTAL_linear.png'\n",
    "        plt.savefig(temp_path, dpi=400)\n",
    "        plt.cla()\n"
   ]
  },
  {
   "cell_type": "code",
   "execution_count": null,
   "metadata": {},
   "outputs": [
    {
     "name": "stderr",
     "output_type": "stream",
     "text": [
      "100%|██████████| 24378/24378 [04:13<00:00, 96.17it/s] \n",
      "100%|██████████| 29393/29393 [05:11<00:00, 94.49it/s] \n",
      "100%|██████████| 39376/39376 [06:56<00:00, 94.50it/s] \n",
      "100%|██████████| 13995/13995 [02:27<00:00, 94.92it/s]\n",
      "100%|██████████| 107142/107142 [18:36<00:00, 96.00it/s] \n",
      "100%|██████████| 3983/3983 [00:42<00:00, 93.56it/s]\n",
      "100%|██████████| 1565/1565 [00:17<00:00, 91.49it/s]\n",
      "100%|██████████| 784/784 [00:08<00:00, 90.79it/s]\n",
      "100%|██████████| 1567/1567 [00:16<00:00, 94.07it/s]\n",
      "100%|██████████| 7899/7899 [01:25<00:00, 92.91it/s]\n",
      "100%|██████████| 756/756 [00:08<00:00, 91.25it/s]\n",
      "100%|██████████| 2868/2868 [00:30<00:00, 93.47it/s]\n",
      "100%|██████████| 781/781 [00:08<00:00, 92.09it/s]\n",
      "100%|██████████| 2771/2771 [00:29<00:00, 94.54it/s] \n",
      "100%|██████████| 7176/7176 [01:15<00:00, 94.53it/s] \n",
      "100%|██████████| 29117/29117 [05:04<00:00, 95.61it/s] \n",
      "100%|██████████| 33826/33826 [06:05<00:00, 92.45it/s] \n",
      "100%|██████████| 40941/40941 [07:14<00:00, 94.13it/s] \n",
      "100%|██████████| 18333/18333 [03:17<00:00, 92.94it/s] \n",
      "100%|██████████| 122217/122217 [21:27<00:00, 94.91it/s] \n"
     ]
    }
   ],
   "source": [
    "normalized_clip_dataset_statistics = {}\n",
    "\n",
    "for key, val in datasets.items():\n",
    "    os.makedirs('normalized_clip_statistics/'+key, exist_ok=True)\n",
    "    normalized_clip_dataset_statistics[key]={}\n",
    "    \n",
    "    VV_histogram = np.zeros((200), dtype=np.int64)\n",
    "    VH_histogram = np.zeros((200), dtype=np.int64)\n",
    "    SAR_total_histogram = np.zeros((200), dtype=np.int64)\n",
    "    B2_histogram = np.zeros((200), dtype=np.int64)\n",
    "    B3_histogram = np.zeros((200), dtype=np.int64)\n",
    "    B4_histogram = np.zeros((200), dtype=np.int64)\n",
    "    EO_total_histogram = np.zeros((200), dtype=np.int64)\n",
    "    \n",
    "    path = 'statistics/'+key+'.pickle'\n",
    "    with open(path, 'rb') as fr:\n",
    "        stat = pickle.load(fr)\n",
    "        vv_avg = stat['VV_avg']\n",
    "        vh_avg = stat['VH_avg']\n",
    "        b2_avg = stat['B2_avg']\n",
    "        b3_avg = stat['B3_avg']\n",
    "        b4_avg = stat['B4_avg']\n",
    "        vv_std = stat['VV_std']\n",
    "        vh_std = stat['VH_std']\n",
    "        b2_std = stat['B2_std']\n",
    "        b3_std = stat['B3_std']\n",
    "        b4_std = stat['B4_std']\n",
    "    \n",
    "    for sample in tqdm(val):\n",
    "        VV = sample['SAR']['S1'][0]\n",
    "        VH = sample['SAR']['S1'][1]\n",
    "        B2 = sample['EO']['S2'][2]\n",
    "        B3 = sample['EO']['S2'][1]\n",
    "        B4 = sample['EO']['S2'][0]\n",
    "\n",
    "        VV -= vv_avg\n",
    "        VH -= vh_avg\n",
    "        B2 -= b2_avg\n",
    "        B3 -= b3_avg\n",
    "        B4 -= b4_avg\n",
    "        \n",
    "        VV /= vv_std\n",
    "        VH /= vh_std\n",
    "        B2 /= b2_std\n",
    "        B3 /= b3_std\n",
    "        B4 /= b4_std\n",
    "        \n",
    "        VV = np.clip(VV, -1.0, 1.0)\n",
    "        VH = np.clip(VH, -1.0, 1.0)\n",
    "        B2 = np.clip(B2, -1.0, 1.0)\n",
    "        B3 = np.clip(B3, -1.0, 1.0)\n",
    "        B4 = np.clip(B4, -1.0, 1.0)\n",
    "        \n",
    "        temp_VV_histogram, temp_VV_bins = np.histogram(VV, bins=200, range=(-1.0, 1.0))\n",
    "        temp_VH_histogram, temp_VH_bins = np.histogram(VH, bins=200, range=(-1.0, 1.0))\n",
    "        temp_B2_histogram, temp_B2_bins = np.histogram(B2, bins=200, range=(-1.0, 1.0))\n",
    "        temp_B3_histogram, temp_B3_bins = np.histogram(B3, bins=200, range=(-1.0, 1.0))\n",
    "        temp_B4_histogram, temp_B4_bins = np.histogram(B4, bins=200, range=(-1.0, 1.0))\n",
    "        \n",
    "        VV_histogram += temp_VV_histogram\n",
    "        VH_histogram += temp_VH_histogram\n",
    "        SAR_total_histogram += temp_VV_histogram\n",
    "        SAR_total_histogram += temp_VH_histogram\n",
    "        B2_histogram += temp_B2_histogram\n",
    "        B3_histogram += temp_B3_histogram\n",
    "        B4_histogram += temp_B4_histogram\n",
    "        EO_total_histogram += temp_B2_histogram\n",
    "        EO_total_histogram += temp_B3_histogram\n",
    "        EO_total_histogram += temp_B4_histogram\n",
    "    \n",
    "    normalized_clip_dataset_statistics[key]['VV_histogram']=VV_histogram\n",
    "    normalized_clip_dataset_statistics[key]['VH_histogram']=VH_histogram\n",
    "    normalized_clip_dataset_statistics[key]['SAR_total_histogram']=SAR_total_histogram\n",
    "    normalized_clip_dataset_statistics[key]['B2_histogram']=B2_histogram\n",
    "    normalized_clip_dataset_statistics[key]['B3_histogram']=B3_histogram\n",
    "    normalized_clip_dataset_statistics[key]['B4_histogram']=B4_histogram\n",
    "    normalized_clip_dataset_statistics[key]['EO_total_histogram']=EO_total_histogram"
   ]
  },
  {
   "cell_type": "code",
   "execution_count": null,
   "metadata": {},
   "outputs": [],
   "source": [
    "for key in normalized_clip_dataset_statistics.keys():\n",
    "    path = 'normalized_clip_statistics/'+key+'.pickle'\n",
    "    with open(path, 'wb') as fw:\n",
    "        pickle.dump(normalized_clip_dataset_statistics[key], fw)"
   ]
  },
  {
   "cell_type": "code",
   "execution_count": null,
   "metadata": {},
   "outputs": [
    {
     "name": "stderr",
     "output_type": "stream",
     "text": [
      "100%|██████████| 20/20 [01:28<00:00,  4.44s/it]\n"
     ]
    },
    {
     "data": {
      "image/png": "[encoded data removed]",
      "text/plain": [
       "<Figure size 640x480 with 1 Axes>"
      ]
     },
     "metadata": {},
     "output_type": "display_data"
    }
   ],
   "source": [
    "for key in tqdm(normalized_clip_dataset_statistics.keys()):\n",
    "    path = 'normalized_clip_statistics/'+key+'.pickle'\n",
    "    with open (path, 'rb') as fr:\n",
    "        statistic = pickle.load(fr)\n",
    "        \n",
    "        vv_histogram = statistic['VV_histogram']\n",
    "        plt.bar([elem/100 for elem in list(range(-100, 100))], vv_histogram, width=0.008)\n",
    "        plt.xticks([-1+i*0.1 for i in range(21)])\n",
    "        temp_path = 'normalized_clip_statistics/'+key+'/SAR_VV_log.png'\n",
    "        plt.yscale('log')\n",
    "        plt.savefig(temp_path, dpi=400)\n",
    "        plt.yscale('linear')\n",
    "        temp_path = 'normalized_clip_statistics/'+key+'/SAR_VV_linear.png'\n",
    "        plt.savefig(temp_path, dpi=400)\n",
    "        plt.cla()\n",
    "        \n",
    "        vh_histogram = statistic['VH_histogram']\n",
    "        plt.bar([elem/100 for elem in list(range(-100, 100))], vh_histogram, width=0.008)\n",
    "        plt.xticks([-1+i*0.1 for i in range(21)])\n",
    "        temp_path = 'normalized_clip_statistics/'+key+'/SAR_VH_log.png'\n",
    "        plt.yscale('log')\n",
    "        plt.savefig(temp_path, dpi=400)\n",
    "        plt.yscale('linear')\n",
    "        temp_path = 'normalized_clip_statistics/'+key+'/SAR_VH_linear.png'\n",
    "        plt.savefig(temp_path, dpi=400)\n",
    "        plt.cla()\n",
    "        \n",
    "        sar_histogram = statistic['SAR_total_histogram']\n",
    "        plt.bar([elem/100 for elem in list(range(-100, 100))], sar_histogram, width=0.008)\n",
    "        plt.xticks([-1+i*0.1 for i in range(21)])\n",
    "        temp_path = 'normalized_clip_statistics/'+key+'/SAR_TOTAL_log.png'\n",
    "        plt.yscale('log')\n",
    "        plt.savefig(temp_path, dpi=400)\n",
    "        plt.yscale('linear')\n",
    "        temp_path = 'normalized_clip_statistics/'+key+'/SAR_TOTAL_linear.png'\n",
    "        plt.savefig(temp_path, dpi=400)\n",
    "        plt.cla()\n",
    "        \n",
    "        b2_histogram = statistic['B2_histogram']\n",
    "        plt.bar([elem/100 for elem in list(range(-100, 100))], b2_histogram, width=0.008)\n",
    "        plt.xticks([-1+i*0.1 for i in range(21)])\n",
    "        temp_path = 'normalized_clip_statistics/'+key+'/EO_B2_log.png'\n",
    "        plt.yscale('log')\n",
    "        plt.savefig(temp_path, dpi=400)\n",
    "        plt.yscale('linear')\n",
    "        temp_path = 'normalized_clip_statistics/'+key+'/EO_B2_linear.png'\n",
    "        plt.savefig(temp_path, dpi=400)\n",
    "        plt.cla()\n",
    "        \n",
    "        b3_histogram = statistic['B3_histogram']\n",
    "        plt.bar([elem/100 for elem in list(range(-100, 100))], b3_histogram, width=0.008)\n",
    "        plt.xticks([-1+i*0.1 for i in range(21)])\n",
    "        temp_path = 'normalized_clip_statistics/'+key+'/EO_B3_log.png'\n",
    "        plt.yscale('log')\n",
    "        plt.savefig(temp_path, dpi=400)\n",
    "        plt.yscale('linear')\n",
    "        temp_path = 'normalized_clip_statistics/'+key+'/EO_B3_linear.png'\n",
    "        plt.savefig(temp_path, dpi=400)\n",
    "        plt.cla()\n",
    "        \n",
    "        b4_histogram = statistic['B4_histogram']\n",
    "        plt.bar([elem/100 for elem in list(range(-100, 100))], b4_histogram, width=0.008)\n",
    "        plt.xticks([-1+i*0.1 for i in range(21)])\n",
    "        temp_path = 'normalized_clip_statistics/'+key+'/EO_B4_log.png'\n",
    "        plt.yscale('log')\n",
    "        plt.savefig(temp_path, dpi=400)\n",
    "        plt.yscale('linear')\n",
    "        temp_path = 'normalized_clip_statistics/'+key+'/EO_B4_linear.png'\n",
    "        plt.savefig(temp_path, dpi=400)\n",
    "        plt.cla()\n",
    "        \n",
    "        eo_histogram = statistic['EO_total_histogram']\n",
    "        plt.bar([elem/100 for elem in list(range(-100, 100))], eo_histogram, width=0.008)\n",
    "        plt.xticks([-1+i*0.1 for i in range(21)])\n",
    "        temp_path = 'normalized_clip_statistics/'+key+'/EO_TOTAL_log.png'\n",
    "        plt.yscale('log')\n",
    "        plt.savefig(temp_path, dpi=400)\n",
    "        plt.yscale('linear')\n",
    "        temp_path = 'normalized_clip_statistics/'+key+'/EO_TOTAL_linear.png'\n",
    "        plt.savefig(temp_path, dpi=400)\n",
    "        plt.cla()\n"
   ]
  },
  {
   "cell_type": "code",
   "execution_count": null,
   "metadata": {},
   "outputs": [],
   "source": [
    "clip_1_dataset_statistics = {}\n",
    "for key, val in datasets.items():\n",
    "    os.makedirs('clip_1_statistics/'+key, exist_ok=True)\n",
    "    path = 'statistics/'+key+'.pickle'\n",
    "    with open(path, 'rb') as fr:\n",
    "        stat = pickle.load(fr)\n",
    "        EO_lower = stat['EO_lower_1']\n",
    "        EO_upper = stat['EO_upper_1']\n",
    "        SAR_lower = stat['SAR_lower_1']\n",
    "        SAR_upper = stat['SAR_upper_1']\n",
    "    \n",
    "    clip_1_dataset_statistics[key]={}\n",
    "    \n",
    "    VV_avg = 0\n",
    "    VH_avg = 0\n",
    "    B2_avg = 0\n",
    "    B3_avg = 0\n",
    "    B4_avg = 0\n",
    "    VV_histogram = np.zeros((100), dtype=np.int64)\n",
    "    VH_histogram = np.zeros((100), dtype=np.int64)\n",
    "    SAR_total_histogram = np.zeros((100), dtype=np.int64)\n",
    "    B2_histogram = np.zeros((10000), dtype=np.int64)\n",
    "    B3_histogram = np.zeros((10000), dtype=np.int64)\n",
    "    B4_histogram = np.zeros((10000), dtype=np.int64)\n",
    "    EO_total_histogram = np.zeros((10000), dtype=np.int64)\n",
    "    \n",
    "    for sample in tqdm(val):\n",
    "        VV = sample['SAR']['S1'][0]\n",
    "        VH = sample['SAR']['S1'][1]\n",
    "        B2 = sample['EO']['S2'][2]\n",
    "        B3 = sample['EO']['S2'][1]\n",
    "        B4 = sample['EO']['S2'][0]\n",
    "        \n",
    "        VV = np.clip(VV, SAR_lower, SAR_upper)\n",
    "        VH = np.clip(VH, SAR_lower, SAR_upper)\n",
    "        B2 = np.clip(VV, EO_lower, EO_upper)\n",
    "        B3 = np.clip(VH, EO_lower, EO_upper)\n",
    "        B4 = np.clip(VH, EO_lower, EO_upper)\n",
    "        \n",
    "        VV_avg += np.sum(VV)/val_len/65536\n",
    "        VH_avg += np.sum(VH)/val_len/65536\n",
    "        B2_avg += np.sum(B2)/val_len/65536\n",
    "        B3_avg += np.sum(B3)/val_len/65536\n",
    "        B4_avg += np.sum(B4)/val_len/65536\n",
    "        \n",
    "        temp_VV_histogram, temp_VV_bins = np.histogram(VV, bins=100, range=(-50.0, 0.0))\n",
    "        temp_VH_histogram, temp_VH_bins = np.histogram(VH, bins=100, range=(-50.0, 0.0))\n",
    "        temp_B2_histogram, temp_B2_bins = np.histogram(B2, bins=10000, range=(0.0, 10000.0))\n",
    "        temp_B3_histogram, temp_B3_bins = np.histogram(B3, bins=10000, range=(0.0, 10000.0))\n",
    "        temp_B4_histogram, temp_B4_bins = np.histogram(B4, bins=10000, range=(0.0, 10000.0))\n",
    "        \n",
    "        VV_histogram += temp_VV_histogram\n",
    "        VH_histogram += temp_VH_histogram\n",
    "        SAR_total_histogram += temp_VV_histogram\n",
    "        SAR_total_histogram += temp_VH_histogram\n",
    "        B2_histogram += temp_B2_histogram\n",
    "        B3_histogram += temp_B3_histogram\n",
    "        B4_histogram += temp_B4_histogram\n",
    "        EO_total_histogram += temp_B2_histogram\n",
    "        EO_total_histogram += temp_B3_histogram\n",
    "        EO_total_histogram += temp_B4_histogram\n",
    "    \n",
    "    clip_1_dataset_statistics[key]={}\n",
    "    clip_1_dataset_statistics[key]['SAR_lower'] = SAR_lower\n",
    "    clip_1_dataset_statistics[key]['SAR_upper'] = SAR_upper\n",
    "    clip_1_dataset_statistics[key]['EO_lower'] = EO_lower\n",
    "    clip_1_dataset_statistics[key]['EO_upper'] = EO_upper\n",
    "    clip_1_dataset_statistics[key]['VV_avg']=VV_avg\n",
    "    clip_1_dataset_statistics[key]['VH_avg']=VH_avg\n",
    "    clip_1_dataset_statistics[key]['B2_avg']=B2_avg\n",
    "    clip_1_dataset_statistics[key]['B3_avg']=B3_avg\n",
    "    clip_1_dataset_statistics[key]['B4_avg']=B4_avg\n",
    "    clip_1_dataset_statistics[key]['VV_histogram']=VV_histogram\n",
    "    clip_1_dataset_statistics[key]['VH_histogram']=VH_histogram\n",
    "    clip_1_dataset_statistics[key]['SAR_total_histogram']=SAR_total_histogram\n",
    "    clip_1_dataset_statistics[key]['B2_histogram']=B2_histogram\n",
    "    clip_1_dataset_statistics[key]['B3_histogram']=B3_histogram\n",
    "    clip_1_dataset_statistics[key]['B4_histogram']=B4_histogram\n",
    "    clip_1_dataset_statistics[key]['EO_total_histogram']=EO_total_histogram\n",
    "\n",
    "for key in clip_1_dataset_statistics.keys():\n",
    "    vv_avg = clip_1_dataset_statistics[key]['VV_avg']\n",
    "    vh_avg = clip_1_dataset_statistics[key]['VH_avg']\n",
    "    b2_avg = clip_1_dataset_statistics[key]['B2_avg']\n",
    "    b3_avg = clip_1_dataset_statistics[key]['B3_avg']\n",
    "    b4_avg = clip_1_dataset_statistics[key]['B4_avg']\n",
    "    path = 'statistics/'+key+'.pickle'\n",
    "    with open(path, 'rb') as fr:\n",
    "        stat = pickle.load(fr)\n",
    "        EO_lower = stat['EO_lower_1']\n",
    "        EO_upper = stat['EO_upper_1']\n",
    "        SAR_lower = stat['SAR_lower_1']\n",
    "        SAR_upper = stat['SAR_upper_1']\n",
    "    \n",
    "    dataset = datasets[key]\n",
    "    val_len = len(dataset)\n",
    "    \n",
    "    VV_var = 0\n",
    "    VH_var = 0\n",
    "    B2_var = 0\n",
    "    B3_var = 0\n",
    "    B4_var = 0\n",
    "\n",
    "    for sample in tqdm(dataset):\n",
    "        VV = sample['SAR']['S1'][0]\n",
    "        VH = sample['SAR']['S1'][1]\n",
    "        B2 = sample['EO']['S2'][2]\n",
    "        B3 = sample['EO']['S2'][1]\n",
    "        B4 = sample['EO']['S2'][0]\n",
    "        \n",
    "        VV = np.clip(VV, SAR_lower, SAR_upper)\n",
    "        VH = np.clip(VH, SAR_lower, SAR_upper)\n",
    "        B2 = np.clip(VV, EO_lower, EO_upper)\n",
    "        B3 = np.clip(VH, EO_lower, EO_upper)\n",
    "        B4 = np.clip(VH, EO_lower, EO_upper)\n",
    "        \n",
    "        VV_var += np.sum(np.square(VV-vv_avg)) /val_len /65536\n",
    "        VH_var += np.sum(np.square(VH-vh_avg)) /val_len /65536\n",
    "        B2_var += np.sum(np.square(B2-b2_avg)) /val_len /65536\n",
    "        B3_var += np.sum(np.square(B3-b3_avg)) /val_len /65536\n",
    "        B4_var += np.sum(np.square(B4-b4_avg)) /val_len /65536\n",
    "    \n",
    "    VV_std = np.sqrt(VV_var)\n",
    "    VH_std = np.sqrt(VH_var)\n",
    "    B2_std = np.sqrt(B2_var)\n",
    "    B3_std = np.sqrt(B3_var)\n",
    "    B4_std = np.sqrt(B4_var)\n",
    "    \n",
    "    clip_1_dataset_statistics[key]['VV_var'] = VV_var\n",
    "    clip_1_dataset_statistics[key]['VH_var'] = VH_var\n",
    "    clip_1_dataset_statistics[key]['B2_var'] = B2_var\n",
    "    clip_1_dataset_statistics[key]['B3_var'] = B3_var\n",
    "    clip_1_dataset_statistics[key]['B4_var'] = B4_var\n",
    "    clip_1_dataset_statistics[key]['VV_std'] = VV_std\n",
    "    clip_1_dataset_statistics[key]['VH_std'] = VH_std\n",
    "    clip_1_dataset_statistics[key]['B2_std'] = B2_std\n",
    "    clip_1_dataset_statistics[key]['B3_std'] = B3_std\n",
    "    clip_1_dataset_statistics[key]['B4_std'] = B4_std"
   ]
  },
  {
   "cell_type": "code",
   "execution_count": null,
   "metadata": {},
   "outputs": [],
   "source": [
    "for key in clip_1_dataset_statistics.keys():\n",
    "    path = 'clip_1_statistics/'+key+'.pickle'\n",
    "    with open(path, 'wb') as fw:\n",
    "        pickle.dump(clip_1_dataset_statistics[key], fw)"
   ]
  },
  {
   "cell_type": "code",
   "execution_count": null,
   "metadata": {},
   "outputs": [],
   "source": [
    "for key in tqdm(clip_1_dataset_statistics.keys()):   \n",
    "    vv_histogram = clip_1_dataset_statistics[key]['VV_histogram']\n",
    "    plt.bar([elem/2 for elem in list(range(-100, 0))], vv_histogram)\n",
    "    temp_path = 'clip_1_statistics/'+key+'/SAR_VV_log.png'\n",
    "    plt.yscale('log')\n",
    "    plt.savefig(temp_path, dpi=400)\n",
    "    plt.yscale('linear')\n",
    "    temp_path = 'clip_1_statistics/'+key+'/SAR_VV_linear.png'\n",
    "    plt.savefig(temp_path, dpi=400)\n",
    "    plt.cla()\n",
    "    \n",
    "    vh_histogram = clip_1_dataset_statistics[key]['VH_histogram']\n",
    "    plt.bar([elem/2 for elem in list(range(-100, 0))], vh_histogram)\n",
    "    temp_path = 'clip_1_statistics/'+key+'/SAR_VH_log.png'\n",
    "    plt.yscale('log')\n",
    "    plt.savefig(temp_path, dpi=400)\n",
    "    plt.yscale('linear')\n",
    "    temp_path = 'clip_1_statistics/'+key+'/SAR_VH_linear.png'\n",
    "    plt.savefig(temp_path, dpi=400)\n",
    "    plt.cla()\n",
    "\n",
    "    sar_histogram = clip_1_dataset_statistics[key]['SAR_total_histogram']\n",
    "    plt.bar([elem/2 for elem in list(range(-100, 0))], sar_histogram)\n",
    "    temp_path = 'clip_1_statistics/'+key+'/SAR_TOTAL_log.png'\n",
    "    plt.yscale('log')\n",
    "    plt.savefig(temp_path, dpi=400)\n",
    "    plt.yscale('linear')\n",
    "    temp_path = 'clip_1_statistics/'+key+'/SAR_TOTAL_linear.png'\n",
    "    plt.savefig(temp_path, dpi=400)\n",
    "    plt.cla()\n",
    "    \n",
    "    b2_histogram = clip_1_dataset_statistics[key]['B2_histogram']\n",
    "    plt.bar([elem for elem in list(range(0, 10000))], b2_histogram)\n",
    "    temp_path = 'clip_1_statistics/'+key+'/EO_B2_log.png'\n",
    "    plt.yscale('log')\n",
    "    plt.savefig(temp_path, dpi=400)\n",
    "    plt.yscale('linear')\n",
    "    temp_path = 'clip_1_statistics/'+key+'/EO_B2_linear.png'\n",
    "    plt.savefig(temp_path, dpi=400)\n",
    "    plt.cla()\n",
    "    \n",
    "    b3_histogram = clip_1_dataset_statistics[key]['B3_histogram']\n",
    "    plt.bar([elem for elem in list(range(0, 10000))], b3_histogram)\n",
    "    temp_path = 'clip_1_statistics/'+key+'/EO_B3_log.png'\n",
    "    plt.yscale('log')\n",
    "    plt.savefig(temp_path, dpi=400)\n",
    "    plt.yscale('linear')\n",
    "    temp_path = 'clip_1_statistics/'+key+'/EO_B3_linear.png'\n",
    "    plt.savefig(temp_path, dpi=400)\n",
    "    plt.cla()\n",
    "    \n",
    "    b4_histogram = clip_1_dataset_statistics[key]['B4_histogram']\n",
    "    plt.bar([elem for elem in list(range(0, 10000))], b4_histogram)\n",
    "    temp_path = 'clip_1_statistics/'+key+'/EO_B4_log.png'\n",
    "    plt.yscale('log')\n",
    "    plt.savefig(temp_path, dpi=400)\n",
    "    plt.yscale('linear')\n",
    "    temp_path = 'clip_1_statistics/'+key+'/EO_B4_linear.png'\n",
    "    plt.savefig(temp_path, dpi=400)\n",
    "    plt.cla()\n",
    "    \n",
    "    eo_histogram = clip_1_dataset_statistics[key]['EO_total_histogram']\n",
    "    plt.bar([elem for elem in list(range(0, 10000))], eo_histogram)\n",
    "    temp_path = 'clip_1_statistics/'+key+'/EO_TOTAL_log.png'        \n",
    "    plt.yscale('log')\n",
    "    plt.savefig(temp_path, dpi=400)\n",
    "    plt.yscale('linear')\n",
    "    temp_path = 'clip_1_statistics/'+key+'/EO_TOTAL_linear.png'\n",
    "    plt.savefig(temp_path, dpi=400)\n",
    "    plt.cla()"
   ]
  },
  {
   "cell_type": "code",
   "execution_count": null,
   "metadata": {},
   "outputs": [],
   "source": [
    "clip_2_dataset_statistics = {}\n",
    "for key, val in datasets.items():\n",
    "    os.makedirs('clip_2_statistics/'+key, exist_ok=True)\n",
    "    path = 'statistics/'+key+'.pickle'\n",
    "    with open(path, 'rb') as fr:\n",
    "        stat = pickle.load(fr)\n",
    "        EO_lower = stat['EO_lower_2']\n",
    "        EO_upper = stat['EO_upper_2']\n",
    "        SAR_lower = stat['SAR_lower_2']\n",
    "        SAR_upper = stat['SAR_upper_2']\n",
    "    \n",
    "    clip_2_dataset_statistics[key]={}\n",
    "    \n",
    "    VV_avg = 0\n",
    "    VH_avg = 0\n",
    "    B2_avg = 0\n",
    "    B3_avg = 0\n",
    "    B4_avg = 0\n",
    "    VV_histogram = np.zeros((100), dtype=np.int64)\n",
    "    VH_histogram = np.zeros((100), dtype=np.int64)\n",
    "    SAR_total_histogram = np.zeros((100), dtype=np.int64)\n",
    "    B2_histogram = np.zeros((10000), dtype=np.int64)\n",
    "    B3_histogram = np.zeros((10000), dtype=np.int64)\n",
    "    B4_histogram = np.zeros((10000), dtype=np.int64)\n",
    "    EO_total_histogram = np.zeros((10000), dtype=np.int64)\n",
    "    \n",
    "    for sample in tqdm(val):\n",
    "        VV = sample['SAR']['S1'][0]\n",
    "        VH = sample['SAR']['S1'][1]\n",
    "        B2 = sample['EO']['S2'][2]\n",
    "        B3 = sample['EO']['S2'][1]\n",
    "        B4 = sample['EO']['S2'][0]\n",
    "        \n",
    "        VV = np.clip(VV, SAR_lower, SAR_upper)\n",
    "        VH = np.clip(VH, SAR_lower, SAR_upper)\n",
    "        B2 = np.clip(VV, EO_lower, EO_upper)\n",
    "        B3 = np.clip(VH, EO_lower, EO_upper)\n",
    "        B4 = np.clip(VH, EO_lower, EO_upper)\n",
    "        \n",
    "        VV_avg += np.sum(VV)/val_len/65536\n",
    "        VH_avg += np.sum(VH)/val_len/65536\n",
    "        B2_avg += np.sum(B2)/val_len/65536\n",
    "        B3_avg += np.sum(B3)/val_len/65536\n",
    "        B4_avg += np.sum(B4)/val_len/65536\n",
    "        \n",
    "        temp_VV_histogram, temp_VV_bins = np.histogram(VV, bins=100, range=(-50.0, 0.0))\n",
    "        temp_VH_histogram, temp_VH_bins = np.histogram(VH, bins=100, range=(-50.0, 0.0))\n",
    "        temp_B2_histogram, temp_B2_bins = np.histogram(B2, bins=10000, range=(0.0, 10000.0))\n",
    "        temp_B3_histogram, temp_B3_bins = np.histogram(B3, bins=10000, range=(0.0, 10000.0))\n",
    "        temp_B4_histogram, temp_B4_bins = np.histogram(B4, bins=10000, range=(0.0, 10000.0))\n",
    "        \n",
    "        VV_histogram += temp_VV_histogram\n",
    "        VH_histogram += temp_VH_histogram\n",
    "        SAR_total_histogram += temp_VV_histogram\n",
    "        SAR_total_histogram += temp_VH_histogram\n",
    "        B2_histogram += temp_B2_histogram\n",
    "        B3_histogram += temp_B3_histogram\n",
    "        B4_histogram += temp_B4_histogram\n",
    "        EO_total_histogram += temp_B2_histogram\n",
    "        EO_total_histogram += temp_B3_histogram\n",
    "        EO_total_histogram += temp_B4_histogram\n",
    "    \n",
    "    clip_2_dataset_statistics[key]={}\n",
    "    clip_2_dataset_statistics[key]['SAR_lower'] = SAR_lower\n",
    "    clip_2_dataset_statistics[key]['SAR_upper'] = SAR_upper\n",
    "    clip_2_dataset_statistics[key]['EO_lower'] = EO_lower\n",
    "    clip_2_dataset_statistics[key]['EO_upper'] = EO_upper\n",
    "    clip_2_dataset_statistics[key]['VV_avg']=VV_avg\n",
    "    clip_2_dataset_statistics[key]['VH_avg']=VH_avg\n",
    "    clip_2_dataset_statistics[key]['B2_avg']=B2_avg\n",
    "    clip_2_dataset_statistics[key]['B3_avg']=B3_avg\n",
    "    clip_2_dataset_statistics[key]['B4_avg']=B4_avg\n",
    "    clip_2_dataset_statistics[key]['VV_histogram']=VV_histogram\n",
    "    clip_2_dataset_statistics[key]['VH_histogram']=VH_histogram\n",
    "    clip_2_dataset_statistics[key]['SAR_total_histogram']=SAR_total_histogram\n",
    "    clip_2_dataset_statistics[key]['B2_histogram']=B2_histogram\n",
    "    clip_2_dataset_statistics[key]['B3_histogram']=B3_histogram\n",
    "    clip_2_dataset_statistics[key]['B4_histogram']=B4_histogram\n",
    "    clip_2_dataset_statistics[key]['EO_total_histogram']=EO_total_histogram\n",
    "\n",
    "for key in clip_2_dataset_statistics.keys():\n",
    "    vv_avg = clip_2_dataset_statistics[key]['VV_avg']\n",
    "    vh_avg = clip_2_dataset_statistics[key]['VH_avg']\n",
    "    b2_avg = clip_2_dataset_statistics[key]['B2_avg']\n",
    "    b3_avg = clip_2_dataset_statistics[key]['B3_avg']\n",
    "    b4_avg = clip_2_dataset_statistics[key]['B4_avg']\n",
    "    path = 'statistics/'+key+'.pickle'\n",
    "    with open(path, 'rb') as fr:\n",
    "        stat = pickle.load(fr)\n",
    "        EO_lower = stat['EO_lower_1']\n",
    "        EO_upper = stat['EO_upper_1']\n",
    "        SAR_lower = stat['SAR_lower_1']\n",
    "        SAR_upper = stat['SAR_upper_1']\n",
    "    \n",
    "    dataset = datasets[key]\n",
    "    val_len = len(dataset)\n",
    "    \n",
    "    VV_var = 0\n",
    "    VH_var = 0\n",
    "    B2_var = 0\n",
    "    B3_var = 0\n",
    "    B4_var = 0\n",
    "\n",
    "    for sample in tqdm(dataset):\n",
    "        VV = sample['SAR']['S1'][0]\n",
    "        VH = sample['SAR']['S1'][1]\n",
    "        B2 = sample['EO']['S2'][2]\n",
    "        B3 = sample['EO']['S2'][1]\n",
    "        B4 = sample['EO']['S2'][0]\n",
    "        \n",
    "        VV = np.clip(VV, SAR_lower, SAR_upper)\n",
    "        VH = np.clip(VH, SAR_lower, SAR_upper)\n",
    "        B2 = np.clip(VV, EO_lower, EO_upper)\n",
    "        B3 = np.clip(VH, EO_lower, EO_upper)\n",
    "        B4 = np.clip(VH, EO_lower, EO_upper)\n",
    "        \n",
    "        VV_var += np.sum(np.square(VV-vv_avg)) /val_len /65536\n",
    "        VH_var += np.sum(np.square(VH-vh_avg)) /val_len /65536\n",
    "        B2_var += np.sum(np.square(B2-b2_avg)) /val_len /65536\n",
    "        B3_var += np.sum(np.square(B3-b3_avg)) /val_len /65536\n",
    "        B4_var += np.sum(np.square(B4-b4_avg)) /val_len /65536\n",
    "    \n",
    "    VV_std = np.sqrt(VV_var)\n",
    "    VH_std = np.sqrt(VH_var)\n",
    "    B2_std = np.sqrt(B2_var)\n",
    "    B3_std = np.sqrt(B3_var)\n",
    "    B4_std = np.sqrt(B4_var)\n",
    "    \n",
    "    clip_2_dataset_statistics[key]['VV_var'] = VV_var\n",
    "    clip_2_dataset_statistics[key]['VH_var'] = VH_var\n",
    "    clip_2_dataset_statistics[key]['B2_var'] = B2_var\n",
    "    clip_2_dataset_statistics[key]['B3_var'] = B3_var\n",
    "    clip_2_dataset_statistics[key]['B4_var'] = B4_var\n",
    "    clip_2_dataset_statistics[key]['VV_std'] = VV_std\n",
    "    clip_2_dataset_statistics[key]['VH_std'] = VH_std\n",
    "    clip_2_dataset_statistics[key]['B2_std'] = B2_std\n",
    "    clip_2_dataset_statistics[key]['B3_std'] = B3_std\n",
    "    clip_2_dataset_statistics[key]['B4_std'] = B4_std"
   ]
  },
  {
   "cell_type": "code",
   "execution_count": null,
   "metadata": {},
   "outputs": [],
   "source": [
    "for key in clip_2_dataset_statistics.keys():\n",
    "    path = 'clip_2_dataset_statistics/'+key+'.pickle'\n",
    "    with open(path, 'wb') as fw:\n",
    "        pickle.dump(clip_2_dataset_statistics[key], fw)"
   ]
  },
  {
   "cell_type": "code",
   "execution_count": null,
   "metadata": {},
   "outputs": [],
   "source": [
    "for key in tqdm(clip_2_dataset_statistics.keys()):   \n",
    "    vv_histogram = clip_2_dataset_statistics[key]['VV_histogram']\n",
    "    plt.bar([elem/2 for elem in list(range(-100, 0))], vv_histogram)\n",
    "    temp_path = 'clip_2_statistics/'+key+'/SAR_VV_log.png'\n",
    "    plt.yscale('log')\n",
    "    plt.savefig(temp_path, dpi=400)\n",
    "    plt.yscale('linear')\n",
    "    temp_path = 'clip_2_statistics/'+key+'/SAR_VV_linear.png'\n",
    "    plt.savefig(temp_path, dpi=400)\n",
    "    plt.cla()\n",
    "    \n",
    "    vh_histogram = clip_2_dataset_statistics[key]['VH_histogram']\n",
    "    plt.bar([elem/2 for elem in list(range(-100, 0))], vh_histogram)\n",
    "    temp_path = 'clip_2_statistics/'+key+'/SAR_VH_log.png'\n",
    "    plt.yscale('log')\n",
    "    plt.savefig(temp_path, dpi=400)\n",
    "    plt.yscale('linear')\n",
    "    temp_path = 'clip_2_statistics/'+key+'/SAR_VH_linear.png'\n",
    "    plt.savefig(temp_path, dpi=400)\n",
    "    plt.cla()\n",
    "\n",
    "    sar_histogram = clip_2_dataset_statistics[key]['SAR_total_histogram']\n",
    "    plt.bar([elem/2 for elem in list(range(-100, 0))], sar_histogram)\n",
    "    temp_path = 'clip_2_statistics/'+key+'/SAR_TOTAL_log.png'\n",
    "    plt.yscale('log')\n",
    "    plt.savefig(temp_path, dpi=400)\n",
    "    plt.yscale('linear')\n",
    "    temp_path = 'clip_2_statistics/'+key+'/SAR_TOTAL_linear.png'\n",
    "    plt.savefig(temp_path, dpi=400)\n",
    "    plt.cla()\n",
    "    \n",
    "    b2_histogram = clip_2_dataset_statistics[key]['B2_histogram']\n",
    "    plt.bar([elem for elem in list(range(0, 10000))], b2_histogram)\n",
    "    temp_path = 'clip_2_statistics/'+key+'/EO_B2_log.png'\n",
    "    plt.yscale('log')\n",
    "    plt.savefig(temp_path, dpi=400)\n",
    "    plt.yscale('linear')\n",
    "    temp_path = 'clip_2_statistics/'+key+'/EO_B2_linear.png'\n",
    "    plt.savefig(temp_path, dpi=400)\n",
    "    plt.cla()\n",
    "    \n",
    "    b3_histogram = clip_2_dataset_statistics[key]['B3_histogram']\n",
    "    plt.bar([elem for elem in list(range(0, 10000))], b3_histogram)\n",
    "    temp_path = 'clip_2_statistics/'+key+'/EO_B3_log.png'\n",
    "    plt.yscale('log')\n",
    "    plt.savefig(temp_path, dpi=400)\n",
    "    plt.yscale('linear')\n",
    "    temp_path = 'clip_2_statistics/'+key+'/EO_B3_linear.png'\n",
    "    plt.savefig(temp_path, dpi=400)\n",
    "    plt.cla()\n",
    "    \n",
    "    b4_histogram = clip_2_dataset_statistics[key]['B4_histogram']\n",
    "    plt.bar([elem for elem in list(range(0, 10000))], b4_histogram)\n",
    "    temp_path = 'clip_2_statistics/'+key+'/EO_B4_log.png'\n",
    "    plt.yscale('log')\n",
    "    plt.savefig(temp_path, dpi=400)\n",
    "    plt.yscale('linear')\n",
    "    temp_path = 'clip_2_statistics/'+key+'/EO_B4_linear.png'\n",
    "    plt.savefig(temp_path, dpi=400)\n",
    "    plt.cla()\n",
    "    \n",
    "    eo_histogram = clip_2_dataset_statistics[key]['EO_total_histogram']\n",
    "    plt.bar([elem for elem in list(range(0, 10000))], eo_histogram)\n",
    "    temp_path = 'clip_2_statistics/'+key+'/EO_TOTAL_log.png'        \n",
    "    plt.yscale('log')\n",
    "    plt.savefig(temp_path, dpi=400)\n",
    "    plt.yscale('linear')\n",
    "    temp_path = 'clip_2_statistics/'+key+'/EO_TOTAL_linear.png'\n",
    "    plt.savefig(temp_path, dpi=400)\n",
    "    plt.cla()"
   ]
  },
  {
   "cell_type": "code",
   "execution_count": null,
   "metadata": {},
   "outputs": [
    {
     "name": "stderr",
     "output_type": "stream",
     "text": [
      "100%|██████████| 122217/122217 [14:30<00:00, 140.33it/s]\n",
      "100%|██████████| 107142/107142 [17:01<00:00, 104.90it/s]\n",
      "100%|██████████| 7899/7899 [01:12<00:00, 108.31it/s]\n",
      "100%|██████████| 7176/7176 [01:12<00:00, 99.27it/s] \n"
     ]
    }
   ],
   "source": [
    "paths = []\n",
    "not_in = []\n",
    "for sample in tqdm(sen12mscr):\n",
    "    # print(type(sample))\n",
    "    # print(sample.keys())\n",
    "    # print(sample['SAR'].keys())\n",
    "    # print(sample['SAR']['S1 path'])\n",
    "    paths.append(sample['SAR']['S1 path'])\n",
    "for sample in tqdm(sen12mscr_train_all):\n",
    "    if not (sample['SAR']['S1 path'] in paths) :\n",
    "        not_in.append(sample['SAR']['S1 path'])\n",
    "        print(sample['SAR']['S1 path'])\n",
    "for sample in tqdm(sen12mscr_test_all):\n",
    "    if not (sample['SAR']['S1 path'] in paths) :\n",
    "        not_in.append(sample['SAR']['S1 path'])\n",
    "        print(sample['SAR']['S1 path'])\n",
    "for sample in tqdm(sen12mscr_val_all):\n",
    "    if not (sample['SAR']['S1 path'] in paths) :\n",
    "        not_in.append(sample['SAR']['S1 path'])\n",
    "        print(sample['SAR']['S1 path'])"
   ]
  },
  {
   "cell_type": "code",
   "execution_count": null,
   "metadata": {},
   "outputs": [
    {
     "name": "stderr",
     "output_type": "stream",
     "text": [
      "100%|██████████| 107142/107142 [12:57<00:00, 137.79it/s]\n",
      "100%|██████████| 7899/7899 [01:31<00:00, 85.93it/s]\n",
      "100%|██████████| 7176/7176 [01:23<00:00, 86.11it/s]\n"
     ]
    }
   ],
   "source": [
    "train = []\n",
    "test = []\n",
    "val = []\n",
    "\n",
    "for sample in tqdm(sen12mscr_train_all):\n",
    "    train.append(sample['SAR']['S1 path'])\n",
    "for sample in tqdm(sen12mscr_test_all):\n",
    "    if sample['SAR']['S1 path'] in train:\n",
    "        print(sample['SAR']['S1 path'])\n",
    "    test.append(sample['SAR']['S1 path'])\n",
    "for sample in tqdm(sen12mscr_val_all):\n",
    "    if sample['SAR']['S1 path'] in train:\n",
    "        print(sample['SAR']['S1 path'])\n",
    "    test.append(sample['SAR']['S1 path'])\n"
   ]
  },
  {
   "cell_type": "code",
   "execution_count": null,
   "metadata": {},
   "outputs": [
    {
     "name": "stderr",
     "output_type": "stream",
     "text": [
      "100%|██████████| 7899/7899 [01:31<00:00, 86.42it/s]\n",
      "100%|██████████| 7176/7176 [01:22<00:00, 86.80it/s]"
     ]
    },
    {
     "name": "stdout",
     "output_type": "stream",
     "text": [
      "0 0\n"
     ]
    },
    {
     "name": "stderr",
     "output_type": "stream",
     "text": [
      "\n"
     ]
    }
   ],
   "source": [
    "sum1 = 0\n",
    "sum2 = 0\n",
    "for sample in tqdm(sen12mscr_test_all):\n",
    "    if sample['SAR']['S1 path'] in train:\n",
    "        sum1+=1\n",
    "for sample in tqdm(sen12mscr_val_all):\n",
    "    if sample['SAR']['S1 path'] in train:\n",
    "        sum2+=1\n",
    "print(sum1,sum2)"
   ]
  },
  {
   "cell_type": "code",
   "execution_count": null,
   "metadata": {},
   "outputs": [
    {
     "name": "stderr",
     "output_type": "stream",
     "text": [
      "100%|██████████| 7899/7899 [01:30<00:00, 86.87it/s]\n",
      "100%|██████████| 7176/7176 [01:22<00:00, 87.07it/s]"
     ]
    },
    {
     "name": "stdout",
     "output_type": "stream",
     "text": [
      "set()\n",
      "=========================\n",
      "set()\n"
     ]
    },
    {
     "name": "stderr",
     "output_type": "stream",
     "text": [
      "\n"
     ]
    }
   ],
   "source": [
    "import os\n",
    "test = set()\n",
    "val = set()\n",
    "for sample in tqdm(sen12mscr_test_all):\n",
    "    if sample['SAR']['S1 path'] in train:\n",
    "        temp = \"_\".join(os.path.basename(sample['SAR']['S1 path']).split('_')[0:-1])\n",
    "        test.add(temp)\n",
    "for sample in tqdm(sen12mscr_val_all):\n",
    "    if sample['SAR']['S1 path'] in train:\n",
    "        temp = \"_\".join(os.path.basename(sample['SAR']['S1 path']).split('_')[0:-1])\n",
    "        val.add(temp)\n",
    "        \n",
    "print(test)\n",
    "print('='*25)\n",
    "print(val)"
   ]
  },
  {
   "cell_type": "code",
   "execution_count": null,
   "metadata": {},
   "outputs": [
    {
     "name": "stderr",
     "output_type": "stream",
     "text": [
      "100%|██████████| 7899/7899 [01:31<00:00, 86.41it/s]\n"
     ]
    }
   ],
   "source": [
    "for sample in tqdm(sen12mscr_test_all):\n",
    "    if sample['SAR']['S1 path'] in train:\n",
    "        print(sample['SAR']['S1 path'])\n",
    "        break\n",
    "# for sample in tqdm(sen12mscr_val_all):\n",
    "#     if sample['SAR']['S1 path'] in train:\n",
    "#         temp = \"_\".join(os.path.basename(sample['SAR']['S1 path']).split('_')[0:-1])\n",
    "#         val.add(temp)"
   ]
  },
  {
   "cell_type": "code",
   "execution_count": null,
   "metadata": {},
   "outputs": [],
   "source": []
  },
  {
   "cell_type": "code",
   "execution_count": null,
   "metadata": {},
   "outputs": [],
   "source": []
  },
  {
   "cell_type": "code",
   "execution_count": null,
   "metadata": {},
   "outputs": [],
   "source": []
  }
 ],
 "metadata": {
  "kernelspec": {
   "display_name": "Python 3",
   "language": "python",
   "name": "python3"
  },
  "language_info": {
   "codemirror_mode": {
    "name": "ipython",
    "version": 3
   },
   "file_extension": ".py",
   "mimetype": "text/x-python",
   "name": "python",
   "nbconvert_exporter": "python",
   "pygments_lexer": "ipython3",
   "version": "3.8.10"
  },
  "orig_nbformat": 4
 },
 "nbformat": 4,
 "nbformat_minor": 2
}
