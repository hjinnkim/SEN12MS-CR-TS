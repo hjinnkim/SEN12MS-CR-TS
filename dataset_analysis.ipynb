{
 "cells": [
  {
   "cell_type": "code",
   "execution_count": 1,
   "metadata": {},
   "outputs": [
    {
     "name": "stdout",
     "output_type": "stream",
     "text": [
      "\n",
      "Processing paths for train split of region all for split of season spring\n"
     ]
    },
    {
     "name": "stderr",
     "output_type": "stream",
     "text": [
      "100%|██████████| 1/1 [00:01<00:00,  1.66s/it]\n"
     ]
    },
    {
     "name": "stdout",
     "output_type": "stream",
     "text": [
      "\n",
      "Processing paths for train split of region all for split of season summer\n"
     ]
    },
    {
     "name": "stderr",
     "output_type": "stream",
     "text": [
      "100%|██████████| 1/1 [00:01<00:00,  1.89s/it]\n"
     ]
    },
    {
     "name": "stdout",
     "output_type": "stream",
     "text": [
      "\n",
      "Processing paths for train split of region all for split of season fall\n"
     ]
    },
    {
     "name": "stderr",
     "output_type": "stream",
     "text": [
      "100%|██████████| 1/1 [00:02<00:00,  2.25s/it]\n"
     ]
    },
    {
     "name": "stdout",
     "output_type": "stream",
     "text": [
      "\n",
      "Processing paths for train split of region all for split of season winter\n"
     ]
    },
    {
     "name": "stderr",
     "output_type": "stream",
     "text": [
      "100%|██████████| 1/1 [00:01<00:00,  1.03s/it]\n"
     ]
    },
    {
     "name": "stdout",
     "output_type": "stream",
     "text": [
      "\n",
      "Processing paths for train split of region all for split of season all\n"
     ]
    },
    {
     "name": "stderr",
     "output_type": "stream",
     "text": [
      "100%|██████████| 4/4 [00:06<00:00,  1.72s/it]\n"
     ]
    },
    {
     "name": "stdout",
     "output_type": "stream",
     "text": [
      "\n",
      "Processing paths for test split of region all for split of season spring\n"
     ]
    },
    {
     "name": "stderr",
     "output_type": "stream",
     "text": [
      "100%|██████████| 1/1 [00:00<00:00,  1.58it/s]\n"
     ]
    },
    {
     "name": "stdout",
     "output_type": "stream",
     "text": [
      "\n",
      "Processing paths for test split of region all for split of season summer\n"
     ]
    },
    {
     "name": "stderr",
     "output_type": "stream",
     "text": [
      "100%|██████████| 1/1 [00:00<00:00,  1.38it/s]\n"
     ]
    },
    {
     "name": "stdout",
     "output_type": "stream",
     "text": [
      "\n",
      "Processing paths for test split of region all for split of season fall\n"
     ]
    },
    {
     "name": "stderr",
     "output_type": "stream",
     "text": [
      "100%|██████████| 1/1 [00:00<00:00,  1.17it/s]\n"
     ]
    },
    {
     "name": "stdout",
     "output_type": "stream",
     "text": [
      "\n",
      "Processing paths for test split of region all for split of season winter\n"
     ]
    },
    {
     "name": "stderr",
     "output_type": "stream",
     "text": [
      "100%|██████████| 1/1 [00:00<00:00,  2.68it/s]\n"
     ]
    },
    {
     "name": "stdout",
     "output_type": "stream",
     "text": [
      "\n",
      "Processing paths for test split of region all for split of season all\n"
     ]
    },
    {
     "name": "stderr",
     "output_type": "stream",
     "text": [
      "100%|██████████| 4/4 [00:02<00:00,  1.59it/s]\n"
     ]
    },
    {
     "name": "stdout",
     "output_type": "stream",
     "text": [
      "\n",
      "Processing paths for val split of region all for split of season spring\n"
     ]
    },
    {
     "name": "stderr",
     "output_type": "stream",
     "text": [
      "100%|██████████| 1/1 [00:00<00:00,  1.62it/s]\n"
     ]
    },
    {
     "name": "stdout",
     "output_type": "stream",
     "text": [
      "\n",
      "Processing paths for val split of region all for split of season summer\n"
     ]
    },
    {
     "name": "stderr",
     "output_type": "stream",
     "text": [
      "100%|██████████| 1/1 [00:00<00:00,  1.35it/s]\n"
     ]
    },
    {
     "name": "stdout",
     "output_type": "stream",
     "text": [
      "\n",
      "Processing paths for val split of region all for split of season fall\n"
     ]
    },
    {
     "name": "stderr",
     "output_type": "stream",
     "text": [
      "100%|██████████| 1/1 [00:00<00:00,  1.20it/s]\n"
     ]
    },
    {
     "name": "stdout",
     "output_type": "stream",
     "text": [
      "\n",
      "Processing paths for val split of region all for split of season winter\n"
     ]
    },
    {
     "name": "stderr",
     "output_type": "stream",
     "text": [
      "100%|██████████| 1/1 [00:00<00:00,  2.64it/s]\n"
     ]
    },
    {
     "name": "stdout",
     "output_type": "stream",
     "text": [
      "\n",
      "Processing paths for val split of region all for split of season all\n"
     ]
    },
    {
     "name": "stderr",
     "output_type": "stream",
     "text": [
      "100%|██████████| 4/4 [00:02<00:00,  1.58it/s]\n"
     ]
    },
    {
     "name": "stdout",
     "output_type": "stream",
     "text": [
      "\n",
      "Processing paths for all split of region all for split of season spring\n"
     ]
    },
    {
     "name": "stderr",
     "output_type": "stream",
     "text": [
      "100%|██████████| 1/1 [00:01<00:00,  1.80s/it]\n"
     ]
    },
    {
     "name": "stdout",
     "output_type": "stream",
     "text": [
      "\n",
      "Processing paths for all split of region all for split of season summer\n"
     ]
    },
    {
     "name": "stderr",
     "output_type": "stream",
     "text": [
      "100%|██████████| 1/1 [00:02<00:00,  2.05s/it]\n"
     ]
    },
    {
     "name": "stdout",
     "output_type": "stream",
     "text": [
      "\n",
      "Processing paths for all split of region all for split of season fall\n"
     ]
    },
    {
     "name": "stderr",
     "output_type": "stream",
     "text": [
      "100%|██████████| 1/1 [00:02<00:00,  2.46s/it]\n"
     ]
    },
    {
     "name": "stdout",
     "output_type": "stream",
     "text": [
      "\n",
      "Processing paths for all split of region all for split of season winter\n"
     ]
    },
    {
     "name": "stderr",
     "output_type": "stream",
     "text": [
      "100%|██████████| 1/1 [00:01<00:00,  1.11s/it]\n"
     ]
    },
    {
     "name": "stdout",
     "output_type": "stream",
     "text": [
      "\n",
      "Processing paths for all split of region all for split of season all\n"
     ]
    },
    {
     "name": "stderr",
     "output_type": "stream",
     "text": [
      "100%|██████████| 4/4 [00:07<00:00,  1.82s/it]\n"
     ]
    }
   ],
   "source": [
    "import torch\n",
    "import os\n",
    "import matplotlib.pyplot as plt\n",
    "import numpy as np\n",
    "from tqdm import tqdm\n",
    "import pickle\n",
    "from data.dataLoader import SEN12MSCR, SEN12MSCR_NoMask\n",
    "dir_SEN12MSCR = '/home/khj/SEN12MSCR'\n",
    "# sen12mscr = SEN12MSCR_NoMask(dir_SEN12MSCR, split='all', region='all', rescale_method='None')\n",
    "\n",
    "sen12mscr_train_spring = SEN12MSCR_NoMask(dir_SEN12MSCR, split='train', region='all', season='spring', rescale_method=None)\n",
    "sen12mscr_train_summer = SEN12MSCR_NoMask(dir_SEN12MSCR, split='train', region='all', season='summer', rescale_method=None)\n",
    "sen12mscr_train_fall = SEN12MSCR_NoMask(dir_SEN12MSCR, split='train', region='all', season='fall', rescale_method=None)\n",
    "sen12mscr_train_winter = SEN12MSCR_NoMask(dir_SEN12MSCR, split='train', region='all', season='winter', rescale_method=None)\n",
    "sen12mscr_train_all = SEN12MSCR_NoMask(dir_SEN12MSCR, split='train', region='all', season='all', rescale_method=None)\n",
    "\n",
    "sen12mscr_test_spring = SEN12MSCR_NoMask(dir_SEN12MSCR, split='test', region='all', season='spring', rescale_method=None)\n",
    "sen12mscr_test_summer = SEN12MSCR_NoMask(dir_SEN12MSCR, split='test', region='all', season='summer', rescale_method=None)\n",
    "sen12mscr_test_fall = SEN12MSCR_NoMask(dir_SEN12MSCR, split='test', region='all', season='fall', rescale_method=None)\n",
    "sen12mscr_test_winter = SEN12MSCR_NoMask(dir_SEN12MSCR, split='test', region='all', season='winter', rescale_method=None)\n",
    "sen12mscr_test_all = SEN12MSCR_NoMask(dir_SEN12MSCR, split='test', region='all', season='all', rescale_method=None)\n",
    "\n",
    "sen12mscr_val_spring = SEN12MSCR_NoMask(dir_SEN12MSCR, split='val', region='all', season='spring', rescale_method=None)\n",
    "sen12mscr_val_summer = SEN12MSCR_NoMask(dir_SEN12MSCR, split='val', region='all', season='summer', rescale_method=None)\n",
    "sen12mscr_val_fall = SEN12MSCR_NoMask(dir_SEN12MSCR, split='val', region='all', season='fall', rescale_method=None)\n",
    "sen12mscr_val_winter = SEN12MSCR_NoMask(dir_SEN12MSCR, split='val', region='all', season='winter', rescale_method=None)\n",
    "sen12mscr_val_all = SEN12MSCR_NoMask(dir_SEN12MSCR, split='val', region='all', season='all', rescale_method=None)\n",
    "\n",
    "sen12mscr_spring = SEN12MSCR_NoMask(dir_SEN12MSCR, split='all', region='all', season='spring', rescale_method=None)\n",
    "sen12mscr_summer = SEN12MSCR_NoMask(dir_SEN12MSCR, split='all', region='all', season='summer', rescale_method=None)\n",
    "sen12mscr_fall = SEN12MSCR_NoMask(dir_SEN12MSCR, split='all', region='all', season='fall', rescale_method=None)\n",
    "sen12mscr_winter = SEN12MSCR_NoMask(dir_SEN12MSCR, split='all', region='all', season='winter', rescale_method=None)\n",
    "sen12mscr = SEN12MSCR_NoMask(dir_SEN12MSCR, split='all', region='all', season='all', rescale_method=None)\n"
   ]
  },
  {
   "cell_type": "code",
   "execution_count": 2,
   "metadata": {},
   "outputs": [],
   "source": [
    "datasets = {'sen12mscr_train_spring': sen12mscr_train_spring,\n",
    "            'sen12mscr_train_summer': sen12mscr_train_summer,\n",
    "            'sen12mscr_train_fall': sen12mscr_train_fall,\n",
    "            'sen12mscr_train_winter': sen12mscr_train_winter,\n",
    "            'sen12mscr_train_all': sen12mscr_train_all,\n",
    "            'sen12mscr_test_spring': sen12mscr_test_spring,\n",
    "            'sen12mscr_test_summer': sen12mscr_test_summer,\n",
    "            'sen12mscr_test_fall': sen12mscr_test_fall,\n",
    "            'sen12mscr_test_winter': sen12mscr_test_winter,\n",
    "            'sen12mscr_test_all': sen12mscr_test_all,\n",
    "            'sen12mscr_val_spring': sen12mscr_val_spring,\n",
    "            'sen12mscr_val_summer': sen12mscr_val_summer,\n",
    "            'sen12mscr_val_fall': sen12mscr_val_fall,\n",
    "            'sen12mscr_val_winter': sen12mscr_val_winter,\n",
    "            'sen12mscr_val_all': sen12mscr_val_all,\n",
    "            'sen12mscr_spring': sen12mscr_spring,\n",
    "            'sen12mscr_summer': sen12mscr_summer,\n",
    "            'sen12mscr_fall': sen12mscr_fall,\n",
    "            'sen12mscr_winter': sen12mscr_winter,\n",
    "            'sen12mscr': sen12mscr,\n",
    "            }"
   ]
  },
  {
   "cell_type": "code",
   "execution_count": 1,
   "metadata": {},
   "outputs": [
    {
     "ename": "NameError",
     "evalue": "name 'datasets' is not defined",
     "output_type": "error",
     "traceback": [
      "\u001b[0;31m---------------------------------------------------------------------------\u001b[0m",
      "\u001b[0;31mNameError\u001b[0m                                 Traceback (most recent call last)",
      "Cell \u001b[0;32mIn[1], line 1\u001b[0m\n\u001b[0;32m----> 1\u001b[0m \u001b[39mprint\u001b[39m(\u001b[39m'\u001b[39m\u001b[39mBase Dataset Length : \u001b[39m\u001b[39m'\u001b[39m, \u001b[39mlen\u001b[39m(datasets[\u001b[39m'\u001b[39m\u001b[39msen12mscr\u001b[39m\u001b[39m'\u001b[39m]))\n\u001b[1;32m      2\u001b[0m \u001b[39mprint\u001b[39m(\u001b[39m'\u001b[39m\u001b[39mSum of Dataset Length for Each Season : \u001b[39m\u001b[39m'\u001b[39m, \u001b[39mlen\u001b[39m(datasets[\u001b[39m'\u001b[39m\u001b[39msen12mscr_spring\u001b[39m\u001b[39m'\u001b[39m])\u001b[39m+\u001b[39m\u001b[39mlen\u001b[39m(datasets[\u001b[39m'\u001b[39m\u001b[39msen12mscr_summer\u001b[39m\u001b[39m'\u001b[39m])\u001b[39m+\u001b[39m\u001b[39mlen\u001b[39m(datasets[\u001b[39m'\u001b[39m\u001b[39msen12mscr_fall\u001b[39m\u001b[39m'\u001b[39m])\u001b[39m+\u001b[39m\u001b[39mlen\u001b[39m(datasets[\u001b[39m'\u001b[39m\u001b[39msen12mscr_winter\u001b[39m\u001b[39m'\u001b[39m]))\n\u001b[1;32m      3\u001b[0m \u001b[39mprint\u001b[39m(\u001b[39m'\u001b[39m\u001b[39m=\u001b[39m\u001b[39m'\u001b[39m\u001b[39m*\u001b[39m\u001b[39m25\u001b[39m)\n",
      "\u001b[0;31mNameError\u001b[0m: name 'datasets' is not defined"
     ]
    }
   ],
   "source": [
    "print('Base Dataset Length : ', len(datasets['sen12mscr']))\n",
    "print('Sum of Dataset Length for Each Season : ', len(datasets['sen12mscr_spring'])+len(datasets['sen12mscr_summer'])+len(datasets['sen12mscr_fall'])+len(datasets['sen12mscr_winter']))\n",
    "\n",
    "print('='*25)\n",
    "\n",
    "print('Base Dataset Length : ', len(datasets['sen12mscr']))\n",
    "print('Train + Test + Val : ', len(datasets['sen12mscr_train_all'])+len(datasets['sen12mscr_test_all'])+len(datasets['sen12mscr_val_all']))\n",
    "print('Train | Test | Val')\n",
    "print(len(datasets['sen12mscr_train_all']), len(datasets['sen12mscr_test_all']), len(datasets['sen12mscr_val_all']), )\n",
    "\n",
    "print('='*25)\n",
    "\n",
    "print('Spring Dataset Length : ', len(datasets['sen12mscr_spring']))\n",
    "print('Train + Test + Val : ', len(datasets['sen12mscr_train_spring'])+len(datasets['sen12mscr_test_spring'])+len(datasets['sen12mscr_val_spring']))\n",
    "print('Train | Test | Val')\n",
    "print(len(datasets['sen12mscr_train_spring']), len(datasets['sen12mscr_test_spring']), len(datasets['sen12mscr_val_spring']), )\n",
    "\n",
    "print('='*25)\n",
    "\n",
    "print('Summer Dataset Length : ', len(datasets['sen12mscr_summer']))\n",
    "print('Train + Test + Val : ', len(datasets['sen12mscr_train_summer'])+len(datasets['sen12mscr_test_summer'])+len(datasets['sen12mscr_val_summer']))\n",
    "print('Train | Test | Val')\n",
    "print(len(datasets['sen12mscr_train_summer']), len(datasets['sen12mscr_test_summer']), len(datasets['sen12mscr_val_summer']), )\n",
    "\n",
    "print('='*25)\n",
    "\n",
    "print('Fall Dataset Length : ', len(datasets['sen12mscr_fall']))\n",
    "print('Train + Test + Val : ', len(datasets['sen12mscr_train_fall'])+len(datasets['sen12mscr_test_fall'])+len(datasets['sen12mscr_val_fall']))\n",
    "print('Train | Test | Val')\n",
    "print(len(datasets['sen12mscr_train_fall']), len(datasets['sen12mscr_test_fall']), len(datasets['sen12mscr_val_fall']), )\n",
    "\n",
    "print('='*25)\n",
    "\n",
    "print('Winter Dataset Length : ', len(datasets['sen12mscr_winter']))\n",
    "print('Train + Test + Val : ', len(datasets['sen12mscr_train_winter'])+len(datasets['sen12mscr_test_winter'])+len(datasets['sen12mscr_val_winter']))\n",
    "print('Train | Test | Val')\n",
    "print(len(datasets['sen12mscr_train_winter']), len(datasets['sen12mscr_test_winter']), len(datasets['sen12mscr_val_winter']), )\n",
    "\n",
    "print('='*25)"
   ]
  },
  {
   "cell_type": "code",
   "execution_count": 4,
   "metadata": {},
   "outputs": [
    {
     "name": "stderr",
     "output_type": "stream",
     "text": [
      "  0%|          | 8/24378 [00:00<05:23, 75.24it/s]"
     ]
    },
    {
     "name": "stderr",
     "output_type": "stream",
     "text": [
      "100%|██████████| 24378/24378 [03:52<00:00, 105.01it/s]\n",
      "100%|██████████| 29394/29394 [05:03<00:00, 96.76it/s] \n",
      "100%|██████████| 39376/39376 [06:52<00:00, 95.57it/s] \n",
      "100%|██████████| 13995/13995 [02:25<00:00, 96.39it/s] \n",
      "100%|██████████| 107143/107143 [18:08<00:00, 98.46it/s] \n",
      "100%|██████████| 3983/3983 [00:40<00:00, 97.75it/s] \n",
      "100%|██████████| 1565/1565 [00:16<00:00, 96.93it/s] \n",
      "100%|██████████| 784/784 [00:08<00:00, 97.10it/s] \n",
      "100%|██████████| 1567/1567 [00:16<00:00, 97.23it/s] \n",
      "100%|██████████| 7899/7899 [01:20<00:00, 98.39it/s] \n",
      "100%|██████████| 756/756 [00:07<00:00, 97.07it/s]\n",
      "100%|██████████| 2868/2868 [00:28<00:00, 98.96it/s] \n",
      "100%|██████████| 781/781 [00:07<00:00, 99.00it/s] \n",
      "100%|██████████| 2771/2771 [00:28<00:00, 97.53it/s] \n",
      "100%|██████████| 7176/7176 [01:13<00:00, 97.55it/s] \n",
      "100%|██████████| 29117/29117 [04:57<00:00, 97.84it/s] \n",
      "100%|██████████| 33827/33827 [05:45<00:00, 97.98it/s] \n",
      "100%|██████████| 40941/40941 [06:57<00:00, 98.01it/s] \n",
      "100%|██████████| 18333/18333 [03:07<00:00, 97.88it/s] \n",
      "100%|██████████| 122218/122218 [20:51<00:00, 97.63it/s] \n"
     ]
    }
   ],
   "source": [
    "# dataset_statistics = {}\n",
    "# for key, val in datasets.items():\n",
    "#     dataset_statistics[key]={}\n",
    "#     \n",
    "#     val_len = len(val)\n",
    "#     VV_min = 10000\n",
    "#     VV_max = -10000\n",
    "#     VV_avg = 0\n",
    "#     VH_min = 10000\n",
    "#     VH_max = -10000\n",
    "#     VH_avg = 0\n",
    "#     B2_min = 10000\n",
    "#     B2_max = -10000\n",
    "#     B2_avg = 0\n",
    "#     B3_min = 10000\n",
    "#     B3_max = -10000\n",
    "#     B3_avg = 0\n",
    "#     B4_min = 10000\n",
    "#     B4_max = -10000\n",
    "#     B4_avg = 0\n",
    "#     VV_histogram = np.zeros((100), dtype=np.int64)\n",
    "#     VH_histogram = np.zeros((100), dtype=np.int64)\n",
    "#     SAR_total_histogram = np.zeros((100), dtype=np.int64)\n",
    "#     B2_histogram = np.zeros((10000), dtype=np.int64)\n",
    "#     B3_histogram = np.zeros((10000), dtype=np.int64)\n",
    "#     B4_histogram = np.zeros((10000), dtype=np.int64)\n",
    "#     EO_total_histogram = np.zeros((10000), dtype=np.int64)\n",
    "#     for sample in tqdm(val):\n",
    "#         VV = np.clip(sample['input']['S1'][0], -50, 0)\n",
    "#         VH = np.clip(sample['input']['S1'][1], -50, 0)\n",
    "#         B2 = np.clip(sample['target']['S2'][0], 0, 10000)\n",
    "#         B3 = np.clip(sample['target']['S2'][1], 0, 10000)\n",
    "#         B4 = np.clip(sample['target']['S2'][2], 0, 10000)\n",
    "#         VV_avg += np.sum(VV)/val_len/65536\n",
    "#         VH_avg += np.sum(VH)/val_len/65536\n",
    "#         B2_avg += np.sum(B2)/val_len/65536\n",
    "#         B3_avg += np.sum(B3)/val_len/65536\n",
    "#         B4_avg += np.sum(B4)/val_len/65536\n",
    "#         \n",
    "#         \n",
    "#         if VV_min > VV.min():\n",
    "#             VV_min = VV.min()\n",
    "#         if VV_max < VV.max():\n",
    "#             VV_max = VV.max()\n",
    "#             \n",
    "#         if VH_min > VH.min():\n",
    "#             VH_min = VH.min()\n",
    "#         if VH_max < VH.max():\n",
    "#             VH_max = VH.max()\n",
    "#             \n",
    "#         if B2_min > B2.min():\n",
    "#             B2_min = B2.min()\n",
    "#         if B2_max < B2.max():\n",
    "#             B2_max = B2.max()\n",
    "#             \n",
    "#         if B3_min > B3.min():\n",
    "#             B3_min = B3.min()\n",
    "#         if B3_max < B3.max():\n",
    "#             B3_max = B3.max()\n",
    "#             \n",
    "#         if B4_min > B4.min():\n",
    "#             B4_min = B4.min()\n",
    "#         if B4_max < B4.max():\n",
    "#             B4_max = B4.max()\n",
    "#         \n",
    "#         temp_VV_histogram, temp_VV_bins = np.histogram(VV, bins=100, range=(-50.0, 0.0))\n",
    "#         temp_VH_histogram, temp_VH_bins = np.histogram(VH, bins=100, range=(-50.0, 0.0))\n",
    "#         temp_B2_histogram, temp_B2_bins = np.histogram(B2, bins=10000, range=(0.0, 10000.0))\n",
    "#         temp_B3_histogram, temp_B3_bins = np.histogram(B3, bins=10000, range=(0.0, 10000.0))\n",
    "#         temp_B4_histogram, temp_B4_bins = np.histogram(B4, bins=10000, range=(0.0, 10000.0))\n",
    "#         \n",
    "#         VV_histogram += temp_VV_histogram\n",
    "#         VH_histogram += temp_VH_histogram\n",
    "#         SAR_total_histogram += temp_VV_histogram\n",
    "#         SAR_total_histogram += temp_VH_histogram\n",
    "#         B2_histogram += temp_B2_histogram\n",
    "#         B3_histogram += temp_B3_histogram\n",
    "#         B4_histogram += temp_B4_histogram\n",
    "#         EO_total_histogram += temp_B2_histogram\n",
    "#         EO_total_histogram += temp_B3_histogram\n",
    "#         EO_total_histogram += temp_B4_histogram\n",
    "#     \n",
    "#     dataset_statistics[key]={}\n",
    "#     dataset_statistics[key]['VV_min']=VV_min\n",
    "#     dataset_statistics[key]['VV_max']=VV_max\n",
    "#     dataset_statistics[key]['VV_avg']=VV_avg\n",
    "#     dataset_statistics[key]['VH_min']=VH_min\n",
    "#     dataset_statistics[key]['VH_max']=VH_max\n",
    "#     dataset_statistics[key]['VH_avg']=VH_avg\n",
    "#     dataset_statistics[key]['B2_min']=B2_min\n",
    "#     dataset_statistics[key]['B2_max']=B2_max\n",
    "#     dataset_statistics[key]['B2_avg']=B2_avg\n",
    "#     dataset_statistics[key]['B3_min']=B3_min\n",
    "#     dataset_statistics[key]['B3_max']=B3_max\n",
    "#     dataset_statistics[key]['B3_avg']=B3_avg\n",
    "#     dataset_statistics[key]['B4_min']=B4_min\n",
    "#     dataset_statistics[key]['B4_max']=B4_max\n",
    "#     dataset_statistics[key]['B4_avg']=B4_avg\n",
    "#     dataset_statistics[key]['VV_histogram']=VV_histogram\n",
    "#     dataset_statistics[key]['VH_histogram']=VH_histogram\n",
    "#     dataset_statistics[key]['SAR_total_histogram']=SAR_total_histogram\n",
    "#     dataset_statistics[key]['B2_histogram']=B2_histogram\n",
    "#     dataset_statistics[key]['B3_histogram']=B3_histogram\n",
    "#     dataset_statistics[key]['B4_histogram']=B4_histogram\n",
    "#     dataset_statistics[key]['EO_total_histogram']=EO_total_histogram\n",
    "dataset_statistics = {}\n",
    "for key, val in datasets.items():    \n",
    "    dataset_statistics[key]={}\n",
    "    \n",
    "    val_len = len(val)\n",
    "    VV_min = 10000\n",
    "    VV_max = -10000\n",
    "    VV_avg = 0\n",
    "    VH_min = 10000\n",
    "    VH_max = -10000\n",
    "    VH_avg = 0\n",
    "    B2_min = 10000\n",
    "    B2_max = -10000\n",
    "    B2_avg = 0\n",
    "    B3_min = 10000\n",
    "    B3_max = -10000\n",
    "    B3_avg = 0\n",
    "    B4_min = 10000\n",
    "    B4_max = -10000\n",
    "    B4_avg = 0\n",
    "    VV_histogram = np.zeros((100), dtype=np.int64)\n",
    "    VH_histogram = np.zeros((100), dtype=np.int64)\n",
    "    SAR_total_histogram = np.zeros((100), dtype=np.int64)\n",
    "    B2_histogram = np.zeros((10000), dtype=np.int64)\n",
    "    B3_histogram = np.zeros((10000), dtype=np.int64)\n",
    "    B4_histogram = np.zeros((10000), dtype=np.int64)\n",
    "    EO_total_histogram = np.zeros((10000), dtype=np.int64)\n",
    "    \n",
    "    for sample in tqdm(val):\n",
    "        VV = sample['input']['S1'][0]\n",
    "        VH = sample['input']['S1'][1]\n",
    "        B2 = sample['target']['S2'][0]\n",
    "        B3 = sample['target']['S2'][1]\n",
    "        B4 = sample['target']['S2'][2]\n",
    "        \n",
    "        VV_avg += np.sum(VV)/val_len/65536\n",
    "        VH_avg += np.sum(VH)/val_len/65536\n",
    "        B2_avg += np.sum(B2)/val_len/65536\n",
    "        B3_avg += np.sum(B3)/val_len/65536\n",
    "        B4_avg += np.sum(B4)/val_len/65536\n",
    "        \n",
    "        if VV_min > VV.min():\n",
    "            VV_min = VV.min()\n",
    "        if VV_max < VV.max():\n",
    "            VV_max = VV.max()\n",
    "            \n",
    "        if VH_min > VH.min():\n",
    "            VH_min = VH.min()\n",
    "        if VH_max < VH.max():\n",
    "            VH_max = VH.max()\n",
    "            \n",
    "        if B2_min > B2.min():\n",
    "            B2_min = B2.min()\n",
    "        if B2_max < B2.max():\n",
    "            B2_max = B2.max()\n",
    "            \n",
    "        if B3_min > B3.min():\n",
    "            B3_min = B3.min()\n",
    "        if B3_max < B3.max():\n",
    "            B3_max = B3.max()\n",
    "            \n",
    "        if B4_min > B4.min():\n",
    "            B4_min = B4.min()\n",
    "        if B4_max < B4.max():\n",
    "            B4_max = B4.max()\n",
    "        \n",
    "        VV = np.clip(sample['input']['S1'][0], -50, 0)\n",
    "        VH = np.clip(sample['input']['S1'][1], -50, 0)\n",
    "        B2 = np.clip(sample['target']['S2'][0], 0, 10000)\n",
    "        B3 = np.clip(sample['target']['S2'][1], 0, 10000)\n",
    "        B4 = np.clip(sample['target']['S2'][2], 0, 10000)\n",
    "    \n",
    "        temp_VV_histogram, temp_VV_bins = np.histogram(VV, bins=100, range=(-50.0, 0.0))\n",
    "        temp_VH_histogram, temp_VH_bins = np.histogram(VH, bins=100, range=(-50.0, 0.0))\n",
    "        temp_B2_histogram, temp_B2_bins = np.histogram(B2, bins=10000, range=(0.0, 10000.0))\n",
    "        temp_B3_histogram, temp_B3_bins = np.histogram(B3, bins=10000, range=(0.0, 10000.0))\n",
    "        temp_B4_histogram, temp_B4_bins = np.histogram(B4, bins=10000, range=(0.0, 10000.0))\n",
    "        \n",
    "        VV_histogram += temp_VV_histogram\n",
    "        VH_histogram += temp_VH_histogram\n",
    "        SAR_total_histogram += temp_VV_histogram\n",
    "        SAR_total_histogram += temp_VH_histogram\n",
    "        B2_histogram += temp_B2_histogram\n",
    "        B3_histogram += temp_B3_histogram\n",
    "        B4_histogram += temp_B4_histogram\n",
    "        EO_total_histogram += temp_B2_histogram\n",
    "        EO_total_histogram += temp_B3_histogram\n",
    "        EO_total_histogram += temp_B4_histogram\n",
    "    \n",
    "    dataset_statistics[key]={}\n",
    "    dataset_statistics[key]['VV_min']=VV_min\n",
    "    dataset_statistics[key]['VV_max']=VV_max\n",
    "    dataset_statistics[key]['VV_avg']=VV_avg\n",
    "    dataset_statistics[key]['VH_min']=VH_min\n",
    "    dataset_statistics[key]['VH_max']=VH_max\n",
    "    dataset_statistics[key]['VH_avg']=VH_avg\n",
    "    dataset_statistics[key]['B2_min']=B2_min\n",
    "    dataset_statistics[key]['B2_max']=B2_max\n",
    "    dataset_statistics[key]['B2_avg']=B2_avg\n",
    "    dataset_statistics[key]['B3_min']=B3_min\n",
    "    dataset_statistics[key]['B3_max']=B3_max\n",
    "    dataset_statistics[key]['B3_avg']=B3_avg\n",
    "    dataset_statistics[key]['B4_min']=B4_min\n",
    "    dataset_statistics[key]['B4_max']=B4_max\n",
    "    dataset_statistics[key]['B4_avg']=B4_avg\n",
    "    dataset_statistics[key]['VV_histogram']=VV_histogram\n",
    "    dataset_statistics[key]['VH_histogram']=VH_histogram\n",
    "    dataset_statistics[key]['SAR_total_histogram']=SAR_total_histogram\n",
    "    dataset_statistics[key]['B2_histogram']=B2_histogram\n",
    "    dataset_statistics[key]['B3_histogram']=B3_histogram\n",
    "    dataset_statistics[key]['B4_histogram']=B4_histogram\n",
    "    dataset_statistics[key]['EO_total_histogram']=EO_total_histogram"
   ]
  },
  {
   "cell_type": "code",
   "execution_count": 5,
   "metadata": {},
   "outputs": [],
   "source": [
    "SAR_bin = [elem/2 for elem in list(range(-100, 0))]\n",
    "EO_bin = [elem for elem in list(range(0, 10000))]\n",
    "\n",
    "for key in datasets.keys():        \n",
    "    stat = dataset_statistics[key]\n",
    "        \n",
    "    VV_histogram = stat['VV_histogram']\n",
    "    VH_histogram = stat['VH_histogram']\n",
    "    SAR_total_histogram = stat['SAR_total_histogram']\n",
    "    B2_histogram = stat['B2_histogram']\n",
    "    B3_histogram = stat['B3_histogram']\n",
    "    B4_histogram = stat['B4_histogram']\n",
    "    EO_total_histogram = stat['EO_total_histogram']\n",
    "    ###\n",
    "    threshold_upper = np.sum(VV_histogram) * 0.98\n",
    "    threshold_lower = np.sum(VV_histogram) * 0.02\n",
    "    \n",
    "    lower_flag = False\n",
    "    temp_num = 0\n",
    "    for i in range(len(VV_histogram)):\n",
    "        temp_num += VV_histogram[i]\n",
    "        if (not lower_flag) and (temp_num > threshold_lower):\n",
    "            lower = i\n",
    "            lower_flag = True\n",
    "        if temp_num > threshold_upper:\n",
    "            higher = i\n",
    "            break\n",
    "\n",
    "    dataset_statistics[key]['VV_lower'] = SAR_bin[lower]\n",
    "    dataset_statistics[key]['VV_upper'] = SAR_bin[higher]\n",
    "    ###\n",
    "    threshold_upper = np.sum(VH_histogram) * 0.98\n",
    "    threshold_lower = np.sum(VH_histogram) * 0.02\n",
    "    \n",
    "    lower_flag = False\n",
    "    temp_num = 0\n",
    "    for i in range(len(VH_histogram)):\n",
    "        temp_num += VH_histogram[i]\n",
    "        if (not lower_flag) and (temp_num > threshold_lower):\n",
    "            lower = i\n",
    "            lower_flag = True\n",
    "        if temp_num > threshold_upper:\n",
    "            higher = i\n",
    "            break\n",
    "        \n",
    "    dataset_statistics[key]['VH_lower'] = SAR_bin[lower]\n",
    "    dataset_statistics[key]['VH_upper'] = SAR_bin[higher]\n",
    "    ###\n",
    "    threshold_upper = np.sum(SAR_total_histogram) * 0.98\n",
    "    threshold_lower = np.sum(SAR_total_histogram) * 0.02\n",
    "    \n",
    "    lower_flag = False\n",
    "    temp_num = 0\n",
    "    for i in range(len(SAR_total_histogram)):\n",
    "        temp_num += SAR_total_histogram[i]\n",
    "        if (not lower_flag) and (temp_num > threshold_lower):\n",
    "            lower = i\n",
    "            lower_flag = True\n",
    "        if temp_num > threshold_upper:\n",
    "            higher = i\n",
    "            break\n",
    "        \n",
    "    dataset_statistics[key]['SAR_lower'] = SAR_bin[lower]\n",
    "    dataset_statistics[key]['SAR_upper'] = SAR_bin[higher]\n",
    "    ###\n",
    "    threshold_upper = np.sum(B2_histogram) * 0.98\n",
    "    threshold_lower = np.sum(B2_histogram) * 0.02\n",
    "    \n",
    "    lower_flag = False\n",
    "    temp_num = 0\n",
    "    for i in range(len(B2_histogram)):\n",
    "        temp_num += B2_histogram[i]\n",
    "        if (not lower_flag) and (temp_num > threshold_lower):\n",
    "            lower = i\n",
    "            lower_flag = True\n",
    "        if temp_num > threshold_upper:\n",
    "            higher = i\n",
    "            break\n",
    "        \n",
    "    dataset_statistics[key]['B2_lower'] = EO_bin[lower]\n",
    "    dataset_statistics[key]['B2_upper'] = EO_bin[higher]\n",
    "    ###\n",
    "    threshold_upper = np.sum(B3_histogram) * 0.98\n",
    "    threshold_lower = np.sum(B3_histogram) * 0.02\n",
    "    \n",
    "    lower_flag = False\n",
    "    temp_num = 0\n",
    "    for i in range(len(B3_histogram)):\n",
    "        temp_num += B3_histogram[i]\n",
    "        if (not lower_flag) and (temp_num > threshold_lower):\n",
    "            lower = i\n",
    "            lower_flag = True\n",
    "        if temp_num > threshold_upper:\n",
    "            higher = i\n",
    "            break\n",
    "        \n",
    "    dataset_statistics[key]['B3_lower'] = EO_bin[lower]\n",
    "    dataset_statistics[key]['B3_upper'] = EO_bin[higher]\n",
    "    ###\n",
    "    threshold_upper = np.sum(B4_histogram) * 0.98\n",
    "    threshold_lower = np.sum(B4_histogram) * 0.02\n",
    "    \n",
    "    lower_flag = False\n",
    "    temp_num = 0\n",
    "    for i in range(len(B4_histogram)):\n",
    "        temp_num += B4_histogram[i]\n",
    "        if (not lower_flag) and (temp_num > threshold_lower):\n",
    "            lower = i\n",
    "            lower_flag = True\n",
    "        if temp_num > threshold_upper:\n",
    "            higher = i\n",
    "            break\n",
    "        \n",
    "    dataset_statistics[key]['B4_lower'] = EO_bin[lower]\n",
    "    dataset_statistics[key]['B4_upper'] = EO_bin[higher]\n",
    "    ###\n",
    "    threshold_upper = np.sum(EO_total_histogram) * 0.98\n",
    "    threshold_lower = np.sum(EO_total_histogram) * 0.02\n",
    "    \n",
    "    lower_flag = False\n",
    "    temp_num = 0\n",
    "    for i in range(len(EO_total_histogram)):\n",
    "        temp_num += EO_total_histogram[i]\n",
    "        if (not lower_flag) and (temp_num > threshold_lower):\n",
    "            lower = i\n",
    "            lower_flag = True\n",
    "        if temp_num > threshold_upper:\n",
    "            higher = i\n",
    "            break\n",
    "        \n",
    "    dataset_statistics[key]['EO_lower'] = EO_bin[lower]\n",
    "    dataset_statistics[key]['EO_upper'] = EO_bin[higher]"
   ]
  },
  {
   "cell_type": "code",
   "execution_count": 6,
   "metadata": {},
   "outputs": [
    {
     "name": "stderr",
     "output_type": "stream",
     "text": [
      "100%|██████████| 24378/24378 [02:57<00:00, 137.38it/s]\n",
      "100%|██████████| 29394/29394 [03:34<00:00, 137.22it/s]\n",
      "100%|██████████| 39376/39376 [04:48<00:00, 136.71it/s]\n",
      "100%|██████████| 13995/13995 [01:41<00:00, 138.31it/s]\n",
      "100%|██████████| 107143/107143 [13:02<00:00, 136.86it/s]\n",
      "100%|██████████| 3983/3983 [00:29<00:00, 136.10it/s]\n",
      "100%|██████████| 1565/1565 [00:11<00:00, 136.57it/s]\n",
      "100%|██████████| 784/784 [00:05<00:00, 135.87it/s]\n",
      "100%|██████████| 1567/1567 [00:11<00:00, 137.49it/s]\n",
      "100%|██████████| 7899/7899 [00:58<00:00, 134.89it/s]\n",
      "100%|██████████| 756/756 [00:05<00:00, 127.71it/s]\n",
      "100%|██████████| 2868/2868 [00:20<00:00, 137.35it/s]\n",
      "100%|██████████| 781/781 [00:05<00:00, 139.35it/s]\n",
      "100%|██████████| 2771/2771 [00:20<00:00, 137.21it/s]\n",
      "100%|██████████| 7176/7176 [00:52<00:00, 135.42it/s]\n",
      "100%|██████████| 29117/29117 [03:33<00:00, 136.37it/s]\n",
      "100%|██████████| 33827/33827 [04:07<00:00, 136.63it/s]\n",
      "100%|██████████| 40941/40941 [04:59<00:00, 136.70it/s]\n",
      "100%|██████████| 18333/18333 [02:13<00:00, 137.22it/s]\n",
      "100%|██████████| 122218/122218 [14:53<00:00, 136.76it/s]\n"
     ]
    }
   ],
   "source": [
    "# for key in dataset_statistics.keys():\n",
    "#     vv_avg = dataset_statistics[key]['VV_avg']\n",
    "#     vh_avg = dataset_statistics[key]['VH_avg']\n",
    "#     b2_avg = dataset_statistics[key]['B2_avg']\n",
    "#     b3_avg = dataset_statistics[key]['B3_avg']\n",
    "#     b4_avg = dataset_statistics[key]['B4_avg']\n",
    "#     \n",
    "#     dataset = datasets[key]\n",
    "#     val_len = len(dataset)\n",
    "#     \n",
    "#     VV_var = 0\n",
    "#     VH_var = 0\n",
    "#     B2_var = 0\n",
    "#     B3_var = 0\n",
    "#     B4_var = 0\n",
    "# \n",
    "#     for sample in tqdm(dataset):\n",
    "#         VV = np.clip(sample['input']['S1'][0], -50, 0)\n",
    "#         VH = np.clip(sample['input']['S1'][1], -50, 0)\n",
    "#         B2 = np.clip(sample['target']['S2'][0], 0, 10000)\n",
    "#         B3 = np.clip(sample['target']['S2'][1], 0, 10000)\n",
    "#         B4 = np.clip(sample['target']['S2'][2], 0, 10000)\n",
    "#         \n",
    "#         VV_var += np.sum(np.square(VV-vv_avg)) /val_len /65536\n",
    "#         VH_var += np.sum(np.square(VH-vh_avg)) /val_len /65536\n",
    "#         B2_var += np.sum(np.square(B2-vv_avg)) /val_len /65536\n",
    "#         B3_var += np.sum(np.square(B3-vv_avg)) /val_len /65536\n",
    "#         B4_var += np.sum(np.square(B4-vv_avg)) /val_len /65536\n",
    "#     \n",
    "#     VV_std = np.sqrt(VV_var)\n",
    "#     VH_std = np.sqrt(VH_var)\n",
    "#     B2_std = np.sqrt(B2_var)\n",
    "#     B3_std = np.sqrt(B3_var)\n",
    "#     B4_std = np.sqrt(B4_var)\n",
    "#     \n",
    "#     dataset_statistics[key]['VV_var'] = VV_var\n",
    "#     dataset_statistics[key]['VH_var'] = VH_var\n",
    "#     dataset_statistics[key]['B2_var'] = B2_var\n",
    "#     dataset_statistics[key]['B3_var'] = B3_var\n",
    "#     dataset_statistics[key]['B4_var'] = B4_var\n",
    "#     dataset_statistics[key]['VV_std'] = VV_std\n",
    "#     dataset_statistics[key]['VH_std'] = VH_std\n",
    "#     dataset_statistics[key]['B2_std'] = B2_std\n",
    "#     dataset_statistics[key]['B3_std'] = B3_std\n",
    "#     dataset_statistics[key]['B4_std'] = B4_std\n",
    "#     \n",
    "for key in dataset_statistics.keys():\n",
    "    vv_avg = dataset_statistics[key]['VV_avg']\n",
    "    vh_avg = dataset_statistics[key]['VH_avg']\n",
    "    b2_avg = dataset_statistics[key]['B2_avg']\n",
    "    b3_avg = dataset_statistics[key]['B3_avg']\n",
    "    b4_avg = dataset_statistics[key]['B4_avg']\n",
    "    \n",
    "    dataset = datasets[key]\n",
    "    val_len = len(dataset)\n",
    "    \n",
    "    VV_var = 0\n",
    "    VH_var = 0\n",
    "    B2_var = 0\n",
    "    B3_var = 0\n",
    "    B4_var = 0\n",
    "\n",
    "    for sample in tqdm(dataset):\n",
    "        VV = sample['input']['S1'][0]\n",
    "        VH = sample['input']['S1'][1]\n",
    "        B2 = sample['target']['S2'][0]\n",
    "        B3 = sample['target']['S2'][1]\n",
    "        B4 = sample['target']['S2'][2]\n",
    "        \n",
    "        VV_var += np.sum(np.square(VV-vv_avg)) /val_len /65536\n",
    "        VH_var += np.sum(np.square(VH-vh_avg)) /val_len /65536\n",
    "        B2_var += np.sum(np.square(B2-vv_avg)) /val_len /65536\n",
    "        B3_var += np.sum(np.square(B3-vv_avg)) /val_len /65536\n",
    "        B4_var += np.sum(np.square(B4-vv_avg)) /val_len /65536\n",
    "    \n",
    "    VV_std = np.sqrt(VV_var)\n",
    "    VH_std = np.sqrt(VH_var)\n",
    "    B2_std = np.sqrt(B2_var)\n",
    "    B3_std = np.sqrt(B3_var)\n",
    "    B4_std = np.sqrt(B4_var)\n",
    "    \n",
    "    dataset_statistics[key]['VV_var'] = VV_var\n",
    "    dataset_statistics[key]['VH_var'] = VH_var\n",
    "    dataset_statistics[key]['B2_var'] = B2_var\n",
    "    dataset_statistics[key]['B3_var'] = B3_var\n",
    "    dataset_statistics[key]['B4_var'] = B4_var\n",
    "    dataset_statistics[key]['VV_std'] = VV_std\n",
    "    dataset_statistics[key]['VH_std'] = VH_std\n",
    "    dataset_statistics[key]['B2_std'] = B2_std\n",
    "    dataset_statistics[key]['B3_std'] = B3_std\n",
    "    dataset_statistics[key]['B4_std'] = B4_std\n",
    "    "
   ]
  },
  {
   "cell_type": "code",
   "execution_count": 7,
   "metadata": {},
   "outputs": [
    {
     "name": "stderr",
     "output_type": "stream",
     "text": [
      "100%|██████████| 20/20 [14:40<00:00, 44.00s/it]\n"
     ]
    },
    {
     "data": {
      "image/png": "[encoded data removed]",
      "text/plain": [
       "<Figure size 640x480 with 1 Axes>"
      ]
     },
     "metadata": {},
     "output_type": "display_data"
    }
   ],
   "source": [
    "for key in tqdm(dataset_statistics.keys()):\n",
    "        vv_histogram = dataset_statistics[key]['VV_histogram']\n",
    "        plt.bar([elem/2 for elem in list(range(-100, 0))], vv_histogram)\n",
    "        temp_path = 'statistics/'+key+'/SAR_VV_log.png'\n",
    "        \n",
    "        lower = dataset_statistics[key]['VV_lower']\n",
    "        higher = dataset_statistics[key]['VV_upper']\n",
    "        plt.axvline(x = lower, color = 'r')\n",
    "        plt.axvline(x = higher, color = 'r')\n",
    "        \n",
    "        plt.yscale('log')\n",
    "        plt.savefig(temp_path, dpi=400)\n",
    "        plt.yscale('linear')\n",
    "        temp_path = 'statistics/'+key+'/SAR_VV_linear.png'\n",
    "        plt.savefig(temp_path, dpi=400)\n",
    "        plt.cla()\n",
    "        \n",
    "        vh_histogram = dataset_statistics[key]['VH_histogram']\n",
    "        plt.bar([elem/2 for elem in list(range(-100, 0))], vh_histogram)\n",
    "        temp_path = 'statistics/'+key+'/SAR_VH_log.png'\n",
    "        \n",
    "        lower = dataset_statistics[key]['VH_lower']\n",
    "        higher = dataset_statistics[key]['VH_upper']\n",
    "        plt.axvline(x = lower, color = 'r')\n",
    "        plt.axvline(x = higher, color = 'r')\n",
    "        \n",
    "        plt.yscale('log')\n",
    "        plt.savefig(temp_path, dpi=400)\n",
    "        plt.yscale('linear')\n",
    "        temp_path = 'statistics/'+key+'/SAR_VH_linear.png'\n",
    "        plt.savefig(temp_path, dpi=400)\n",
    "        plt.cla()\n",
    "        \n",
    "        sar_histogram = dataset_statistics[key]['SAR_total_histogram']\n",
    "        plt.bar([elem/2 for elem in list(range(-100, 0))], sar_histogram)\n",
    "        temp_path = 'statistics/'+key+'/SAR_TOTAL_log.png'\n",
    "        \n",
    "        lower = dataset_statistics[key]['SAR_lower']\n",
    "        higher = dataset_statistics[key]['SAR_upper']\n",
    "        plt.axvline(x = lower, color = 'r')\n",
    "        plt.axvline(x = higher, color = 'r')\n",
    "        \n",
    "        plt.yscale('log')\n",
    "        plt.savefig(temp_path, dpi=400)\n",
    "        plt.yscale('linear')\n",
    "        temp_path = 'statistics/'+key+'/SAR_TOTAL_linear.png'\n",
    "        plt.savefig(temp_path, dpi=400)\n",
    "        plt.cla()\n",
    "        \n",
    "        b2_histogram = dataset_statistics[key]['B2_histogram']\n",
    "        plt.bar([elem for elem in list(range(0, 10000))], b2_histogram)\n",
    "        temp_path = 'statistics/'+key+'/EO_B2_log.png'\n",
    "        \n",
    "        lower = dataset_statistics[key]['B2_lower']\n",
    "        higher = dataset_statistics[key]['B2_upper']\n",
    "        plt.axvline(x = lower, color = 'r')\n",
    "        plt.axvline(x = higher, color = 'r')\n",
    "        \n",
    "        plt.yscale('log')\n",
    "        plt.savefig(temp_path, dpi=400)\n",
    "        plt.yscale('linear')\n",
    "        temp_path = 'statistics/'+key+'/EO_B2_linear.png'\n",
    "        plt.savefig(temp_path, dpi=400)\n",
    "        plt.cla()\n",
    "        \n",
    "        b3_histogram = dataset_statistics[key]['B3_histogram']\n",
    "        plt.bar([elem for elem in list(range(0, 10000))], b3_histogram)\n",
    "        temp_path = 'statistics/'+key+'/EO_B3_log.png'\n",
    "        \n",
    "        lower = dataset_statistics[key]['B3_lower']\n",
    "        higher = dataset_statistics[key]['B3_upper']\n",
    "        plt.axvline(x = lower, color = 'r')\n",
    "        plt.axvline(x = higher, color = 'r')\n",
    "        \n",
    "        plt.yscale('log')\n",
    "        plt.savefig(temp_path, dpi=400)\n",
    "        plt.yscale('linear')\n",
    "        temp_path = 'statistics/'+key+'/EO_B3_linear.png'\n",
    "        plt.savefig(temp_path, dpi=400)\n",
    "        plt.cla()\n",
    "        \n",
    "        b4_histogram = dataset_statistics[key]['B4_histogram']\n",
    "        plt.bar([elem for elem in list(range(0, 10000))], b4_histogram)\n",
    "        temp_path = 'statistics/'+key+'/EO_B4_log.png'\n",
    "        \n",
    "        lower = dataset_statistics[key]['B4_lower']\n",
    "        higher = dataset_statistics[key]['B4_upper']\n",
    "        plt.axvline(x = lower, color = 'r')\n",
    "        plt.axvline(x = higher, color = 'r')\n",
    "        \n",
    "        plt.yscale('log')\n",
    "        plt.savefig(temp_path, dpi=400)\n",
    "        plt.yscale('linear')\n",
    "        temp_path = 'statistics/'+key+'/EO_B4_linear.png'\n",
    "        plt.savefig(temp_path, dpi=400)\n",
    "        plt.cla()\n",
    "        \n",
    "        eo_histogram = dataset_statistics[key]['EO_total_histogram']\n",
    "        plt.bar([elem for elem in list(range(0, 10000))], b2_histogram)\n",
    "        temp_path = 'statistics/'+key+'/EO_TOTAL_log.png'\n",
    "        \n",
    "        lower = dataset_statistics[key]['EO_lower']\n",
    "        higher = dataset_statistics[key]['EO_upper']\n",
    "        plt.axvline(x = lower, color = 'r')\n",
    "        plt.axvline(x = higher, color = 'r')\n",
    "        \n",
    "        plt.yscale('log')\n",
    "        plt.savefig(temp_path, dpi=400)\n",
    "        plt.yscale('linear')\n",
    "        temp_path = 'statistics/'+key+'/EO_TOTAL_linear.png'\n",
    "        plt.savefig(temp_path, dpi=400)\n",
    "        plt.cla()\n"
   ]
  },
  {
   "cell_type": "code",
   "execution_count": 8,
   "metadata": {},
   "outputs": [],
   "source": [
    "for key in dataset_statistics.keys():\n",
    "    path = 'statistics/'+key+'.pickle'\n",
    "    with open(path, 'wb') as fw:\n",
    "        pickle.dump(dataset_statistics[key], fw)"
   ]
  },
  {
   "cell_type": "code",
   "execution_count": 9,
   "metadata": {},
   "outputs": [
    {
     "name": "stderr",
     "output_type": "stream",
     "text": [
      "100%|██████████| 24378/24378 [02:57<00:00, 137.29it/s]\n"
     ]
    },
    {
     "name": "stdout",
     "output_type": "stream",
     "text": [
      "sen12mscr_train_spring\n",
      "-8.804799\n",
      "3.6306603\n",
      "-8.337405\n",
      "3.735127\n",
      "-0.6689264\n",
      "14.193612\n",
      "-0.75250715\n",
      "12.233386\n",
      "-0.7532785\n",
      "11.811877\n",
      "========\n"
     ]
    },
    {
     "name": "stderr",
     "output_type": "stream",
     "text": [
      "100%|██████████| 29394/29394 [03:33<00:00, 137.94it/s]\n"
     ]
    },
    {
     "name": "stdout",
     "output_type": "stream",
     "text": [
      "sen12mscr_train_summer\n",
      "-8.953316\n",
      "3.402072\n",
      "10000\n",
      "-10000\n",
      "-0.8465126\n",
      "21.424736\n",
      "-0.93582296\n",
      "18.467443\n",
      "-0.9596897\n",
      "18.696438\n",
      "========\n"
     ]
    },
    {
     "name": "stderr",
     "output_type": "stream",
     "text": [
      "100%|██████████| 39376/39376 [04:45<00:00, 137.77it/s]\n"
     ]
    },
    {
     "name": "stdout",
     "output_type": "stream",
     "text": [
      "sen12mscr_train_fall\n",
      "-9.43716\n",
      "4.048251\n",
      "-5.7917204\n",
      "3.81947\n",
      "-0.8694179\n",
      "24.031317\n",
      "-0.93867064\n",
      "24.831722\n",
      "-0.96463126\n",
      "22.252245\n",
      "========\n"
     ]
    },
    {
     "name": "stderr",
     "output_type": "stream",
     "text": [
      "100%|██████████| 13995/13995 [01:41<00:00, 138.10it/s]\n"
     ]
    },
    {
     "name": "stdout",
     "output_type": "stream",
     "text": [
      "sen12mscr_train_winter\n",
      "-7.3615227\n",
      "2.884234\n",
      "-6.6604304\n",
      "4.011864\n",
      "-0.8501772\n",
      "18.031563\n",
      "-0.92920893\n",
      "21.737223\n",
      "-0.960988\n",
      "19.45149\n",
      "========\n"
     ]
    },
    {
     "name": "stderr",
     "output_type": "stream",
     "text": [
      "100%|██████████| 107143/107143 [12:58<00:00, 137.60it/s]\n"
     ]
    },
    {
     "name": "stdout",
     "output_type": "stream",
     "text": [
      "sen12mscr_train_all\n",
      "-10.064113\n",
      "3.8123403\n",
      "10000\n",
      "-10000\n",
      "-0.7937967\n",
      "20.964407\n",
      "-0.8728733\n",
      "21.999163\n",
      "-0.89350295\n",
      "20.513361\n",
      "========\n"
     ]
    },
    {
     "name": "stderr",
     "output_type": "stream",
     "text": [
      "100%|██████████| 3983/3983 [00:29<00:00, 136.03it/s]\n"
     ]
    },
    {
     "name": "stdout",
     "output_type": "stream",
     "text": [
      "sen12mscr_test_spring\n",
      "-6.3578353\n",
      "3.3668706\n",
      "-6.578855\n",
      "3.7074373\n",
      "-0.66348565\n",
      "24.94093\n",
      "-0.5668177\n",
      "20.440176\n",
      "-0.6144547\n",
      "20.279366\n",
      "========\n"
     ]
    },
    {
     "name": "stderr",
     "output_type": "stream",
     "text": [
      "100%|██████████| 1565/1565 [00:11<00:00, 135.57it/s]\n"
     ]
    },
    {
     "name": "stdout",
     "output_type": "stream",
     "text": [
      "sen12mscr_test_summer\n",
      "-5.9553185\n",
      "2.855249\n",
      "-7.074254\n",
      "4.511278\n",
      "-0.6896794\n",
      "13.078864\n",
      "-0.56604886\n",
      "12.525698\n",
      "-0.42669624\n",
      "11.18257\n",
      "========\n"
     ]
    },
    {
     "name": "stderr",
     "output_type": "stream",
     "text": [
      "100%|██████████| 784/784 [00:05<00:00, 135.97it/s]\n"
     ]
    },
    {
     "name": "stdout",
     "output_type": "stream",
     "text": [
      "sen12mscr_test_fall\n",
      "-7.0086775\n",
      "3.2864845\n",
      "-5.403223\n",
      "5.1478686\n",
      "-0.519369\n",
      "8.761958\n",
      "-0.3758371\n",
      "9.619764\n",
      "-0.3929994\n",
      "5.924271\n",
      "========\n"
     ]
    },
    {
     "name": "stderr",
     "output_type": "stream",
     "text": [
      "100%|██████████| 1567/1567 [00:11<00:00, 134.43it/s]\n"
     ]
    },
    {
     "name": "stdout",
     "output_type": "stream",
     "text": [
      "sen12mscr_test_winter\n",
      "-5.697872\n",
      "2.360016\n",
      "-4.5859675\n",
      "3.3691325\n",
      "-0.6401004\n",
      "35.20218\n",
      "-0.51938856\n",
      "31.493435\n",
      "-0.65050006\n",
      "25.890772\n",
      "========\n"
     ]
    },
    {
     "name": "stderr",
     "output_type": "stream",
     "text": [
      "100%|██████████| 7899/7899 [00:58<00:00, 135.07it/s]\n"
     ]
    },
    {
     "name": "stdout",
     "output_type": "stream",
     "text": [
      "sen12mscr_test_all\n",
      "-6.948307\n",
      "3.5591214\n",
      "-6.8341303\n",
      "3.8221655\n",
      "-0.7143688\n",
      "26.854359\n",
      "-0.59828895\n",
      "26.476412\n",
      "-0.66129935\n",
      "23.991854\n",
      "========\n"
     ]
    },
    {
     "name": "stderr",
     "output_type": "stream",
     "text": [
      "100%|██████████| 756/756 [00:05<00:00, 137.48it/s]\n"
     ]
    },
    {
     "name": "stdout",
     "output_type": "stream",
     "text": [
      "sen12mscr_val_spring\n",
      "-3.2930768\n",
      "3.7413478\n",
      "-4.1474795\n",
      "6.3464184\n",
      "-0.551443\n",
      "9.867152\n",
      "-0.48123926\n",
      "6.126781\n",
      "-0.24392448\n",
      "5.7017055\n",
      "========\n"
     ]
    },
    {
     "name": "stderr",
     "output_type": "stream",
     "text": [
      "100%|██████████| 2868/2868 [00:21<00:00, 136.41it/s]\n"
     ]
    },
    {
     "name": "stdout",
     "output_type": "stream",
     "text": [
      "sen12mscr_val_summer\n",
      "-7.764532\n",
      "4.265124\n",
      "-6.0877786\n",
      "4.7933645\n",
      "-0.736079\n",
      "6.36485\n",
      "-0.6623534\n",
      "5.285405\n",
      "-0.47790492\n",
      "6.0238853\n",
      "========\n"
     ]
    },
    {
     "name": "stderr",
     "output_type": "stream",
     "text": [
      "100%|██████████| 781/781 [00:05<00:00, 136.72it/s]\n"
     ]
    },
    {
     "name": "stdout",
     "output_type": "stream",
     "text": [
      "sen12mscr_val_fall\n",
      "-6.2617254\n",
      "3.6349356\n",
      "-6.8573127\n",
      "5.6837816\n",
      "-0.7953951\n",
      "2.6486073\n",
      "-0.65641594\n",
      "2.534285\n",
      "-0.49791008\n",
      "4.0824842\n",
      "========\n"
     ]
    },
    {
     "name": "stderr",
     "output_type": "stream",
     "text": [
      "100%|██████████| 2771/2771 [00:20<00:00, 138.02it/s]\n"
     ]
    },
    {
     "name": "stdout",
     "output_type": "stream",
     "text": [
      "sen12mscr_val_winter\n",
      "-4.8906045\n",
      "2.9226274\n",
      "-3.3758676\n",
      "3.799006\n",
      "-0.72032773\n",
      "14.486149\n",
      "-0.9390643\n",
      "12.97137\n",
      "-0.9644895\n",
      "9.868405\n",
      "========\n"
     ]
    },
    {
     "name": "stderr",
     "output_type": "stream",
     "text": [
      "100%|██████████| 7176/7176 [00:52<00:00, 136.98it/s]\n"
     ]
    },
    {
     "name": "stdout",
     "output_type": "stream",
     "text": [
      "sen12mscr_val_all\n",
      "-6.973457\n",
      "3.8667061\n",
      "-5.117841\n",
      "4.0743914\n",
      "-0.7129455\n",
      "12.050077\n",
      "-0.91736776\n",
      "11.165572\n",
      "-0.9506737\n",
      "9.311943\n",
      "========\n"
     ]
    },
    {
     "name": "stderr",
     "output_type": "stream",
     "text": [
      "100%|██████████| 29117/29117 [03:32<00:00, 137.18it/s]\n"
     ]
    },
    {
     "name": "stdout",
     "output_type": "stream",
     "text": [
      "sen12mscr_spring\n",
      "-8.730852\n",
      "3.601269\n",
      "-8.377474\n",
      "3.7401435\n",
      "-0.6752959\n",
      "15.164339\n",
      "-0.76298904\n",
      "13.206774\n",
      "-0.7665406\n",
      "13.282789\n",
      "========\n"
     ]
    },
    {
     "name": "stderr",
     "output_type": "stream",
     "text": [
      "100%|██████████| 33827/33827 [04:06<00:00, 137.14it/s]\n"
     ]
    },
    {
     "name": "stdout",
     "output_type": "stream",
     "text": [
      "sen12mscr_summer\n",
      "-9.225965\n",
      "3.4983518\n",
      "10000\n",
      "-10000\n",
      "-0.8401959\n",
      "19.775576\n",
      "-0.9283079\n",
      "17.56228\n",
      "-0.95591974\n",
      "18.122414\n",
      "========\n"
     ]
    },
    {
     "name": "stderr",
     "output_type": "stream",
     "text": [
      "100%|██████████| 40941/40941 [04:54<00:00, 138.81it/s]\n"
     ]
    },
    {
     "name": "stdout",
     "output_type": "stream",
     "text": [
      "sen12mscr_fall\n",
      "-9.509605\n",
      "4.0684924\n",
      "-5.8472867\n",
      "3.8551645\n",
      "-0.8727306\n",
      "23.807596\n",
      "-0.93986917\n",
      "24.68012\n",
      "-0.9651112\n",
      "22.144302\n",
      "========\n"
     ]
    },
    {
     "name": "stderr",
     "output_type": "stream",
     "text": [
      "100%|██████████| 18333/18333 [02:12<00:00, 137.98it/s]\n"
     ]
    },
    {
     "name": "stdout",
     "output_type": "stream",
     "text": [
      "sen12mscr_winter\n",
      "-7.198238\n",
      "2.8296285\n",
      "-6.272256\n",
      "3.8242202\n",
      "-0.8507585\n",
      "19.105669\n",
      "-0.9287524\n",
      "22.509628\n",
      "-0.9611241\n",
      "21.749784\n",
      "========\n"
     ]
    },
    {
     "name": "stderr",
     "output_type": "stream",
     "text": [
      "100%|██████████| 122218/122218 [14:50<00:00, 137.27it/s]"
     ]
    },
    {
     "name": "stdout",
     "output_type": "stream",
     "text": [
      "sen12mscr\n",
      "-10.123697\n",
      "3.8338435\n",
      "10000\n",
      "-10000\n",
      "-0.8005544\n",
      "21.001427\n",
      "-0.8784257\n",
      "22.110628\n",
      "-0.89994895\n",
      "20.690168\n",
      "========\n"
     ]
    },
    {
     "name": "stderr",
     "output_type": "stream",
     "text": [
      "\n"
     ]
    }
   ],
   "source": [
    "for key, val in datasets.items():\n",
    "    dataset_statistics[key]={}    \n",
    "    \n",
    "    VV_min = 10000\n",
    "    VV_max = -10000\n",
    "    VH_min = 10000\n",
    "    VH_max = -10000\n",
    "    B2_min = 10000\n",
    "    B2_max = -10000\n",
    "    B3_min = 10000\n",
    "    B3_max = -10000\n",
    "    B4_min = 10000\n",
    "    B4_max = -10000\n",
    "    \n",
    "    path = 'statistics/'+key+'.pickle'\n",
    "    with open(path, 'rb') as fr:\n",
    "        stat = pickle.load(fr)\n",
    "        vv_avg = stat['VV_avg']\n",
    "        vh_avg = stat['VH_avg']\n",
    "        b2_avg = stat['B2_avg']\n",
    "        b3_avg = stat['B3_avg']\n",
    "        b4_avg = stat['B4_avg']\n",
    "        vv_std = stat['VV_std']\n",
    "        vh_std = stat['VH_std']\n",
    "        b2_std = stat['B2_std']\n",
    "        b3_std = stat['B3_std']\n",
    "        b4_std = stat['B4_std']\n",
    "    \n",
    "    for sample in tqdm(val):\n",
    "        VV = sample['input']['S1'][0]\n",
    "        VH = sample['input']['S1'][1]\n",
    "        B2 = sample['target']['S2'][0]\n",
    "        B3 = sample['target']['S2'][1]\n",
    "        B4 = sample['target']['S2'][2]\n",
    "        \n",
    "        VV -= vv_avg\n",
    "        VH -= vh_avg\n",
    "        B2 -= b2_avg\n",
    "        B3 -= b3_avg\n",
    "        B4 -= b4_avg\n",
    "        \n",
    "        VV /= vv_std\n",
    "        VH /= vh_std\n",
    "        B2 /= b2_std\n",
    "        B3 /= b3_std\n",
    "        B4 /= b4_std\n",
    "    \n",
    "        if VV_min > VV.min():\n",
    "            VV_min = VV.min()\n",
    "        if VV_max < VV.max():\n",
    "            VV_max = VV.max()\n",
    "            \n",
    "        if VH_min > VH.min():\n",
    "            VH_min = VH.min()\n",
    "        if VH_max < VH.max():\n",
    "            VH_max = VH.max()\n",
    "            \n",
    "        if B2_min > B2.min():\n",
    "            B2_min = B2.min()\n",
    "        if B2_max < B2.max():\n",
    "            B2_max = B2.max()\n",
    "            \n",
    "        if B3_min > B3.min():\n",
    "            B3_min = B3.min()\n",
    "        if B3_max < B3.max():\n",
    "            B3_max = B3.max()\n",
    "            \n",
    "        if B4_min > B4.min():\n",
    "            B4_min = B4.min()\n",
    "        if B4_max < B4.max():\n",
    "            B4_max = B4.max()       \n",
    "    print(key)\n",
    "    print(VV_min)\n",
    "    print(VV_max)\n",
    "    print(VH_min)\n",
    "    print(VH_max)\n",
    "    print(B2_min)\n",
    "    print(B2_max)\n",
    "    print(B3_min)\n",
    "    print(B3_max)\n",
    "    print(B4_min)\n",
    "    print(B4_max)\n",
    "    print('========')"
   ]
  },
  {
   "cell_type": "code",
   "execution_count": 10,
   "metadata": {},
   "outputs": [
    {
     "name": "stderr",
     "output_type": "stream",
     "text": [
      "100%|██████████| 24378/24378 [03:48<00:00, 106.69it/s]\n",
      "100%|██████████| 29394/29394 [04:23<00:00, 111.44it/s]\n",
      "100%|██████████| 39376/39376 [06:06<00:00, 107.38it/s]\n",
      "100%|██████████| 13995/13995 [02:11<00:00, 106.56it/s]\n",
      "100%|██████████| 107143/107143 [16:05<00:00, 111.01it/s]\n",
      "100%|██████████| 3983/3983 [00:37<00:00, 105.98it/s]\n",
      "100%|██████████| 1565/1565 [00:15<00:00, 103.90it/s]\n",
      "100%|██████████| 784/784 [00:07<00:00, 105.92it/s]\n",
      "100%|██████████| 1567/1567 [00:14<00:00, 106.42it/s]\n",
      "100%|██████████| 7899/7899 [01:14<00:00, 106.71it/s]\n",
      "100%|██████████| 756/756 [00:07<00:00, 104.34it/s]\n",
      "100%|██████████| 2868/2868 [00:27<00:00, 105.95it/s]\n",
      "100%|██████████| 781/781 [00:07<00:00, 106.90it/s]\n",
      "100%|██████████| 2771/2771 [00:25<00:00, 107.23it/s]\n",
      "100%|██████████| 7176/7176 [01:06<00:00, 107.21it/s]\n",
      "100%|██████████| 29117/29117 [04:34<00:00, 106.19it/s]\n",
      "100%|██████████| 33827/33827 [05:05<00:00, 110.83it/s]\n",
      "100%|██████████| 40941/40941 [06:22<00:00, 106.99it/s]\n",
      "100%|██████████| 18333/18333 [02:51<00:00, 107.03it/s]\n",
      "100%|██████████| 122218/122218 [18:20<00:00, 111.07it/s]\n"
     ]
    }
   ],
   "source": [
    "normalized_dataset_statistics = {}\n",
    "\n",
    "for key, val in datasets.items():\n",
    "    normalized_dataset_statistics[key]={}\n",
    "    \n",
    "    VV_histogram = np.zeros((200), dtype=np.int64)\n",
    "    VH_histogram = np.zeros((200), dtype=np.int64)\n",
    "    SAR_total_histogram = np.zeros((200), dtype=np.int64)\n",
    "    B2_histogram = np.zeros((200), dtype=np.int64)\n",
    "    B3_histogram = np.zeros((200), dtype=np.int64)\n",
    "    B4_histogram = np.zeros((200), dtype=np.int64)\n",
    "    EO_total_histogram = np.zeros((200), dtype=np.int64)\n",
    "    \n",
    "    path = 'statistics/'+key+'.pickle'\n",
    "    with open(path, 'rb') as fr:\n",
    "        stat = pickle.load(fr)\n",
    "        vv_avg = stat['VV_avg']\n",
    "        vh_avg = stat['VH_avg']\n",
    "        b2_avg = stat['B2_avg']\n",
    "        b3_avg = stat['B3_avg']\n",
    "        b4_avg = stat['B4_avg']\n",
    "        vv_std = stat['VV_std']\n",
    "        vh_std = stat['VH_std']\n",
    "        b2_std = stat['B2_std']\n",
    "        b3_std = stat['B3_std']\n",
    "        b4_std = stat['B4_std']\n",
    "    \n",
    "    for sample in tqdm(val):\n",
    "        VV = sample['input']['S1'][0]\n",
    "        VH = sample['input']['S1'][1]\n",
    "        B2 = sample['target']['S2'][0]\n",
    "        B3 = sample['target']['S2'][1]\n",
    "        B4 = sample['target']['S2'][2]\n",
    "\n",
    "        VV -= vv_avg\n",
    "        VH -= vh_avg\n",
    "        B2 -= b2_avg\n",
    "        B3 -= b3_avg\n",
    "        B4 -= b4_avg\n",
    "        \n",
    "        VV /= vv_std\n",
    "        VH /= vh_std\n",
    "        B2 /= b2_std\n",
    "        B3 /= b3_std\n",
    "        B4 /= b4_std\n",
    "        \n",
    "        temp_VV_histogram, temp_VV_bins = np.histogram(VV, bins=200, range=(-10.0, 10.0))\n",
    "        temp_VH_histogram, temp_VH_bins = np.histogram(VH, bins=200, range=(-10.0, 10.0))\n",
    "        temp_B2_histogram, temp_B2_bins = np.histogram(B2, bins=200, range=(-10.0, 10.0))\n",
    "        temp_B3_histogram, temp_B3_bins = np.histogram(B3, bins=200, range=(-10.0, 10.0))\n",
    "        temp_B4_histogram, temp_B4_bins = np.histogram(B4, bins=200, range=(-10.0, 10.0))\n",
    "        \n",
    "        VV_histogram += temp_VV_histogram\n",
    "        VH_histogram += temp_VH_histogram\n",
    "        SAR_total_histogram += temp_VV_histogram\n",
    "        SAR_total_histogram += temp_VH_histogram\n",
    "        B2_histogram += temp_B2_histogram\n",
    "        B3_histogram += temp_B3_histogram\n",
    "        B4_histogram += temp_B4_histogram\n",
    "        EO_total_histogram += temp_B2_histogram\n",
    "        EO_total_histogram += temp_B3_histogram\n",
    "        EO_total_histogram += temp_B4_histogram\n",
    "    \n",
    "    normalized_dataset_statistics[key]['VV_histogram']=VV_histogram\n",
    "    normalized_dataset_statistics[key]['VH_histogram']=VH_histogram\n",
    "    normalized_dataset_statistics[key]['SAR_total_histogram']=SAR_total_histogram\n",
    "    normalized_dataset_statistics[key]['B2_histogram']=B2_histogram\n",
    "    normalized_dataset_statistics[key]['B3_histogram']=B3_histogram\n",
    "    normalized_dataset_statistics[key]['B4_histogram']=B4_histogram\n",
    "    normalized_dataset_statistics[key]['EO_total_histogram']=EO_total_histogram"
   ]
  },
  {
   "cell_type": "code",
   "execution_count": 11,
   "metadata": {},
   "outputs": [],
   "source": [
    "for key in normalized_dataset_statistics.keys():\n",
    "    path = 'normalized_statistics/'+key+'.pickle'\n",
    "    with open(path, 'wb') as fw:\n",
    "        pickle.dump(normalized_dataset_statistics[key], fw)"
   ]
  },
  {
   "cell_type": "code",
   "execution_count": 12,
   "metadata": {},
   "outputs": [
    {
     "name": "stderr",
     "output_type": "stream",
     "text": [
      "  5%|▌         | 1/20 [00:04<01:30,  4.78s/it]/tmp/ipykernel_557952/221121892.py:20: UserWarning: Data has no positive values, and therefore cannot be log-scaled.\n",
      "  plt.yscale('log')\n",
      "100%|██████████| 20/20 [01:36<00:00,  4.83s/it]\n"
     ]
    },
    {
     "data": {
      "image/png": "[encoded data removed]",
      "text/plain": [
       "<Figure size 640x480 with 1 Axes>"
      ]
     },
     "metadata": {},
     "output_type": "display_data"
    }
   ],
   "source": [
    "for key in tqdm(dataset_statistics.keys()):\n",
    "    path = 'normalized_statistics/'+key+'.pickle'\n",
    "    with open (path, 'rb') as fr:\n",
    "        statistic = pickle.load(fr)\n",
    "        os.makedirs('normalized_statistics/'+key, exist_ok=True)\n",
    "        \n",
    "        vv_histogram = statistic['VV_histogram']\n",
    "        plt.bar([elem/10 for elem in list(range(-100, 100))], vv_histogram)\n",
    "        temp_path = 'normalized_statistics/'+key+'/SAR_VV_log.png'\n",
    "        plt.yscale('log')\n",
    "        plt.savefig(temp_path, dpi=400)\n",
    "        plt.yscale('linear')\n",
    "        temp_path = 'normalized_statistics/'+key+'/SAR_VV_linear.png'\n",
    "        plt.savefig(temp_path, dpi=400)\n",
    "        plt.cla()\n",
    "        \n",
    "        vh_histogram = statistic['VH_histogram']\n",
    "        plt.bar([elem/10 for elem in list(range(-100, 100))], vh_histogram)\n",
    "        temp_path = 'normalized_statistics/'+key+'/SAR_VH_log.png'\n",
    "        plt.yscale('log')\n",
    "        plt.savefig(temp_path, dpi=400)\n",
    "        plt.yscale('linear')\n",
    "        temp_path = 'normalized_statistics/'+key+'/SAR_VH_linear.png'\n",
    "        plt.savefig(temp_path, dpi=400)\n",
    "        plt.cla()\n",
    "        \n",
    "        sar_histogram = statistic['SAR_total_histogram']\n",
    "        plt.bar([elem/10 for elem in list(range(-100, 100))], sar_histogram)\n",
    "        temp_path = 'normalized_statistics/'+key+'/SAR_TOTAL_log.png'\n",
    "        plt.yscale('log')\n",
    "        plt.savefig(temp_path, dpi=400)\n",
    "        plt.yscale('linear')\n",
    "        temp_path = 'normalized_statistics/'+key+'/SAR_TOTAL_linear.png'\n",
    "        plt.savefig(temp_path, dpi=400)\n",
    "        plt.cla()\n",
    "        \n",
    "        b2_histogram = statistic['B2_histogram']\n",
    "        plt.bar([elem/10 for elem in list(range(-100, 100))], b2_histogram)\n",
    "        temp_path = 'normalized_statistics/'+key+'/EO_B2_log.png'\n",
    "        plt.yscale('log')\n",
    "        plt.savefig(temp_path, dpi=400)\n",
    "        plt.yscale('linear')\n",
    "        temp_path = 'normalized_statistics/'+key+'/EO_B2_linear.png'\n",
    "        plt.savefig(temp_path, dpi=400)\n",
    "        plt.cla()\n",
    "        \n",
    "        b3_histogram = statistic['B3_histogram']\n",
    "        plt.bar([elem/10 for elem in list(range(-100, 100))], b3_histogram)\n",
    "        temp_path = 'normalized_statistics/'+key+'/EO_B3_log.png'\n",
    "        plt.yscale('log')\n",
    "        plt.savefig(temp_path, dpi=400)\n",
    "        plt.yscale('linear')\n",
    "        temp_path = 'normalized_statistics/'+key+'/EO_B3_linear.png'\n",
    "        plt.savefig(temp_path, dpi=400)\n",
    "        plt.cla()\n",
    "        \n",
    "        b4_histogram = statistic['B4_histogram']\n",
    "        plt.bar([elem/10 for elem in list(range(-100, 100))], b4_histogram)\n",
    "        temp_path = 'normalized_statistics/'+key+'/EO_B4_log.png'\n",
    "        plt.yscale('log')\n",
    "        plt.savefig(temp_path, dpi=400)\n",
    "        plt.yscale('linear')\n",
    "        temp_path = 'normalized_statistics/'+key+'/EO_B4_linear.png'\n",
    "        plt.savefig(temp_path, dpi=400)\n",
    "        plt.cla()\n",
    "        \n",
    "        eo_histogram = statistic['EO_total_histogram']\n",
    "        plt.bar([elem/10 for elem in list(range(-100, 100))], b2_histogram)\n",
    "        temp_path = 'normalized_statistics/'+key+'/EO_TOTAL_log.png'\n",
    "        plt.yscale('log')\n",
    "        plt.savefig(temp_path, dpi=400)\n",
    "        plt.yscale('linear')\n",
    "        temp_path = 'normalized_statistics/'+key+'/EO_TOTAL_linear.png'\n",
    "        plt.savefig(temp_path, dpi=400)\n",
    "        plt.cla()\n"
   ]
  },
  {
   "cell_type": "code",
   "execution_count": 13,
   "metadata": {},
   "outputs": [
    {
     "name": "stderr",
     "output_type": "stream",
     "text": [
      "100%|██████████| 24378/24378 [04:03<00:00, 100.15it/s]\n",
      "100%|██████████| 29394/29394 [04:41<00:00, 104.53it/s]\n",
      "100%|██████████| 39376/39376 [06:34<00:00, 99.69it/s] \n",
      "100%|██████████| 13995/13995 [02:19<00:00, 100.11it/s]\n",
      "100%|██████████| 107143/107143 [17:03<00:00, 104.68it/s]\n",
      "100%|██████████| 3983/3983 [00:40<00:00, 98.71it/s] \n",
      "100%|██████████| 1565/1565 [00:15<00:00, 98.94it/s]\n",
      "100%|██████████| 784/784 [00:07<00:00, 98.90it/s] \n",
      "100%|██████████| 1567/1567 [00:15<00:00, 98.89it/s] \n",
      "100%|██████████| 7899/7899 [01:19<00:00, 99.09it/s] \n",
      "100%|██████████| 756/756 [00:07<00:00, 97.87it/s] \n",
      "100%|██████████| 2868/2868 [00:28<00:00, 99.03it/s] \n",
      "100%|██████████| 781/781 [00:07<00:00, 98.43it/s] \n",
      "100%|██████████| 2771/2771 [00:27<00:00, 99.58it/s] \n",
      "100%|██████████| 7176/7176 [01:11<00:00, 100.10it/s]\n",
      "100%|██████████| 29117/29117 [04:52<00:00, 99.52it/s] \n",
      "100%|██████████| 33827/33827 [05:24<00:00, 104.27it/s]\n",
      "100%|██████████| 40941/40941 [06:51<00:00, 99.53it/s] \n",
      "100%|██████████| 18333/18333 [03:03<00:00, 99.66it/s] \n",
      "100%|██████████| 122218/122218 [19:31<00:00, 104.34it/s]\n"
     ]
    }
   ],
   "source": [
    "normalized_clip_dataset_statistics = {}\n",
    "\n",
    "for key, val in datasets.items():\n",
    "    normalized_clip_dataset_statistics[key]={}\n",
    "    \n",
    "    VV_histogram = np.zeros((200), dtype=np.int64)\n",
    "    VH_histogram = np.zeros((200), dtype=np.int64)\n",
    "    SAR_total_histogram = np.zeros((200), dtype=np.int64)\n",
    "    B2_histogram = np.zeros((200), dtype=np.int64)\n",
    "    B3_histogram = np.zeros((200), dtype=np.int64)\n",
    "    B4_histogram = np.zeros((200), dtype=np.int64)\n",
    "    EO_total_histogram = np.zeros((200), dtype=np.int64)\n",
    "    \n",
    "    path = 'statistics/'+key+'.pickle'\n",
    "    with open(path, 'rb') as fr:\n",
    "        stat = pickle.load(fr)\n",
    "        vv_avg = stat['VV_avg']\n",
    "        vh_avg = stat['VH_avg']\n",
    "        b2_avg = stat['B2_avg']\n",
    "        b3_avg = stat['B3_avg']\n",
    "        b4_avg = stat['B4_avg']\n",
    "        vv_std = stat['VV_std']\n",
    "        vh_std = stat['VH_std']\n",
    "        b2_std = stat['B2_std']\n",
    "        b3_std = stat['B3_std']\n",
    "        b4_std = stat['B4_std']\n",
    "    \n",
    "    for sample in tqdm(val):\n",
    "        VV = sample['input']['S1'][0]\n",
    "        VH = sample['input']['S1'][1]\n",
    "        B2 = sample['target']['S2'][0]\n",
    "        B3 = sample['target']['S2'][1]\n",
    "        B4 = sample['target']['S2'][2]\n",
    "\n",
    "        VV -= vv_avg\n",
    "        VH -= vh_avg\n",
    "        B2 -= b2_avg\n",
    "        B3 -= b3_avg\n",
    "        B4 -= b4_avg\n",
    "        \n",
    "        VV /= vv_std\n",
    "        VH /= vh_std\n",
    "        B2 /= b2_std\n",
    "        B3 /= b3_std\n",
    "        B4 /= b4_std\n",
    "        \n",
    "        VV = np.clip(VV, -1.0, 1.0)\n",
    "        VH = np.clip(VH, -1.0, 1.0)\n",
    "        B2 = np.clip(B2, -1.0, 1.0)\n",
    "        B3 = np.clip(B3, -1.0, 1.0)\n",
    "        B4 = np.clip(B4, -1.0, 1.0)\n",
    "        \n",
    "        temp_VV_histogram, temp_VV_bins = np.histogram(VV, bins=200, range=(-1.0, 1.0))\n",
    "        temp_VH_histogram, temp_VH_bins = np.histogram(VH, bins=200, range=(-1.0, 1.0))\n",
    "        temp_B2_histogram, temp_B2_bins = np.histogram(B2, bins=200, range=(-1.0, 1.0))\n",
    "        temp_B3_histogram, temp_B3_bins = np.histogram(B3, bins=200, range=(-1.0, 1.0))\n",
    "        temp_B4_histogram, temp_B4_bins = np.histogram(B4, bins=200, range=(-1.0, 1.0))\n",
    "        \n",
    "        VV_histogram += temp_VV_histogram\n",
    "        VH_histogram += temp_VH_histogram\n",
    "        SAR_total_histogram += temp_VV_histogram\n",
    "        SAR_total_histogram += temp_VH_histogram\n",
    "        B2_histogram += temp_B2_histogram\n",
    "        B3_histogram += temp_B3_histogram\n",
    "        B4_histogram += temp_B4_histogram\n",
    "        EO_total_histogram += temp_B2_histogram\n",
    "        EO_total_histogram += temp_B3_histogram\n",
    "        EO_total_histogram += temp_B4_histogram\n",
    "    \n",
    "    normalized_dataset_statistics[key]['VV_histogram']=VV_histogram\n",
    "    normalized_dataset_statistics[key]['VH_histogram']=VH_histogram\n",
    "    normalized_dataset_statistics[key]['SAR_total_histogram']=SAR_total_histogram\n",
    "    normalized_dataset_statistics[key]['B2_histogram']=B2_histogram\n",
    "    normalized_dataset_statistics[key]['B3_histogram']=B3_histogram\n",
    "    normalized_dataset_statistics[key]['B4_histogram']=B4_histogram\n",
    "    normalized_dataset_statistics[key]['EO_total_histogram']=EO_total_histogram"
   ]
  },
  {
   "cell_type": "code",
   "execution_count": 14,
   "metadata": {},
   "outputs": [
    {
     "name": "stderr",
     "output_type": "stream",
     "text": [
      "100%|██████████| 122218/122218 [14:19<00:00, 142.22it/s]\n",
      "100%|██████████| 107143/107143 [16:43<00:00, 106.72it/s]\n",
      "100%|██████████| 7899/7899 [01:11<00:00, 110.75it/s]\n",
      "100%|██████████| 7176/7176 [01:10<00:00, 102.05it/s]\n"
     ]
    }
   ],
   "source": [
    "paths = []\n",
    "not_in = []\n",
    "for sample in tqdm(sen12mscr):\n",
    "    # print(type(sample))\n",
    "    # print(sample.keys())\n",
    "    # print(sample['input'].keys())\n",
    "    # print(sample['input']['S1 path'])\n",
    "    paths.append(sample['input']['S1 path'])\n",
    "for sample in tqdm(sen12mscr_train_all):\n",
    "    if not (sample['input']['S1 path'] in paths) :\n",
    "        not_in.append(sample['input']['S1 path'])\n",
    "        print(sample['input']['S1 path'])\n",
    "for sample in tqdm(sen12mscr_test_all):\n",
    "    if not (sample['input']['S1 path'] in paths) :\n",
    "        not_in.append(sample['input']['S1 path'])\n",
    "        print(sample['input']['S1 path'])\n",
    "for sample in tqdm(sen12mscr_val_all):\n",
    "    if not (sample['input']['S1 path'] in paths) :\n",
    "        not_in.append(sample['input']['S1 path'])\n",
    "        print(sample['input']['S1 path'])"
   ]
  },
  {
   "cell_type": "code",
   "execution_count": 15,
   "metadata": {},
   "outputs": [
    {
     "name": "stderr",
     "output_type": "stream",
     "text": [
      "100%|██████████| 107143/107143 [12:35<00:00, 141.72it/s]\n",
      "100%|██████████| 7899/7899 [01:29<00:00, 88.06it/s]\n",
      "100%|██████████| 7176/7176 [01:21<00:00, 88.49it/s]\n"
     ]
    }
   ],
   "source": [
    "train = []\n",
    "test = []\n",
    "val = []\n",
    "\n",
    "for sample in tqdm(sen12mscr_train_all):\n",
    "    train.append(sample['input']['S1 path'])\n",
    "for sample in tqdm(sen12mscr_test_all):\n",
    "    if sample['input']['S1 path'] in train:\n",
    "        print(sample['input']['S1 path'])\n",
    "    test.append(sample['input']['S1 path'])\n",
    "for sample in tqdm(sen12mscr_val_all):\n",
    "    if sample['input']['S1 path'] in train:\n",
    "        print(sample['input']['S1 path'])\n",
    "    test.append(sample['input']['S1 path'])\n"
   ]
  },
  {
   "cell_type": "code",
   "execution_count": 16,
   "metadata": {},
   "outputs": [
    {
     "name": "stderr",
     "output_type": "stream",
     "text": [
      "100%|██████████| 7899/7899 [01:29<00:00, 88.19it/s]\n",
      "100%|██████████| 7176/7176 [01:20<00:00, 88.76it/s]"
     ]
    },
    {
     "name": "stdout",
     "output_type": "stream",
     "text": [
      "0 0\n"
     ]
    },
    {
     "name": "stderr",
     "output_type": "stream",
     "text": [
      "\n"
     ]
    }
   ],
   "source": [
    "sum1 = 0\n",
    "sum2 = 0\n",
    "for sample in tqdm(sen12mscr_test_all):\n",
    "    if sample['input']['S1 path'] in train:\n",
    "        sum1+=1\n",
    "for sample in tqdm(sen12mscr_val_all):\n",
    "    if sample['input']['S1 path'] in train:\n",
    "        sum2+=1\n",
    "print(sum1,sum2)"
   ]
  },
  {
   "cell_type": "code",
   "execution_count": 17,
   "metadata": {},
   "outputs": [
    {
     "name": "stderr",
     "output_type": "stream",
     "text": [
      "100%|██████████| 7899/7899 [01:29<00:00, 88.35it/s]\n",
      "100%|██████████| 7176/7176 [01:20<00:00, 88.90it/s]"
     ]
    },
    {
     "name": "stdout",
     "output_type": "stream",
     "text": [
      "set()\n",
      "=========================\n",
      "set()\n"
     ]
    },
    {
     "name": "stderr",
     "output_type": "stream",
     "text": [
      "\n"
     ]
    }
   ],
   "source": [
    "import os\n",
    "test = set()\n",
    "val = set()\n",
    "for sample in tqdm(sen12mscr_test_all):\n",
    "    if sample['input']['S1 path'] in train:\n",
    "        temp = \"_\".join(os.path.basename(sample['input']['S1 path']).split('_')[0:-1])\n",
    "        test.add(temp)\n",
    "for sample in tqdm(sen12mscr_val_all):\n",
    "    if sample['input']['S1 path'] in train:\n",
    "        temp = \"_\".join(os.path.basename(sample['input']['S1 path']).split('_')[0:-1])\n",
    "        val.add(temp)\n",
    "        \n",
    "print(test)\n",
    "print('='*25)\n",
    "print(val)"
   ]
  },
  {
   "cell_type": "code",
   "execution_count": 18,
   "metadata": {},
   "outputs": [
    {
     "name": "stderr",
     "output_type": "stream",
     "text": [
      "100%|██████████| 7899/7899 [01:29<00:00, 88.57it/s]\n"
     ]
    }
   ],
   "source": [
    "for sample in tqdm(sen12mscr_test_all):\n",
    "    if sample['input']['S1 path'] in train:\n",
    "        print(sample['input']['S1 path'])\n",
    "        break\n",
    "# for sample in tqdm(sen12mscr_val_all):\n",
    "#     if sample['input']['S1 path'] in train:\n",
    "#         temp = \"_\".join(os.path.basename(sample['input']['S1 path']).split('_')[0:-1])\n",
    "#         val.add(temp)"
   ]
  }
 ],
 "metadata": {
  "kernelspec": {
   "display_name": "Python 3",
   "language": "python",
   "name": "python3"
  },
  "language_info": {
   "codemirror_mode": {
    "name": "ipython",
    "version": 3
   },
   "file_extension": ".py",
   "mimetype": "text/x-python",
   "name": "python",
   "nbconvert_exporter": "python",
   "pygments_lexer": "ipython3",
   "version": "3.8.10"
  },
  "orig_nbformat": 4
 },
 "nbformat": 4,
 "nbformat_minor": 2
}
