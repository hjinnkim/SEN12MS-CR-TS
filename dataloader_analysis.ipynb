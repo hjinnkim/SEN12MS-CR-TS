{
 "cells": [
  {
   "cell_type": "code",
   "execution_count": 1,
   "metadata": {},
   "outputs": [
    {
     "name": "stderr",
     "output_type": "stream",
     "text": [
      "/home/khj/.local/lib/python3.8/site-packages/tqdm/auto.py:21: TqdmWarning: IProgress not found. Please update jupyter and ipywidgets. See https://ipywidgets.readthedocs.io/en/stable/user_install.html\n",
      "  from .autonotebook import tqdm as notebook_tqdm\n"
     ]
    },
    {
     "name": "stdout",
     "output_type": "stream",
     "text": [
      "\n",
      "Processing paths for train split of region all for split of season spring\n"
     ]
    },
    {
     "name": "stderr",
     "output_type": "stream",
     "text": [
      "100%|██████████| 1/1 [00:01<00:00,  1.65s/it]\n"
     ]
    },
    {
     "name": "stdout",
     "output_type": "stream",
     "text": [
      "\n",
      "Processing paths for train split of region all for split of season summer\n"
     ]
    },
    {
     "name": "stderr",
     "output_type": "stream",
     "text": [
      "100%|██████████| 1/1 [00:01<00:00,  1.90s/it]\n"
     ]
    },
    {
     "name": "stdout",
     "output_type": "stream",
     "text": [
      "\n",
      "Processing paths for train split of region all for split of season fall\n"
     ]
    },
    {
     "name": "stderr",
     "output_type": "stream",
     "text": [
      "100%|██████████| 1/1 [00:02<00:00,  2.26s/it]\n"
     ]
    },
    {
     "name": "stdout",
     "output_type": "stream",
     "text": [
      "\n",
      "Processing paths for train split of region all for split of season winter\n"
     ]
    },
    {
     "name": "stderr",
     "output_type": "stream",
     "text": [
      "100%|██████████| 1/1 [00:00<00:00,  1.00it/s]\n"
     ]
    },
    {
     "name": "stdout",
     "output_type": "stream",
     "text": [
      "\n",
      "Processing paths for train split of region all for split of season all\n"
     ]
    },
    {
     "name": "stderr",
     "output_type": "stream",
     "text": [
      "100%|██████████| 4/4 [00:06<00:00,  1.68s/it]\n"
     ]
    },
    {
     "name": "stdout",
     "output_type": "stream",
     "text": [
      "\n",
      "Processing paths for test split of region all for split of season spring\n"
     ]
    },
    {
     "name": "stderr",
     "output_type": "stream",
     "text": [
      "100%|██████████| 1/1 [00:00<00:00,  1.68it/s]\n"
     ]
    },
    {
     "name": "stdout",
     "output_type": "stream",
     "text": [
      "\n",
      "Processing paths for test split of region all for split of season summer\n"
     ]
    },
    {
     "name": "stderr",
     "output_type": "stream",
     "text": [
      "100%|██████████| 1/1 [00:00<00:00,  1.40it/s]\n"
     ]
    },
    {
     "name": "stdout",
     "output_type": "stream",
     "text": [
      "\n",
      "Processing paths for test split of region all for split of season fall\n"
     ]
    },
    {
     "name": "stderr",
     "output_type": "stream",
     "text": [
      "100%|██████████| 1/1 [00:00<00:00,  1.21it/s]\n"
     ]
    },
    {
     "name": "stdout",
     "output_type": "stream",
     "text": [
      "\n",
      "Processing paths for test split of region all for split of season winter\n"
     ]
    },
    {
     "name": "stderr",
     "output_type": "stream",
     "text": [
      "100%|██████████| 1/1 [00:00<00:00,  2.55it/s]\n"
     ]
    },
    {
     "name": "stdout",
     "output_type": "stream",
     "text": [
      "\n",
      "Processing paths for test split of region all for split of season all\n"
     ]
    },
    {
     "name": "stderr",
     "output_type": "stream",
     "text": [
      "100%|██████████| 4/4 [00:02<00:00,  1.56it/s]\n"
     ]
    },
    {
     "name": "stdout",
     "output_type": "stream",
     "text": [
      "\n",
      "Processing paths for val split of region all for split of season spring\n"
     ]
    },
    {
     "name": "stderr",
     "output_type": "stream",
     "text": [
      "100%|██████████| 1/1 [00:00<00:00,  1.62it/s]\n"
     ]
    },
    {
     "name": "stdout",
     "output_type": "stream",
     "text": [
      "\n",
      "Processing paths for val split of region all for split of season summer\n"
     ]
    },
    {
     "name": "stderr",
     "output_type": "stream",
     "text": [
      "100%|██████████| 1/1 [00:00<00:00,  1.37it/s]\n"
     ]
    },
    {
     "name": "stdout",
     "output_type": "stream",
     "text": [
      "\n",
      "Processing paths for val split of region all for split of season fall\n"
     ]
    },
    {
     "name": "stderr",
     "output_type": "stream",
     "text": [
      "100%|██████████| 1/1 [00:00<00:00,  1.20it/s]\n"
     ]
    },
    {
     "name": "stdout",
     "output_type": "stream",
     "text": [
      "\n",
      "Processing paths for val split of region all for split of season winter\n"
     ]
    },
    {
     "name": "stderr",
     "output_type": "stream",
     "text": [
      "100%|██████████| 1/1 [00:00<00:00,  2.66it/s]\n"
     ]
    },
    {
     "name": "stdout",
     "output_type": "stream",
     "text": [
      "\n",
      "Processing paths for val split of region all for split of season all\n"
     ]
    },
    {
     "name": "stderr",
     "output_type": "stream",
     "text": [
      "100%|██████████| 4/4 [00:02<00:00,  1.56it/s]\n"
     ]
    },
    {
     "name": "stdout",
     "output_type": "stream",
     "text": [
      "\n",
      "Processing paths for all split of region all for split of season spring\n"
     ]
    },
    {
     "name": "stderr",
     "output_type": "stream",
     "text": [
      "100%|██████████| 1/1 [00:01<00:00,  1.77s/it]\n"
     ]
    },
    {
     "name": "stdout",
     "output_type": "stream",
     "text": [
      "\n",
      "Processing paths for all split of region all for split of season summer\n"
     ]
    },
    {
     "name": "stderr",
     "output_type": "stream",
     "text": [
      "100%|██████████| 1/1 [00:02<00:00,  2.07s/it]\n"
     ]
    },
    {
     "name": "stdout",
     "output_type": "stream",
     "text": [
      "\n",
      "Processing paths for all split of region all for split of season fall\n"
     ]
    },
    {
     "name": "stderr",
     "output_type": "stream",
     "text": [
      "100%|██████████| 1/1 [00:02<00:00,  2.40s/it]\n"
     ]
    },
    {
     "name": "stdout",
     "output_type": "stream",
     "text": [
      "\n",
      "Processing paths for all split of region all for split of season winter\n"
     ]
    },
    {
     "name": "stderr",
     "output_type": "stream",
     "text": [
      "100%|██████████| 1/1 [00:01<00:00,  1.17s/it]\n"
     ]
    },
    {
     "name": "stdout",
     "output_type": "stream",
     "text": [
      "\n",
      "Processing paths for all split of region all for split of season all\n"
     ]
    },
    {
     "name": "stderr",
     "output_type": "stream",
     "text": [
      "100%|██████████| 4/4 [00:07<00:00,  1.90s/it]\n"
     ]
    }
   ],
   "source": [
    "import torch\n",
    "import os\n",
    "import matplotlib.pyplot as plt\n",
    "import numpy as np\n",
    "from tqdm import tqdm\n",
    "import pickle\n",
    "from data.sen12mscr_base import SEN12MSCR_AB\n",
    "dir_SEN12MSCR = '/home/khj/SEN12MSCR'\n",
    "# sen12mscr = SEN12MSCR_NoMask(dir_SEN12MSCR, split='all', region='all', rescale_method='None')\n",
    "\n",
    "sen12mscr_train_spring = SEN12MSCR_AB(dir_SEN12MSCR, split='train', region='all', season='spring', rescale_method=None)\n",
    "sen12mscr_train_summer = SEN12MSCR_AB(dir_SEN12MSCR, split='train', region='all', season='summer', rescale_method=None)\n",
    "sen12mscr_train_fall = SEN12MSCR_AB(dir_SEN12MSCR, split='train', region='all', season='fall', rescale_method=None)\n",
    "sen12mscr_train_winter = SEN12MSCR_AB(dir_SEN12MSCR, split='train', region='all', season='winter', rescale_method=None)\n",
    "sen12mscr_train_all = SEN12MSCR_AB(dir_SEN12MSCR, split='train', region='all', season='all', rescale_method=None)\n",
    "\n",
    "sen12mscr_test_spring = SEN12MSCR_AB(dir_SEN12MSCR, split='test', region='all', season='spring', rescale_method=None)\n",
    "sen12mscr_test_summer = SEN12MSCR_AB(dir_SEN12MSCR, split='test', region='all', season='summer', rescale_method=None)\n",
    "sen12mscr_test_fall = SEN12MSCR_AB(dir_SEN12MSCR, split='test', region='all', season='fall', rescale_method=None)\n",
    "sen12mscr_test_winter = SEN12MSCR_AB(dir_SEN12MSCR, split='test', region='all', season='winter', rescale_method=None)\n",
    "sen12mscr_test_all = SEN12MSCR_AB(dir_SEN12MSCR, split='test', region='all', season='all', rescale_method=None)\n",
    "\n",
    "sen12mscr_val_spring = SEN12MSCR_AB(dir_SEN12MSCR, split='val', region='all', season='spring', rescale_method=None)\n",
    "sen12mscr_val_summer = SEN12MSCR_AB(dir_SEN12MSCR, split='val', region='all', season='summer', rescale_method=None)\n",
    "sen12mscr_val_fall = SEN12MSCR_AB(dir_SEN12MSCR, split='val', region='all', season='fall', rescale_method=None)\n",
    "sen12mscr_val_winter = SEN12MSCR_AB(dir_SEN12MSCR, split='val', region='all', season='winter', rescale_method=None)\n",
    "sen12mscr_val_all = SEN12MSCR_AB(dir_SEN12MSCR, split='val', region='all', season='all', rescale_method=None)\n",
    "\n",
    "sen12mscr_spring = SEN12MSCR_AB(dir_SEN12MSCR, split='all', region='all', season='spring', rescale_method=None)\n",
    "sen12mscr_summer = SEN12MSCR_AB(dir_SEN12MSCR, split='all', region='all', season='summer', rescale_method=None)\n",
    "sen12mscr_fall = SEN12MSCR_AB(dir_SEN12MSCR, split='all', region='all', season='fall', rescale_method=None)\n",
    "sen12mscr_winter = SEN12MSCR_AB(dir_SEN12MSCR, split='all', region='all', season='winter', rescale_method=None)\n",
    "sen12mscr = SEN12MSCR_AB(dir_SEN12MSCR, split='all', region='all', season='all', rescale_method=None)\n"
   ]
  },
  {
   "cell_type": "code",
   "execution_count": 2,
   "metadata": {},
   "outputs": [
    {
     "name": "stdout",
     "output_type": "stream",
     "text": [
      "\n",
      "Processing paths for test_use_all split of region all for split of season spring\n"
     ]
    },
    {
     "name": "stderr",
     "output_type": "stream",
     "text": [
      "100%|██████████| 1/1 [00:00<00:00,  1.43it/s]\n"
     ]
    },
    {
     "name": "stdout",
     "output_type": "stream",
     "text": [
      "\n",
      "Processing paths for test_use_all split of region all for split of season summer\n"
     ]
    },
    {
     "name": "stderr",
     "output_type": "stream",
     "text": [
      "100%|██████████| 1/1 [00:00<00:00,  1.24it/s]\n"
     ]
    },
    {
     "name": "stdout",
     "output_type": "stream",
     "text": [
      "\n",
      "Processing paths for test_use_all split of region all for split of season fall\n"
     ]
    },
    {
     "name": "stderr",
     "output_type": "stream",
     "text": [
      "100%|██████████| 1/1 [00:01<00:00,  1.00s/it]\n"
     ]
    },
    {
     "name": "stdout",
     "output_type": "stream",
     "text": [
      "\n",
      "Processing paths for test_use_all split of region all for split of season winter\n"
     ]
    },
    {
     "name": "stderr",
     "output_type": "stream",
     "text": [
      "100%|██████████| 1/1 [00:00<00:00,  2.24it/s]\n"
     ]
    },
    {
     "name": "stdout",
     "output_type": "stream",
     "text": [
      "\n",
      "Processing paths for test_use_all split of region all for split of season all\n"
     ]
    },
    {
     "name": "stderr",
     "output_type": "stream",
     "text": [
      "100%|██████████| 4/4 [00:02<00:00,  1.38it/s]\n"
     ]
    }
   ],
   "source": [
    "sen12mscr_test_use_all_spring = SEN12MSCR_AB(dir_SEN12MSCR, split='test_use_all', region='all', season='spring', rescale_method=None)\n",
    "sen12mscr_test_use_all_summer = SEN12MSCR_AB(dir_SEN12MSCR, split='test_use_all', region='all', season='summer', rescale_method=None)\n",
    "sen12mscr_test_use_all_fall = SEN12MSCR_AB(dir_SEN12MSCR, split='test_use_all', region='all', season='fall', rescale_method=None)\n",
    "sen12mscr_test_use_all_winter = SEN12MSCR_AB(dir_SEN12MSCR, split='test_use_all', region='all', season='winter', rescale_method=None)\n",
    "sen12mscr_test_use_all_all = SEN12MSCR_AB(dir_SEN12MSCR, split='test_use_all', region='all', season='all', rescale_method=None)"
   ]
  },
  {
   "cell_type": "code",
   "execution_count": 3,
   "metadata": {},
   "outputs": [],
   "source": [
    "datasets = {'sen12mscr_train_spring': sen12mscr_train_spring,\n",
    "            'sen12mscr_train_summer': sen12mscr_train_summer,\n",
    "            'sen12mscr_train_fall': sen12mscr_train_fall,\n",
    "            'sen12mscr_train_winter': sen12mscr_train_winter,\n",
    "            'sen12mscr_train_all': sen12mscr_train_all,\n",
    "            'sen12mscr_test_spring': sen12mscr_test_spring,\n",
    "            'sen12mscr_test_summer': sen12mscr_test_summer,\n",
    "            'sen12mscr_test_fall': sen12mscr_test_fall,\n",
    "            'sen12mscr_test_winter': sen12mscr_test_winter,\n",
    "            'sen12mscr_test_all': sen12mscr_test_all,\n",
    "            'sen12mscr_val_spring': sen12mscr_val_spring,\n",
    "            'sen12mscr_val_summer': sen12mscr_val_summer,\n",
    "            'sen12mscr_val_fall': sen12mscr_val_fall,\n",
    "            'sen12mscr_val_winter': sen12mscr_val_winter,\n",
    "            'sen12mscr_val_all': sen12mscr_val_all,\n",
    "            'sen12mscr_test_use_all_spring': sen12mscr_test_use_all_spring,\n",
    "            'sen12mscr_test_use_all_summer': sen12mscr_test_use_all_summer,\n",
    "            'sen12mscr_test_use_all_fall': sen12mscr_test_use_all_fall,\n",
    "            'sen12mscr_test_use_all_winter': sen12mscr_test_use_all_winter,\n",
    "            'sen12mscr_test_use_all': sen12mscr_test_use_all_all,\n",
    "            'sen12mscr_spring': sen12mscr_spring,\n",
    "            'sen12mscr_summer': sen12mscr_summer,\n",
    "            'sen12mscr_fall': sen12mscr_fall,\n",
    "            'sen12mscr_winter': sen12mscr_winter,\n",
    "            'sen12mscr': sen12mscr,\n",
    "            }"
   ]
  },
  {
   "cell_type": "code",
   "execution_count": 4,
   "metadata": {},
   "outputs": [
    {
     "name": "stdout",
     "output_type": "stream",
     "text": [
      "Base Dataset Length :  122217\n",
      "Sum of Dataset Length for Each Season :  122217\n",
      "=========================\n",
      "Base Dataset Length :  122217\n",
      "Train + Test + Val :  107142  +  7899  +  7176  =  122217\n",
      "Train | Test & Val :  107142  |  15075  |  15075\n",
      "Train | Test & Val (%) :  87.66538206632465  |  12.334617933675347\n",
      "=========================\n",
      "Spring Dataset Length :  29117\n",
      "Train + Test + Val :  24378  +  3983  +  756  =  29117\n",
      "Train | Test & Val :  24378  |  4739  |  4739\n",
      "Train | Test & Val (%) :  83.72428478208607  |  16.275715217913934\n",
      "=========================\n",
      "Summer Dataset Length :  33826\n",
      "Train + Test + Val :  29393  +  1565  +  2868  =  33826\n",
      "Train | Test & Val :  29393  |  4433  |  4433\n",
      "Train | Test & Val (%) :  86.8946963873943  |  13.105303612605686\n",
      "=========================\n",
      "Fall Dataset Length :  40941\n",
      "Train + Test + Val :  39376  +  784  +  781  =  40941\n",
      "Train | Test & Val :  39376  |  1565  |  1565\n",
      "Train | Test & Val (%) :  96.17742605212379  |  3.8225739478762124\n",
      "=========================\n",
      "Winter Dataset Length :  18333\n",
      "Train + Test + Val :  13995  +  1567  +  2771  =  18333\n",
      "Train | Test & Val :  13995  |  4338  |  4338\n",
      "Train | Test & Val (%) :  76.33775159548355  |  23.662248404516443\n"
     ]
    }
   ],
   "source": [
    "print('Base Dataset Length : ', len(datasets['sen12mscr']))\n",
    "print('Sum of Dataset Length for Each Season : ', len(datasets['sen12mscr_spring'])+len(datasets['sen12mscr_summer'])+len(datasets['sen12mscr_fall'])+len(datasets['sen12mscr_winter']))\n",
    "\n",
    "print('='*25)\n",
    "\n",
    "print('Base Dataset Length : ', len(datasets['sen12mscr']))\n",
    "print('Train + Test + Val : ', len(datasets['sen12mscr_train_all']), ' + ', len(datasets['sen12mscr_test_all']), ' + ',  len(datasets['sen12mscr_val_all']), ' = ', len(datasets['sen12mscr_train_all'])+len(datasets['sen12mscr_test_all'])+len(datasets['sen12mscr_val_all']))\n",
    "print('Train | Test & Val : ', len(datasets['sen12mscr_train_all']), ' | ', len(datasets['sen12mscr_test_all'])+len(datasets['sen12mscr_val_all']), ' | ', len(datasets['sen12mscr_test_use_all']))\n",
    "print('Train | Test & Val (%) : ', len(datasets['sen12mscr_train_all']) / len(datasets['sen12mscr']) * 100, ' | ', (len(datasets['sen12mscr_test_all'])+len(datasets['sen12mscr_val_all'])) / len(datasets['sen12mscr']) * 100, )\n",
    "\n",
    "print('='*25)\n",
    "\n",
    "print('Spring Dataset Length : ', len(datasets['sen12mscr_spring']))\n",
    "print('Train + Test + Val : ', len(datasets['sen12mscr_train_spring']), ' + ', len(datasets['sen12mscr_test_spring']), ' + ', len(datasets['sen12mscr_val_spring']), ' = ', len(datasets['sen12mscr_train_spring'])+len(datasets['sen12mscr_test_spring'])+len(datasets['sen12mscr_val_spring']))\n",
    "print('Train | Test & Val : ', len(datasets['sen12mscr_train_spring']), ' | ', len(datasets['sen12mscr_test_spring']) + len(datasets['sen12mscr_val_spring']), ' | ', len(datasets['sen12mscr_test_use_all_spring']))\n",
    "print('Train | Test & Val (%) : ', len(datasets['sen12mscr_train_spring']) / len(datasets['sen12mscr_spring']) * 100, ' | ', (len(datasets['sen12mscr_test_spring']) + len(datasets['sen12mscr_val_spring'])) / len(datasets['sen12mscr_spring']) * 100, )\n",
    "\n",
    "print('='*25)\n",
    "\n",
    "print('Summer Dataset Length : ', len(datasets['sen12mscr_summer']))\n",
    "print('Train + Test + Val : ', len(datasets['sen12mscr_train_summer']), ' + ', len(datasets['sen12mscr_test_summer']), ' + ', len(datasets['sen12mscr_val_summer']), ' = ', len(datasets['sen12mscr_train_summer'])+len(datasets['sen12mscr_test_summer'])+len(datasets['sen12mscr_val_summer']))\n",
    "print('Train | Test & Val : ', len(datasets['sen12mscr_train_summer']), ' | ', len(datasets['sen12mscr_test_summer'])+len(datasets['sen12mscr_val_summer']), ' | ', len(datasets['sen12mscr_test_use_all_summer']))\n",
    "print('Train | Test & Val (%) : ', len(datasets['sen12mscr_train_summer']) / len(datasets['sen12mscr_summer']) * 100, ' | ', (len(datasets['sen12mscr_test_summer']) + len(datasets['sen12mscr_val_summer'])) / len(datasets['sen12mscr_summer']) * 100, )\n",
    "\n",
    "print('='*25)\n",
    "\n",
    "print('Fall Dataset Length : ', len(datasets['sen12mscr_fall']))\n",
    "print('Train + Test + Val : ', len(datasets['sen12mscr_train_fall']), ' + ', len(datasets['sen12mscr_test_fall']), ' + ', len(datasets['sen12mscr_val_fall']), ' = ', len(datasets['sen12mscr_train_fall'])+len(datasets['sen12mscr_test_fall'])+len(datasets['sen12mscr_val_fall']))\n",
    "print('Train | Test & Val : ', len(datasets['sen12mscr_train_fall']), ' | ', len(datasets['sen12mscr_test_fall']) + len(datasets['sen12mscr_val_fall']), ' | ', len(datasets['sen12mscr_test_use_all_fall']))\n",
    "print('Train | Test & Val (%) : ', len(datasets['sen12mscr_train_fall']) / len(datasets['sen12mscr_fall']) * 100, ' | ', (len(datasets['sen12mscr_test_fall']) + len(datasets['sen12mscr_val_fall'])) / len(datasets['sen12mscr_fall']) * 100, )\n",
    "\n",
    "print('='*25)\n",
    "\n",
    "print('Winter Dataset Length : ', len(datasets['sen12mscr_winter']))\n",
    "print('Train + Test + Val : ', len(datasets['sen12mscr_train_winter']), ' + ', len(datasets['sen12mscr_test_winter']), ' + ', len(datasets['sen12mscr_val_winter']), ' = ', len(datasets['sen12mscr_train_winter'])+len(datasets['sen12mscr_test_winter'])+len(datasets['sen12mscr_val_winter']))\n",
    "print('Train | Test & Val : ', len(datasets['sen12mscr_train_winter']), ' | ', len(datasets['sen12mscr_test_winter'])+len(datasets['sen12mscr_val_winter']), ' | ', len(datasets['sen12mscr_test_use_all_winter']))\n",
    "print('Train | Test & Val (%) : ', len(datasets['sen12mscr_train_winter']) / len(datasets['sen12mscr_winter']) * 100, ' | ', (len(datasets['sen12mscr_test_winter'])+len(datasets['sen12mscr_val_winter'])) / len(datasets['sen12mscr_winter']) * 100, )\n"
   ]
  },
  {
   "cell_type": "code",
   "execution_count": 5,
   "metadata": {},
   "outputs": [
    {
     "name": "stdout",
     "output_type": "stream",
     "text": [
      "\n",
      "Processing paths for train split of region all for split of season spring\n"
     ]
    },
    {
     "name": "stderr",
     "output_type": "stream",
     "text": [
      "  0%|          | 0/1 [00:00<?, ?it/s]"
     ]
    },
    {
     "name": "stderr",
     "output_type": "stream",
     "text": [
      "100%|██████████| 1/1 [00:01<00:00,  1.61s/it]\n"
     ]
    },
    {
     "name": "stdout",
     "output_type": "stream",
     "text": [
      "\n",
      "Processing paths for train split of region all for split of season summer\n"
     ]
    },
    {
     "name": "stderr",
     "output_type": "stream",
     "text": [
      "100%|██████████| 1/1 [00:01<00:00,  1.90s/it]\n"
     ]
    },
    {
     "name": "stdout",
     "output_type": "stream",
     "text": [
      "\n",
      "Processing paths for train split of region all for split of season fall\n"
     ]
    },
    {
     "name": "stderr",
     "output_type": "stream",
     "text": [
      "100%|██████████| 1/1 [00:02<00:00,  2.23s/it]\n"
     ]
    },
    {
     "name": "stdout",
     "output_type": "stream",
     "text": [
      "\n",
      "Processing paths for train split of region all for split of season winter\n"
     ]
    },
    {
     "name": "stderr",
     "output_type": "stream",
     "text": [
      "100%|██████████| 1/1 [00:01<00:00,  1.06s/it]\n"
     ]
    },
    {
     "name": "stdout",
     "output_type": "stream",
     "text": [
      "\n",
      "Processing paths for train split of region all for split of season all\n"
     ]
    },
    {
     "name": "stderr",
     "output_type": "stream",
     "text": [
      "100%|██████████| 4/4 [00:07<00:00,  1.79s/it]\n"
     ]
    },
    {
     "name": "stdout",
     "output_type": "stream",
     "text": [
      "\n",
      "Processing paths for test split of region all for split of season spring\n"
     ]
    },
    {
     "name": "stderr",
     "output_type": "stream",
     "text": [
      "100%|██████████| 1/1 [00:00<00:00,  1.64it/s]\n"
     ]
    },
    {
     "name": "stdout",
     "output_type": "stream",
     "text": [
      "\n",
      "Processing paths for test split of region all for split of season summer\n"
     ]
    },
    {
     "name": "stderr",
     "output_type": "stream",
     "text": [
      "100%|██████████| 1/1 [00:00<00:00,  1.40it/s]\n"
     ]
    },
    {
     "name": "stdout",
     "output_type": "stream",
     "text": [
      "\n",
      "Processing paths for test split of region all for split of season fall\n"
     ]
    },
    {
     "name": "stderr",
     "output_type": "stream",
     "text": [
      "100%|██████████| 1/1 [00:00<00:00,  1.10it/s]\n"
     ]
    },
    {
     "name": "stdout",
     "output_type": "stream",
     "text": [
      "\n",
      "Processing paths for test split of region all for split of season winter\n"
     ]
    },
    {
     "name": "stderr",
     "output_type": "stream",
     "text": [
      "100%|██████████| 1/1 [00:00<00:00,  2.52it/s]\n"
     ]
    },
    {
     "name": "stdout",
     "output_type": "stream",
     "text": [
      "\n",
      "Processing paths for test split of region all for split of season all\n"
     ]
    },
    {
     "name": "stderr",
     "output_type": "stream",
     "text": [
      "100%|██████████| 4/4 [00:02<00:00,  1.49it/s]\n"
     ]
    },
    {
     "name": "stdout",
     "output_type": "stream",
     "text": [
      "\n",
      "Processing paths for val split of region all for split of season spring\n"
     ]
    },
    {
     "name": "stderr",
     "output_type": "stream",
     "text": [
      "100%|██████████| 1/1 [00:00<00:00,  1.61it/s]\n"
     ]
    },
    {
     "name": "stdout",
     "output_type": "stream",
     "text": [
      "\n",
      "Processing paths for val split of region all for split of season summer\n"
     ]
    },
    {
     "name": "stderr",
     "output_type": "stream",
     "text": [
      "100%|██████████| 1/1 [00:00<00:00,  1.44it/s]\n"
     ]
    },
    {
     "name": "stdout",
     "output_type": "stream",
     "text": [
      "\n",
      "Processing paths for val split of region all for split of season fall\n"
     ]
    },
    {
     "name": "stderr",
     "output_type": "stream",
     "text": [
      "100%|██████████| 1/1 [00:00<00:00,  1.24it/s]\n"
     ]
    },
    {
     "name": "stdout",
     "output_type": "stream",
     "text": [
      "\n",
      "Processing paths for val split of region all for split of season winter\n"
     ]
    },
    {
     "name": "stderr",
     "output_type": "stream",
     "text": [
      "100%|██████████| 1/1 [00:00<00:00,  2.70it/s]\n"
     ]
    },
    {
     "name": "stdout",
     "output_type": "stream",
     "text": [
      "\n",
      "Processing paths for val split of region all for split of season all\n"
     ]
    },
    {
     "name": "stderr",
     "output_type": "stream",
     "text": [
      "100%|██████████| 4/4 [00:02<00:00,  1.64it/s]\n"
     ]
    },
    {
     "name": "stdout",
     "output_type": "stream",
     "text": [
      "\n",
      "Processing paths for all split of region all for split of season spring\n"
     ]
    },
    {
     "name": "stderr",
     "output_type": "stream",
     "text": [
      "100%|██████████| 1/1 [00:01<00:00,  1.71s/it]\n"
     ]
    },
    {
     "name": "stdout",
     "output_type": "stream",
     "text": [
      "\n",
      "Processing paths for all split of region all for split of season summer\n"
     ]
    },
    {
     "name": "stderr",
     "output_type": "stream",
     "text": [
      "100%|██████████| 1/1 [00:01<00:00,  1.98s/it]\n"
     ]
    },
    {
     "name": "stdout",
     "output_type": "stream",
     "text": [
      "\n",
      "Processing paths for all split of region all for split of season fall\n"
     ]
    },
    {
     "name": "stderr",
     "output_type": "stream",
     "text": [
      "100%|██████████| 1/1 [00:02<00:00,  2.40s/it]\n"
     ]
    },
    {
     "name": "stdout",
     "output_type": "stream",
     "text": [
      "\n",
      "Processing paths for all split of region all for split of season winter\n"
     ]
    },
    {
     "name": "stderr",
     "output_type": "stream",
     "text": [
      "100%|██████████| 1/1 [00:01<00:00,  1.12s/it]\n"
     ]
    },
    {
     "name": "stdout",
     "output_type": "stream",
     "text": [
      "\n",
      "Processing paths for all split of region all for split of season all\n"
     ]
    },
    {
     "name": "stderr",
     "output_type": "stream",
     "text": [
      "100%|██████████| 4/4 [00:07<00:00,  1.88s/it]\n"
     ]
    },
    {
     "name": "stdout",
     "output_type": "stream",
     "text": [
      "\n",
      "Processing paths for test_use_all split of region all for split of season spring\n"
     ]
    },
    {
     "name": "stderr",
     "output_type": "stream",
     "text": [
      "100%|██████████| 1/1 [00:00<00:00,  1.42it/s]\n"
     ]
    },
    {
     "name": "stdout",
     "output_type": "stream",
     "text": [
      "\n",
      "Processing paths for test_use_all split of region all for split of season summer\n"
     ]
    },
    {
     "name": "stderr",
     "output_type": "stream",
     "text": [
      "100%|██████████| 1/1 [00:00<00:00,  1.23it/s]\n"
     ]
    },
    {
     "name": "stdout",
     "output_type": "stream",
     "text": [
      "\n",
      "Processing paths for test_use_all split of region all for split of season fall\n"
     ]
    },
    {
     "name": "stderr",
     "output_type": "stream",
     "text": [
      "100%|██████████| 1/1 [00:00<00:00,  1.04it/s]\n"
     ]
    },
    {
     "name": "stdout",
     "output_type": "stream",
     "text": [
      "\n",
      "Processing paths for test_use_all split of region all for split of season winter\n"
     ]
    },
    {
     "name": "stderr",
     "output_type": "stream",
     "text": [
      "100%|██████████| 1/1 [00:00<00:00,  2.26it/s]\n"
     ]
    },
    {
     "name": "stdout",
     "output_type": "stream",
     "text": [
      "\n",
      "Processing paths for test_use_all split of region all for split of season all\n"
     ]
    },
    {
     "name": "stderr",
     "output_type": "stream",
     "text": [
      "100%|██████████| 4/4 [00:02<00:00,  1.39it/s]\n"
     ]
    }
   ],
   "source": [
    "from data.sen12mscr_base import SEN12MSCR_A, SEN12MSCR_B\n",
    "\n",
    "sen12mscr_train_spring = SEN12MSCR_A(dir_SEN12MSCR, split='train', region='all', season='spring', rescale_method=None)\n",
    "sen12mscr_train_summer = SEN12MSCR_A(dir_SEN12MSCR, split='train', region='all', season='summer', rescale_method=None)\n",
    "sen12mscr_train_fall = SEN12MSCR_A(dir_SEN12MSCR, split='train', region='all', season='fall', rescale_method=None)\n",
    "sen12mscr_train_winter = SEN12MSCR_A(dir_SEN12MSCR, split='train', region='all', season='winter', rescale_method=None)\n",
    "sen12mscr_train_all = SEN12MSCR_A(dir_SEN12MSCR, split='train', region='all', season='all', rescale_method=None)\n",
    "\n",
    "sen12mscr_test_spring = SEN12MSCR_A(dir_SEN12MSCR, split='test', region='all', season='spring', rescale_method=None)\n",
    "sen12mscr_test_summer = SEN12MSCR_A(dir_SEN12MSCR, split='test', region='all', season='summer', rescale_method=None)\n",
    "sen12mscr_test_fall = SEN12MSCR_A(dir_SEN12MSCR, split='test', region='all', season='fall', rescale_method=None)\n",
    "sen12mscr_test_winter = SEN12MSCR_A(dir_SEN12MSCR, split='test', region='all', season='winter', rescale_method=None)\n",
    "sen12mscr_test_all = SEN12MSCR_A(dir_SEN12MSCR, split='test', region='all', season='all', rescale_method=None)\n",
    "\n",
    "sen12mscr_val_spring = SEN12MSCR_A(dir_SEN12MSCR, split='val', region='all', season='spring', rescale_method=None)\n",
    "sen12mscr_val_summer = SEN12MSCR_A(dir_SEN12MSCR, split='val', region='all', season='summer', rescale_method=None)\n",
    "sen12mscr_val_fall = SEN12MSCR_A(dir_SEN12MSCR, split='val', region='all', season='fall', rescale_method=None)\n",
    "sen12mscr_val_winter = SEN12MSCR_A(dir_SEN12MSCR, split='val', region='all', season='winter', rescale_method=None)\n",
    "sen12mscr_val_all = SEN12MSCR_A(dir_SEN12MSCR, split='val', region='all', season='all', rescale_method=None)\n",
    "\n",
    "sen12mscr_spring = SEN12MSCR_A(dir_SEN12MSCR, split='all', region='all', season='spring', rescale_method=None)\n",
    "sen12mscr_summer = SEN12MSCR_A(dir_SEN12MSCR, split='all', region='all', season='summer', rescale_method=None)\n",
    "sen12mscr_fall = SEN12MSCR_A(dir_SEN12MSCR, split='all', region='all', season='fall', rescale_method=None)\n",
    "sen12mscr_winter = SEN12MSCR_A(dir_SEN12MSCR, split='all', region='all', season='winter', rescale_method=None)\n",
    "sen12mscr = SEN12MSCR_A(dir_SEN12MSCR, split='all', region='all', season='all', rescale_method=None)\n",
    "sen12mscr_test_use_all_spring = SEN12MSCR_A(dir_SEN12MSCR, split='test_use_all', region='all', season='spring', rescale_method=None)\n",
    "sen12mscr_test_use_all_summer = SEN12MSCR_A(dir_SEN12MSCR, split='test_use_all', region='all', season='summer', rescale_method=None)\n",
    "sen12mscr_test_use_all_fall = SEN12MSCR_A(dir_SEN12MSCR, split='test_use_all', region='all', season='fall', rescale_method=None)\n",
    "sen12mscr_test_use_all_winter = SEN12MSCR_A(dir_SEN12MSCR, split='test_use_all', region='all', season='winter', rescale_method=None)\n",
    "sen12mscr_test_use_all_all = SEN12MSCR_A(dir_SEN12MSCR, split='test_use_all', region='all', season='all', rescale_method=None)"
   ]
  },
  {
   "cell_type": "code",
   "execution_count": 6,
   "metadata": {},
   "outputs": [],
   "source": [
    "datasets = {'sen12mscr_train_spring': sen12mscr_train_spring,\n",
    "            'sen12mscr_train_summer': sen12mscr_train_summer,\n",
    "            'sen12mscr_train_fall': sen12mscr_train_fall,\n",
    "            'sen12mscr_train_winter': sen12mscr_train_winter,\n",
    "            'sen12mscr_train_all': sen12mscr_train_all,\n",
    "            'sen12mscr_test_spring': sen12mscr_test_spring,\n",
    "            'sen12mscr_test_summer': sen12mscr_test_summer,\n",
    "            'sen12mscr_test_fall': sen12mscr_test_fall,\n",
    "            'sen12mscr_test_winter': sen12mscr_test_winter,\n",
    "            'sen12mscr_test_all': sen12mscr_test_all,\n",
    "            'sen12mscr_val_spring': sen12mscr_val_spring,\n",
    "            'sen12mscr_val_summer': sen12mscr_val_summer,\n",
    "            'sen12mscr_val_fall': sen12mscr_val_fall,\n",
    "            'sen12mscr_val_winter': sen12mscr_val_winter,\n",
    "            'sen12mscr_val_all': sen12mscr_val_all,\n",
    "            'sen12mscr_test_use_all_spring': sen12mscr_test_use_all_spring,\n",
    "            'sen12mscr_test_use_all_summer': sen12mscr_test_use_all_summer,\n",
    "            'sen12mscr_test_use_all_fall': sen12mscr_test_use_all_fall,\n",
    "            'sen12mscr_test_use_all_winter': sen12mscr_test_use_all_winter,\n",
    "            'sen12mscr_test_use_all': sen12mscr_test_use_all_all,\n",
    "            'sen12mscr_spring': sen12mscr_spring,\n",
    "            'sen12mscr_summer': sen12mscr_summer,\n",
    "            'sen12mscr_fall': sen12mscr_fall,\n",
    "            'sen12mscr_winter': sen12mscr_winter,\n",
    "            'sen12mscr': sen12mscr,\n",
    "            }"
   ]
  },
  {
   "cell_type": "code",
   "execution_count": 7,
   "metadata": {},
   "outputs": [
    {
     "name": "stdout",
     "output_type": "stream",
     "text": [
      "Base Dataset Length :  122217\n",
      "Sum of Dataset Length for Each Season :  122217\n",
      "=========================\n",
      "Base Dataset Length :  122217\n",
      "Train + Test + Val :  107142  +  7899  +  7176  =  122217\n",
      "Train | Test & Val :  107142  |  15075  |  15075\n",
      "Train | Test & Val (%) :  87.66538206632465  |  12.334617933675347\n",
      "=========================\n",
      "Spring Dataset Length :  29117\n",
      "Train + Test + Val :  24378  +  3983  +  756  =  29117\n",
      "Train | Test & Val :  24378  |  4739  |  4739\n",
      "Train | Test & Val (%) :  83.72428478208607  |  16.275715217913934\n",
      "=========================\n",
      "Summer Dataset Length :  33826\n",
      "Train + Test + Val :  29393  +  1565  +  2868  =  33826\n",
      "Train | Test & Val :  29393  |  4433  |  4433\n",
      "Train | Test & Val (%) :  86.8946963873943  |  13.105303612605686\n",
      "=========================\n",
      "Fall Dataset Length :  40941\n",
      "Train + Test + Val :  39376  +  784  +  781  =  40941\n",
      "Train | Test & Val :  39376  |  1565  |  1565\n",
      "Train | Test & Val (%) :  96.17742605212379  |  3.8225739478762124\n",
      "=========================\n",
      "Winter Dataset Length :  18333\n",
      "Train + Test + Val :  13995  +  1567  +  2771  =  18333\n",
      "Train | Test & Val :  13995  |  4338  |  4338\n",
      "Train | Test & Val (%) :  76.33775159548355  |  23.662248404516443\n"
     ]
    }
   ],
   "source": [
    "print('Base Dataset Length : ', len(datasets['sen12mscr']))\n",
    "print('Sum of Dataset Length for Each Season : ', len(datasets['sen12mscr_spring'])+len(datasets['sen12mscr_summer'])+len(datasets['sen12mscr_fall'])+len(datasets['sen12mscr_winter']))\n",
    "\n",
    "print('='*25)\n",
    "\n",
    "print('Base Dataset Length : ', len(datasets['sen12mscr']))\n",
    "print('Train + Test + Val : ', len(datasets['sen12mscr_train_all']), ' + ', len(datasets['sen12mscr_test_all']), ' + ',  len(datasets['sen12mscr_val_all']), ' = ', len(datasets['sen12mscr_train_all'])+len(datasets['sen12mscr_test_all'])+len(datasets['sen12mscr_val_all']))\n",
    "print('Train | Test & Val : ', len(datasets['sen12mscr_train_all']), ' | ', len(datasets['sen12mscr_test_all'])+len(datasets['sen12mscr_val_all']), ' | ', len(datasets['sen12mscr_test_use_all']))\n",
    "print('Train | Test & Val (%) : ', len(datasets['sen12mscr_train_all']) / len(datasets['sen12mscr']) * 100, ' | ', (len(datasets['sen12mscr_test_all'])+len(datasets['sen12mscr_val_all'])) / len(datasets['sen12mscr']) * 100, )\n",
    "\n",
    "print('='*25)\n",
    "\n",
    "print('Spring Dataset Length : ', len(datasets['sen12mscr_spring']))\n",
    "print('Train + Test + Val : ', len(datasets['sen12mscr_train_spring']), ' + ', len(datasets['sen12mscr_test_spring']), ' + ', len(datasets['sen12mscr_val_spring']), ' = ', len(datasets['sen12mscr_train_spring'])+len(datasets['sen12mscr_test_spring'])+len(datasets['sen12mscr_val_spring']))\n",
    "print('Train | Test & Val : ', len(datasets['sen12mscr_train_spring']), ' | ', len(datasets['sen12mscr_test_spring']) + len(datasets['sen12mscr_val_spring']), ' | ', len(datasets['sen12mscr_test_use_all_spring']))\n",
    "print('Train | Test & Val (%) : ', len(datasets['sen12mscr_train_spring']) / len(datasets['sen12mscr_spring']) * 100, ' | ', (len(datasets['sen12mscr_test_spring']) + len(datasets['sen12mscr_val_spring'])) / len(datasets['sen12mscr_spring']) * 100, )\n",
    "\n",
    "print('='*25)\n",
    "\n",
    "print('Summer Dataset Length : ', len(datasets['sen12mscr_summer']))\n",
    "print('Train + Test + Val : ', len(datasets['sen12mscr_train_summer']), ' + ', len(datasets['sen12mscr_test_summer']), ' + ', len(datasets['sen12mscr_val_summer']), ' = ', len(datasets['sen12mscr_train_summer'])+len(datasets['sen12mscr_test_summer'])+len(datasets['sen12mscr_val_summer']))\n",
    "print('Train | Test & Val : ', len(datasets['sen12mscr_train_summer']), ' | ', len(datasets['sen12mscr_test_summer'])+len(datasets['sen12mscr_val_summer']), ' | ', len(datasets['sen12mscr_test_use_all_summer']))\n",
    "print('Train | Test & Val (%) : ', len(datasets['sen12mscr_train_summer']) / len(datasets['sen12mscr_summer']) * 100, ' | ', (len(datasets['sen12mscr_test_summer']) + len(datasets['sen12mscr_val_summer'])) / len(datasets['sen12mscr_summer']) * 100, )\n",
    "\n",
    "print('='*25)\n",
    "\n",
    "print('Fall Dataset Length : ', len(datasets['sen12mscr_fall']))\n",
    "print('Train + Test + Val : ', len(datasets['sen12mscr_train_fall']), ' + ', len(datasets['sen12mscr_test_fall']), ' + ', len(datasets['sen12mscr_val_fall']), ' = ', len(datasets['sen12mscr_train_fall'])+len(datasets['sen12mscr_test_fall'])+len(datasets['sen12mscr_val_fall']))\n",
    "print('Train | Test & Val : ', len(datasets['sen12mscr_train_fall']), ' | ', len(datasets['sen12mscr_test_fall']) + len(datasets['sen12mscr_val_fall']), ' | ', len(datasets['sen12mscr_test_use_all_fall']))\n",
    "print('Train | Test & Val (%) : ', len(datasets['sen12mscr_train_fall']) / len(datasets['sen12mscr_fall']) * 100, ' | ', (len(datasets['sen12mscr_test_fall']) + len(datasets['sen12mscr_val_fall'])) / len(datasets['sen12mscr_fall']) * 100, )\n",
    "\n",
    "print('='*25)\n",
    "\n",
    "print('Winter Dataset Length : ', len(datasets['sen12mscr_winter']))\n",
    "print('Train + Test + Val : ', len(datasets['sen12mscr_train_winter']), ' + ', len(datasets['sen12mscr_test_winter']), ' + ', len(datasets['sen12mscr_val_winter']), ' = ', len(datasets['sen12mscr_train_winter'])+len(datasets['sen12mscr_test_winter'])+len(datasets['sen12mscr_val_winter']))\n",
    "print('Train | Test & Val : ', len(datasets['sen12mscr_train_winter']), ' | ', len(datasets['sen12mscr_test_winter'])+len(datasets['sen12mscr_val_winter']), ' | ', len(datasets['sen12mscr_test_use_all_winter']))\n",
    "print('Train | Test & Val (%) : ', len(datasets['sen12mscr_train_winter']) / len(datasets['sen12mscr_winter']) * 100, ' | ', (len(datasets['sen12mscr_test_winter'])+len(datasets['sen12mscr_val_winter'])) / len(datasets['sen12mscr_winter']) * 100, )\n"
   ]
  },
  {
   "cell_type": "code",
   "execution_count": 8,
   "metadata": {},
   "outputs": [
    {
     "name": "stdout",
     "output_type": "stream",
     "text": [
      "\n",
      "Processing paths for train split of region all for split of season spring\n"
     ]
    },
    {
     "name": "stderr",
     "output_type": "stream",
     "text": [
      "  0%|          | 0/1 [00:00<?, ?it/s]"
     ]
    },
    {
     "name": "stderr",
     "output_type": "stream",
     "text": [
      "100%|██████████| 1/1 [00:01<00:00,  1.67s/it]\n"
     ]
    },
    {
     "name": "stdout",
     "output_type": "stream",
     "text": [
      "\n",
      "Processing paths for train split of region all for split of season summer\n"
     ]
    },
    {
     "name": "stderr",
     "output_type": "stream",
     "text": [
      "100%|██████████| 1/1 [00:01<00:00,  1.89s/it]\n"
     ]
    },
    {
     "name": "stdout",
     "output_type": "stream",
     "text": [
      "\n",
      "Processing paths for train split of region all for split of season fall\n"
     ]
    },
    {
     "name": "stderr",
     "output_type": "stream",
     "text": [
      "100%|██████████| 1/1 [00:02<00:00,  2.23s/it]\n"
     ]
    },
    {
     "name": "stdout",
     "output_type": "stream",
     "text": [
      "\n",
      "Processing paths for train split of region all for split of season winter\n"
     ]
    },
    {
     "name": "stderr",
     "output_type": "stream",
     "text": [
      "100%|██████████| 1/1 [00:01<00:00,  1.01s/it]\n"
     ]
    },
    {
     "name": "stdout",
     "output_type": "stream",
     "text": [
      "\n",
      "Processing paths for train split of region all for split of season all\n"
     ]
    },
    {
     "name": "stderr",
     "output_type": "stream",
     "text": [
      "100%|██████████| 4/4 [00:06<00:00,  1.67s/it]\n"
     ]
    },
    {
     "name": "stdout",
     "output_type": "stream",
     "text": [
      "\n",
      "Processing paths for test split of region all for split of season spring\n"
     ]
    },
    {
     "name": "stderr",
     "output_type": "stream",
     "text": [
      "100%|██████████| 1/1 [00:00<00:00,  1.69it/s]\n"
     ]
    },
    {
     "name": "stdout",
     "output_type": "stream",
     "text": [
      "\n",
      "Processing paths for test split of region all for split of season summer\n"
     ]
    },
    {
     "name": "stderr",
     "output_type": "stream",
     "text": [
      "100%|██████████| 1/1 [00:00<00:00,  1.43it/s]\n"
     ]
    },
    {
     "name": "stdout",
     "output_type": "stream",
     "text": [
      "\n",
      "Processing paths for test split of region all for split of season fall\n"
     ]
    },
    {
     "name": "stderr",
     "output_type": "stream",
     "text": [
      "100%|██████████| 1/1 [00:00<00:00,  1.19it/s]\n"
     ]
    },
    {
     "name": "stdout",
     "output_type": "stream",
     "text": [
      "\n",
      "Processing paths for test split of region all for split of season winter\n"
     ]
    },
    {
     "name": "stderr",
     "output_type": "stream",
     "text": [
      "100%|██████████| 1/1 [00:00<00:00,  2.65it/s]\n"
     ]
    },
    {
     "name": "stdout",
     "output_type": "stream",
     "text": [
      "\n",
      "Processing paths for test split of region all for split of season all\n"
     ]
    },
    {
     "name": "stderr",
     "output_type": "stream",
     "text": [
      "100%|██████████| 4/4 [00:02<00:00,  1.60it/s]\n"
     ]
    },
    {
     "name": "stdout",
     "output_type": "stream",
     "text": [
      "\n",
      "Processing paths for val split of region all for split of season spring\n"
     ]
    },
    {
     "name": "stderr",
     "output_type": "stream",
     "text": [
      "100%|██████████| 1/1 [00:00<00:00,  1.62it/s]\n"
     ]
    },
    {
     "name": "stdout",
     "output_type": "stream",
     "text": [
      "\n",
      "Processing paths for val split of region all for split of season summer\n"
     ]
    },
    {
     "name": "stderr",
     "output_type": "stream",
     "text": [
      "100%|██████████| 1/1 [00:00<00:00,  1.43it/s]\n"
     ]
    },
    {
     "name": "stdout",
     "output_type": "stream",
     "text": [
      "\n",
      "Processing paths for val split of region all for split of season fall\n"
     ]
    },
    {
     "name": "stderr",
     "output_type": "stream",
     "text": [
      "100%|██████████| 1/1 [00:00<00:00,  1.24it/s]\n"
     ]
    },
    {
     "name": "stdout",
     "output_type": "stream",
     "text": [
      "\n",
      "Processing paths for val split of region all for split of season winter\n"
     ]
    },
    {
     "name": "stderr",
     "output_type": "stream",
     "text": [
      "100%|██████████| 1/1 [00:00<00:00,  2.62it/s]\n"
     ]
    },
    {
     "name": "stdout",
     "output_type": "stream",
     "text": [
      "\n",
      "Processing paths for val split of region all for split of season all\n"
     ]
    },
    {
     "name": "stderr",
     "output_type": "stream",
     "text": [
      "100%|██████████| 4/4 [00:02<00:00,  1.58it/s]\n"
     ]
    },
    {
     "name": "stdout",
     "output_type": "stream",
     "text": [
      "\n",
      "Processing paths for all split of region all for split of season spring\n"
     ]
    },
    {
     "name": "stderr",
     "output_type": "stream",
     "text": [
      "100%|██████████| 1/1 [00:01<00:00,  1.76s/it]\n"
     ]
    },
    {
     "name": "stdout",
     "output_type": "stream",
     "text": [
      "\n",
      "Processing paths for all split of region all for split of season summer\n"
     ]
    },
    {
     "name": "stderr",
     "output_type": "stream",
     "text": [
      "100%|██████████| 1/1 [00:02<00:00,  2.26s/it]\n"
     ]
    },
    {
     "name": "stdout",
     "output_type": "stream",
     "text": [
      "\n",
      "Processing paths for all split of region all for split of season fall\n"
     ]
    },
    {
     "name": "stderr",
     "output_type": "stream",
     "text": [
      "100%|██████████| 1/1 [00:02<00:00,  2.56s/it]\n"
     ]
    },
    {
     "name": "stdout",
     "output_type": "stream",
     "text": [
      "\n",
      "Processing paths for all split of region all for split of season winter\n"
     ]
    },
    {
     "name": "stderr",
     "output_type": "stream",
     "text": [
      "100%|██████████| 1/1 [00:01<00:00,  1.12s/it]\n"
     ]
    },
    {
     "name": "stdout",
     "output_type": "stream",
     "text": [
      "\n",
      "Processing paths for all split of region all for split of season all\n"
     ]
    },
    {
     "name": "stderr",
     "output_type": "stream",
     "text": [
      "100%|██████████| 4/4 [00:07<00:00,  1.88s/it]\n"
     ]
    },
    {
     "name": "stdout",
     "output_type": "stream",
     "text": [
      "\n",
      "Processing paths for test_use_all split of region all for split of season spring\n"
     ]
    },
    {
     "name": "stderr",
     "output_type": "stream",
     "text": [
      "100%|██████████| 1/1 [00:00<00:00,  1.47it/s]\n"
     ]
    },
    {
     "name": "stdout",
     "output_type": "stream",
     "text": [
      "\n",
      "Processing paths for test_use_all split of region all for split of season summer\n"
     ]
    },
    {
     "name": "stderr",
     "output_type": "stream",
     "text": [
      "100%|██████████| 1/1 [00:00<00:00,  1.26it/s]\n"
     ]
    },
    {
     "name": "stdout",
     "output_type": "stream",
     "text": [
      "\n",
      "Processing paths for test_use_all split of region all for split of season fall\n"
     ]
    },
    {
     "name": "stderr",
     "output_type": "stream",
     "text": [
      "100%|██████████| 1/1 [00:00<00:00,  1.06it/s]\n"
     ]
    },
    {
     "name": "stdout",
     "output_type": "stream",
     "text": [
      "\n",
      "Processing paths for test_use_all split of region all for split of season winter\n"
     ]
    },
    {
     "name": "stderr",
     "output_type": "stream",
     "text": [
      "100%|██████████| 1/1 [00:00<00:00,  2.30it/s]\n"
     ]
    },
    {
     "name": "stdout",
     "output_type": "stream",
     "text": [
      "\n",
      "Processing paths for test_use_all split of region all for split of season all\n"
     ]
    },
    {
     "name": "stderr",
     "output_type": "stream",
     "text": [
      "100%|██████████| 4/4 [00:02<00:00,  1.35it/s]\n"
     ]
    }
   ],
   "source": [
    "sen12mscr_train_spring = SEN12MSCR_B(dir_SEN12MSCR, split='train', region='all', season='spring', rescale_method=None)\n",
    "sen12mscr_train_summer = SEN12MSCR_B(dir_SEN12MSCR, split='train', region='all', season='summer', rescale_method=None)\n",
    "sen12mscr_train_fall = SEN12MSCR_B(dir_SEN12MSCR, split='train', region='all', season='fall', rescale_method=None)\n",
    "sen12mscr_train_winter = SEN12MSCR_B(dir_SEN12MSCR, split='train', region='all', season='winter', rescale_method=None)\n",
    "sen12mscr_train_all = SEN12MSCR_B(dir_SEN12MSCR, split='train', region='all', season='all', rescale_method=None)\n",
    "\n",
    "sen12mscr_test_spring = SEN12MSCR_B(dir_SEN12MSCR, split='test', region='all', season='spring', rescale_method=None)\n",
    "sen12mscr_test_summer = SEN12MSCR_B(dir_SEN12MSCR, split='test', region='all', season='summer', rescale_method=None)\n",
    "sen12mscr_test_fall = SEN12MSCR_B(dir_SEN12MSCR, split='test', region='all', season='fall', rescale_method=None)\n",
    "sen12mscr_test_winter = SEN12MSCR_B(dir_SEN12MSCR, split='test', region='all', season='winter', rescale_method=None)\n",
    "sen12mscr_test_all = SEN12MSCR_B(dir_SEN12MSCR, split='test', region='all', season='all', rescale_method=None)\n",
    "\n",
    "sen12mscr_val_spring = SEN12MSCR_B(dir_SEN12MSCR, split='val', region='all', season='spring', rescale_method=None)\n",
    "sen12mscr_val_summer = SEN12MSCR_B(dir_SEN12MSCR, split='val', region='all', season='summer', rescale_method=None)\n",
    "sen12mscr_val_fall = SEN12MSCR_B(dir_SEN12MSCR, split='val', region='all', season='fall', rescale_method=None)\n",
    "sen12mscr_val_winter = SEN12MSCR_B(dir_SEN12MSCR, split='val', region='all', season='winter', rescale_method=None)\n",
    "sen12mscr_val_all = SEN12MSCR_B(dir_SEN12MSCR, split='val', region='all', season='all', rescale_method=None)\n",
    "\n",
    "sen12mscr_spring = SEN12MSCR_B(dir_SEN12MSCR, split='all', region='all', season='spring', rescale_method=None)\n",
    "sen12mscr_summer = SEN12MSCR_B(dir_SEN12MSCR, split='all', region='all', season='summer', rescale_method=None)\n",
    "sen12mscr_fall = SEN12MSCR_B(dir_SEN12MSCR, split='all', region='all', season='fall', rescale_method=None)\n",
    "sen12mscr_winter = SEN12MSCR_B(dir_SEN12MSCR, split='all', region='all', season='winter', rescale_method=None)\n",
    "sen12mscr = SEN12MSCR_B(dir_SEN12MSCR, split='all', region='all', season='all', rescale_method=None)\n",
    "sen12mscr_test_use_all_spring = SEN12MSCR_B(dir_SEN12MSCR, split='test_use_all', region='all', season='spring', rescale_method=None)\n",
    "sen12mscr_test_use_all_summer = SEN12MSCR_B(dir_SEN12MSCR, split='test_use_all', region='all', season='summer', rescale_method=None)\n",
    "sen12mscr_test_use_all_fall = SEN12MSCR_B(dir_SEN12MSCR, split='test_use_all', region='all', season='fall', rescale_method=None)\n",
    "sen12mscr_test_use_all_winter = SEN12MSCR_B(dir_SEN12MSCR, split='test_use_all', region='all', season='winter', rescale_method=None)\n",
    "sen12mscr_test_use_all_all = SEN12MSCR_B(dir_SEN12MSCR, split='test_use_all', region='all', season='all', rescale_method=None)"
   ]
  },
  {
   "cell_type": "code",
   "execution_count": 9,
   "metadata": {},
   "outputs": [],
   "source": [
    "datasets = {'sen12mscr_train_spring': sen12mscr_train_spring,\n",
    "            'sen12mscr_train_summer': sen12mscr_train_summer,\n",
    "            'sen12mscr_train_fall': sen12mscr_train_fall,\n",
    "            'sen12mscr_train_winter': sen12mscr_train_winter,\n",
    "            'sen12mscr_train_all': sen12mscr_train_all,\n",
    "            'sen12mscr_test_spring': sen12mscr_test_spring,\n",
    "            'sen12mscr_test_summer': sen12mscr_test_summer,\n",
    "            'sen12mscr_test_fall': sen12mscr_test_fall,\n",
    "            'sen12mscr_test_winter': sen12mscr_test_winter,\n",
    "            'sen12mscr_test_all': sen12mscr_test_all,\n",
    "            'sen12mscr_val_spring': sen12mscr_val_spring,\n",
    "            'sen12mscr_val_summer': sen12mscr_val_summer,\n",
    "            'sen12mscr_val_fall': sen12mscr_val_fall,\n",
    "            'sen12mscr_val_winter': sen12mscr_val_winter,\n",
    "            'sen12mscr_val_all': sen12mscr_val_all,\n",
    "            'sen12mscr_test_use_all_spring': sen12mscr_test_use_all_spring,\n",
    "            'sen12mscr_test_use_all_summer': sen12mscr_test_use_all_summer,\n",
    "            'sen12mscr_test_use_all_fall': sen12mscr_test_use_all_fall,\n",
    "            'sen12mscr_test_use_all_winter': sen12mscr_test_use_all_winter,\n",
    "            'sen12mscr_test_use_all': sen12mscr_test_use_all_all,\n",
    "            'sen12mscr_spring': sen12mscr_spring,\n",
    "            'sen12mscr_summer': sen12mscr_summer,\n",
    "            'sen12mscr_fall': sen12mscr_fall,\n",
    "            'sen12mscr_winter': sen12mscr_winter,\n",
    "            'sen12mscr': sen12mscr,\n",
    "            }"
   ]
  },
  {
   "cell_type": "code",
   "execution_count": 10,
   "metadata": {},
   "outputs": [
    {
     "name": "stdout",
     "output_type": "stream",
     "text": [
      "Base Dataset Length :  122217\n",
      "Sum of Dataset Length for Each Season :  122217\n",
      "=========================\n",
      "Base Dataset Length :  122217\n",
      "Train + Test + Val :  107142  +  7899  +  7176  =  122217\n",
      "Train | Test & Val :  107142  |  15075  |  15075\n",
      "Train | Test & Val (%) :  87.66538206632465  |  12.334617933675347\n",
      "=========================\n",
      "Spring Dataset Length :  29117\n",
      "Train + Test + Val :  24378  +  3983  +  756  =  29117\n",
      "Train | Test & Val :  24378  |  4739  |  4739\n",
      "Train | Test & Val (%) :  83.72428478208607  |  16.275715217913934\n",
      "=========================\n",
      "Summer Dataset Length :  33826\n",
      "Train + Test + Val :  29393  +  1565  +  2868  =  33826\n",
      "Train | Test & Val :  29393  |  4433  |  4433\n",
      "Train | Test & Val (%) :  86.8946963873943  |  13.105303612605686\n",
      "=========================\n",
      "Fall Dataset Length :  40941\n",
      "Train + Test + Val :  39376  +  784  +  781  =  40941\n",
      "Train | Test & Val :  39376  |  1565  |  1565\n",
      "Train | Test & Val (%) :  96.17742605212379  |  3.8225739478762124\n",
      "=========================\n",
      "Winter Dataset Length :  18333\n",
      "Train + Test + Val :  13995  +  1567  +  2771  =  18333\n",
      "Train | Test & Val :  13995  |  4338  |  4338\n",
      "Train | Test & Val (%) :  76.33775159548355  |  23.662248404516443\n"
     ]
    }
   ],
   "source": [
    "print('Base Dataset Length : ', len(datasets['sen12mscr']))\n",
    "print('Sum of Dataset Length for Each Season : ', len(datasets['sen12mscr_spring'])+len(datasets['sen12mscr_summer'])+len(datasets['sen12mscr_fall'])+len(datasets['sen12mscr_winter']))\n",
    "\n",
    "print('='*25)\n",
    "\n",
    "print('Base Dataset Length : ', len(datasets['sen12mscr']))\n",
    "print('Train + Test + Val : ', len(datasets['sen12mscr_train_all']), ' + ', len(datasets['sen12mscr_test_all']), ' + ',  len(datasets['sen12mscr_val_all']), ' = ', len(datasets['sen12mscr_train_all'])+len(datasets['sen12mscr_test_all'])+len(datasets['sen12mscr_val_all']))\n",
    "print('Train | Test & Val : ', len(datasets['sen12mscr_train_all']), ' | ', len(datasets['sen12mscr_test_all'])+len(datasets['sen12mscr_val_all']), ' | ', len(datasets['sen12mscr_test_use_all']))\n",
    "print('Train | Test & Val (%) : ', len(datasets['sen12mscr_train_all']) / len(datasets['sen12mscr']) * 100, ' | ', (len(datasets['sen12mscr_test_all'])+len(datasets['sen12mscr_val_all'])) / len(datasets['sen12mscr']) * 100, )\n",
    "\n",
    "print('='*25)\n",
    "\n",
    "print('Spring Dataset Length : ', len(datasets['sen12mscr_spring']))\n",
    "print('Train + Test + Val : ', len(datasets['sen12mscr_train_spring']), ' + ', len(datasets['sen12mscr_test_spring']), ' + ', len(datasets['sen12mscr_val_spring']), ' = ', len(datasets['sen12mscr_train_spring'])+len(datasets['sen12mscr_test_spring'])+len(datasets['sen12mscr_val_spring']))\n",
    "print('Train | Test & Val : ', len(datasets['sen12mscr_train_spring']), ' | ', len(datasets['sen12mscr_test_spring']) + len(datasets['sen12mscr_val_spring']), ' | ', len(datasets['sen12mscr_test_use_all_spring']))\n",
    "print('Train | Test & Val (%) : ', len(datasets['sen12mscr_train_spring']) / len(datasets['sen12mscr_spring']) * 100, ' | ', (len(datasets['sen12mscr_test_spring']) + len(datasets['sen12mscr_val_spring'])) / len(datasets['sen12mscr_spring']) * 100, )\n",
    "\n",
    "print('='*25)\n",
    "\n",
    "print('Summer Dataset Length : ', len(datasets['sen12mscr_summer']))\n",
    "print('Train + Test + Val : ', len(datasets['sen12mscr_train_summer']), ' + ', len(datasets['sen12mscr_test_summer']), ' + ', len(datasets['sen12mscr_val_summer']), ' = ', len(datasets['sen12mscr_train_summer'])+len(datasets['sen12mscr_test_summer'])+len(datasets['sen12mscr_val_summer']))\n",
    "print('Train | Test & Val : ', len(datasets['sen12mscr_train_summer']), ' | ', len(datasets['sen12mscr_test_summer'])+len(datasets['sen12mscr_val_summer']), ' | ', len(datasets['sen12mscr_test_use_all_summer']))\n",
    "print('Train | Test & Val (%) : ', len(datasets['sen12mscr_train_summer']) / len(datasets['sen12mscr_summer']) * 100, ' | ', (len(datasets['sen12mscr_test_summer']) + len(datasets['sen12mscr_val_summer'])) / len(datasets['sen12mscr_summer']) * 100, )\n",
    "\n",
    "print('='*25)\n",
    "\n",
    "print('Fall Dataset Length : ', len(datasets['sen12mscr_fall']))\n",
    "print('Train + Test + Val : ', len(datasets['sen12mscr_train_fall']), ' + ', len(datasets['sen12mscr_test_fall']), ' + ', len(datasets['sen12mscr_val_fall']), ' = ', len(datasets['sen12mscr_train_fall'])+len(datasets['sen12mscr_test_fall'])+len(datasets['sen12mscr_val_fall']))\n",
    "print('Train | Test & Val : ', len(datasets['sen12mscr_train_fall']), ' | ', len(datasets['sen12mscr_test_fall']) + len(datasets['sen12mscr_val_fall']), ' | ', len(datasets['sen12mscr_test_use_all_fall']))\n",
    "print('Train | Test & Val (%) : ', len(datasets['sen12mscr_train_fall']) / len(datasets['sen12mscr_fall']) * 100, ' | ', (len(datasets['sen12mscr_test_fall']) + len(datasets['sen12mscr_val_fall'])) / len(datasets['sen12mscr_fall']) * 100, )\n",
    "\n",
    "print('='*25)\n",
    "\n",
    "print('Winter Dataset Length : ', len(datasets['sen12mscr_winter']))\n",
    "print('Train + Test + Val : ', len(datasets['sen12mscr_train_winter']), ' + ', len(datasets['sen12mscr_test_winter']), ' + ', len(datasets['sen12mscr_val_winter']), ' = ', len(datasets['sen12mscr_train_winter'])+len(datasets['sen12mscr_test_winter'])+len(datasets['sen12mscr_val_winter']))\n",
    "print('Train | Test & Val : ', len(datasets['sen12mscr_train_winter']), ' | ', len(datasets['sen12mscr_test_winter'])+len(datasets['sen12mscr_val_winter']), ' | ', len(datasets['sen12mscr_test_use_all_winter']))\n",
    "print('Train | Test & Val (%) : ', len(datasets['sen12mscr_train_winter']) / len(datasets['sen12mscr_winter']) * 100, ' | ', (len(datasets['sen12mscr_test_winter'])+len(datasets['sen12mscr_val_winter'])) / len(datasets['sen12mscr_winter']) * 100, )\n"
   ]
  },
  {
   "cell_type": "code",
   "execution_count": 11,
   "metadata": {},
   "outputs": [
    {
     "name": "stdout",
     "output_type": "stream",
     "text": [
      "\n",
      "Processing paths for test split of region all for split of season fall\n"
     ]
    },
    {
     "name": "stderr",
     "output_type": "stream",
     "text": [
      "100%|██████████| 1/1 [00:00<00:00,  1.16it/s]\n"
     ]
    },
    {
     "name": "stdout",
     "output_type": "stream",
     "text": [
      "\n",
      "Processing paths for test split of region all for split of season fall\n"
     ]
    },
    {
     "name": "stderr",
     "output_type": "stream",
     "text": [
      "100%|██████████| 1/1 [00:00<00:00,  1.14it/s]\n"
     ]
    },
    {
     "name": "stdout",
     "output_type": "stream",
     "text": [
      "\n",
      "Processing paths for test split of region all for split of season fall\n"
     ]
    },
    {
     "name": "stderr",
     "output_type": "stream",
     "text": [
      "100%|██████████| 1/1 [00:00<00:00,  1.12it/s]"
     ]
    },
    {
     "name": "stdout",
     "output_type": "stream",
     "text": [
      "dict_keys(['A', 'B'])\n",
      "dict_keys(['S1', 'S1 path', 'coord'])\n",
      "dict_keys(['S2', 'S2 path', 'coord'])\n",
      "=========================\n",
      "dict_keys(['S1', 'S1 path', 'coord'])\n",
      "=========================\n",
      "dict_keys(['S2', 'S2 path', 'coord'])\n",
      "=========================\n"
     ]
    },
    {
     "name": "stderr",
     "output_type": "stream",
     "text": [
      "\n"
     ]
    }
   ],
   "source": [
    "sen12mscr_AB = SEN12MSCR_AB(dir_SEN12MSCR, split='test', region='all', season='fall', rescale_method=None)\n",
    "sen12mscr_A = SEN12MSCR_A(dir_SEN12MSCR, split='test', region='all', season='fall', rescale_method=None)\n",
    "sen12mscr_B = SEN12MSCR_B(dir_SEN12MSCR, split='test', region='all', season='fall', rescale_method=None)\n",
    "\n",
    "AB = sen12mscr_AB[0]\n",
    "A = sen12mscr_A[0]\n",
    "B = sen12mscr_B[0]\n",
    "\n",
    "print(AB.keys())\n",
    "print(AB['A'].keys())\n",
    "print(AB['B'].keys())\n",
    "print('='*25)\n",
    "print(A.keys())\n",
    "print('='*25)\n",
    "print(B.keys())\n",
    "print('='*25)"
   ]
  },
  {
   "cell_type": "code",
   "execution_count": 12,
   "metadata": {},
   "outputs": [
    {
     "name": "stdout",
     "output_type": "stream",
     "text": [
      "\n",
      "Processing paths for test split of region all for split of season fall\n"
     ]
    },
    {
     "name": "stderr",
     "output_type": "stream",
     "text": [
      "100%|██████████| 1/1 [00:00<00:00,  1.16it/s]\n"
     ]
    },
    {
     "name": "stdout",
     "output_type": "stream",
     "text": [
      "\n",
      "Processing paths for test split of region all for split of season fall\n"
     ]
    },
    {
     "name": "stderr",
     "output_type": "stream",
     "text": [
      "100%|██████████| 1/1 [00:00<00:00,  1.14it/s]\n"
     ]
    },
    {
     "name": "stdout",
     "output_type": "stream",
     "text": [
      "\n",
      "Processing paths for test split of region all for split of season fall\n"
     ]
    },
    {
     "name": "stderr",
     "output_type": "stream",
     "text": [
      "100%|██████████| 1/1 [00:00<00:00,  1.18it/s]"
     ]
    },
    {
     "name": "stdout",
     "output_type": "stream",
     "text": [
      "A:  <class 'numpy.ndarray'> (3, 256, 256) A_path:  /home/khj/SEN12MSCR/ROIs1970_fall_s1/s1_139/ROIs1970_fall_s1_139_p30.tif B:  <class 'numpy.ndarray'> (3, 256, 256) B_path:  /home/khj/SEN12MSCR/ROIs1970_fall_s2/s2_139/ROIs1970_fall_s2_139_p30.tif\n",
      "=========================\n",
      "A:  <class 'numpy.ndarray'> (3, 256, 256) A_path:  /home/khj/SEN12MSCR/ROIs1970_fall_s1/s1_139/ROIs1970_fall_s1_139_p30.tif\n",
      "=========================\n",
      "B:  <class 'numpy.ndarray'> (3, 256, 256) B_path:  /home/khj/SEN12MSCR/ROIs1970_fall_s2/s2_139/ROIs1970_fall_s2_139_p30.tif\n",
      "=========================\n"
     ]
    },
    {
     "name": "stderr",
     "output_type": "stream",
     "text": [
      "\n"
     ]
    }
   ],
   "source": [
    "lambda_AB = lambda sample: (sample['A']['S1'], sample['A']['S1 path'], sample['B']['S2'], sample['B']['S2 path'])\n",
    "\n",
    "lambda_A = lambda sample: (sample['S1'], sample['S1 path'])\n",
    "\n",
    "lambda_B = lambda sample: (sample['S2'], sample['S2 path'])\n",
    "\n",
    "sen12mscr_AB = SEN12MSCR_AB(dir_SEN12MSCR, split='test', region='all', season='fall', rescale_method=None, Lambda=lambda_AB)\n",
    "sen12mscr_A = SEN12MSCR_A(dir_SEN12MSCR, split='test', region='all', season='fall', rescale_method=None, Lambda=lambda_A)\n",
    "sen12mscr_B = SEN12MSCR_B(dir_SEN12MSCR, split='test', region='all', season='fall', rescale_method=None, Lambda=lambda_B)\n",
    "\n",
    "A, A_path, B, B_path = sen12mscr_AB[0]\n",
    "\n",
    "print('A: ', type(A), A.shape, 'A_path: ', A_path, 'B: ', type(B), B.shape, 'B_path: ', B_path)\n",
    "print('='*25)\n",
    "A, A_path = sen12mscr_A[0]\n",
    "\n",
    "print('A: ', type(A), A.shape, 'A_path: ', A_path)\n",
    "print('='*25)\n",
    "\n",
    "B, B_path = sen12mscr_B[0]\n",
    "\n",
    "print('B: ', type(B), B.shape, 'B_path: ', B_path)\n",
    "print('='*25)\n"
   ]
  },
  {
   "cell_type": "code",
   "execution_count": 14,
   "metadata": {},
   "outputs": [
    {
     "name": "stdout",
     "output_type": "stream",
     "text": [
      "\n",
      "Processing paths for test split of region all for split of season fall\n"
     ]
    },
    {
     "name": "stderr",
     "output_type": "stream",
     "text": [
      "100%|██████████| 1/1 [00:00<00:00,  1.13it/s]\n"
     ]
    },
    {
     "name": "stdout",
     "output_type": "stream",
     "text": [
      "\n",
      "Processing paths for test split of region all for split of season fall\n"
     ]
    },
    {
     "name": "stderr",
     "output_type": "stream",
     "text": [
      "100%|██████████| 1/1 [00:00<00:00,  1.19it/s]\n"
     ]
    },
    {
     "name": "stdout",
     "output_type": "stream",
     "text": [
      "A:  <class 'torch.Tensor'> torch.Size([3, 286, 286]) A_path:  /home/khj/SEN12MSCR/ROIs1970_fall_s1/s1_139/ROIs1970_fall_s1_139_p30.tif B:  <class 'torch.Tensor'> torch.Size([3, 286, 286]) B_path:  /home/khj/SEN12MSCR/ROIs1970_fall_s2/s2_139/ROIs1970_fall_s2_139_p30.tif\n",
      "=========================\n",
      "A:  <class 'torch.Tensor'> torch.Size([3, 256, 256]) A_path:  /home/khj/SEN12MSCR/ROIs1970_fall_s1/s1_139/ROIs1970_fall_s1_139_p30.tif B:  <class 'torch.Tensor'> torch.Size([3, 256, 256]) B_path:  /home/khj/SEN12MSCR/ROIs1970_fall_s2/s2_139/ROIs1970_fall_s2_139_p30.tif\n",
      "=========================\n",
      "\n",
      "Processing paths for test split of region all for split of season fall\n"
     ]
    },
    {
     "name": "stderr",
     "output_type": "stream",
     "text": [
      "100%|██████████| 1/1 [00:00<00:00,  1.17it/s]\n"
     ]
    },
    {
     "name": "stdout",
     "output_type": "stream",
     "text": [
      "\n",
      "Processing paths for test split of region all for split of season fall\n"
     ]
    },
    {
     "name": "stderr",
     "output_type": "stream",
     "text": [
      "100%|██████████| 1/1 [00:00<00:00,  1.13it/s]\n"
     ]
    },
    {
     "name": "stdout",
     "output_type": "stream",
     "text": [
      "A:  <class 'torch.Tensor'> torch.Size([3, 286, 286]) A_path:  /home/khj/SEN12MSCR/ROIs1970_fall_s1/s1_139/ROIs1970_fall_s1_139_p30.tif\n",
      "=========================\n",
      "A:  <class 'torch.Tensor'> torch.Size([3, 256, 256]) A_path:  /home/khj/SEN12MSCR/ROIs1970_fall_s1/s1_139/ROIs1970_fall_s1_139_p30.tif\n",
      "=========================\n",
      "\n",
      "Processing paths for test split of region all for split of season fall\n"
     ]
    },
    {
     "name": "stderr",
     "output_type": "stream",
     "text": [
      "100%|██████████| 1/1 [00:00<00:00,  1.18it/s]\n"
     ]
    },
    {
     "name": "stdout",
     "output_type": "stream",
     "text": [
      "\n",
      "Processing paths for test split of region all for split of season fall\n"
     ]
    },
    {
     "name": "stderr",
     "output_type": "stream",
     "text": [
      "100%|██████████| 1/1 [00:00<00:00,  1.22it/s]"
     ]
    },
    {
     "name": "stdout",
     "output_type": "stream",
     "text": [
      "B:  <class 'torch.Tensor'> torch.Size([3, 286, 286]) B_path:  /home/khj/SEN12MSCR/ROIs1970_fall_s2/s2_139/ROIs1970_fall_s2_139_p30.tif\n",
      "=========================\n",
      "B:  <class 'torch.Tensor'> torch.Size([3, 256, 256]) B_path:  /home/khj/SEN12MSCR/ROIs1970_fall_s2/s2_139/ROIs1970_fall_s2_139_p30.tif\n",
      "=========================\n"
     ]
    },
    {
     "name": "stderr",
     "output_type": "stream",
     "text": [
      "\n"
     ]
    }
   ],
   "source": [
    "import torchvision.transforms as transforms\n",
    "\n",
    "transform1 = transforms.Compose([\n",
    "    transforms.Lambda(lambda img : torch.Tensor(img)),\n",
    "    transforms.RandomHorizontalFlip(),\n",
    "    transforms.Resize((286, 286))\n",
    "])\n",
    "\n",
    "transform2 = transforms.Compose([\n",
    "    transforms.Lambda(lambda img : torch.Tensor(img)),\n",
    "    transforms.RandomHorizontalFlip(),\n",
    "    transforms.Resize((286, 286)),\n",
    "    transforms.RandomCrop(256)\n",
    "])\n",
    "\n",
    "sen12mscr_AB1 = SEN12MSCR_AB(dir_SEN12MSCR, split='test', region='all', season='fall', rescale_method=None, Lambda=lambda_AB, transforms=transform1)\n",
    "sen12mscr_AB2 = SEN12MSCR_AB(dir_SEN12MSCR, split='test', region='all', season='fall', rescale_method=None, Lambda=lambda_AB, transforms=transform2)\n",
    "\n",
    "A, A_path, B, B_path = sen12mscr_AB1[0]\n",
    "print('A: ', type(A), A.shape, 'A_path: ', A_path, 'B: ', type(B), B.shape, 'B_path: ', B_path)\n",
    "print('='*25)\n",
    "A, A_path, B, B_path = sen12mscr_AB2[0]\n",
    "print('A: ', type(A), A.shape, 'A_path: ', A_path, 'B: ', type(B), B.shape, 'B_path: ', B_path)\n",
    "print('='*25)\n",
    "\n",
    "sen12mscr_A1 = SEN12MSCR_A(dir_SEN12MSCR, split='test', region='all', season='fall', rescale_method=None, Lambda=lambda_A, transforms=transform1)\n",
    "sen12mscr_A2 = SEN12MSCR_A(dir_SEN12MSCR, split='test', region='all', season='fall', rescale_method=None, Lambda=lambda_A, transforms=transform2)\n",
    "\n",
    "A, A_path = sen12mscr_A1[0]\n",
    "print('A: ', type(A), A.shape, 'A_path: ', A_path)\n",
    "print('='*25)\n",
    "A, A_path = sen12mscr_A2[0]\n",
    "print('A: ', type(A), A.shape, 'A_path: ', A_path)\n",
    "print('='*25)\n",
    "\n",
    "sen12mscr_B1 = SEN12MSCR_B(dir_SEN12MSCR, split='test', region='all', season='fall', rescale_method=None, Lambda=lambda_B, transforms=transform1)\n",
    "sen12mscr_B2 = SEN12MSCR_B(dir_SEN12MSCR, split='test', region='all', season='fall', rescale_method=None, Lambda=lambda_B, transforms=transform2)\n",
    "\n",
    "B, B_path = sen12mscr_B1[0]\n",
    "print('B: ', type(B), B.shape, 'B_path: ', B_path)\n",
    "print('='*25)\n",
    "B, B_path = sen12mscr_B2[0]\n",
    "print('B: ', type(B), B.shape, 'B_path: ', B_path)\n",
    "print('='*25)"
   ]
  }
 ],
 "metadata": {
  "kernelspec": {
   "display_name": "Python 3",
   "language": "python",
   "name": "python3"
  },
  "language_info": {
   "codemirror_mode": {
    "name": "ipython",
    "version": 3
   },
   "file_extension": ".py",
   "mimetype": "text/x-python",
   "name": "python",
   "nbconvert_exporter": "python",
   "pygments_lexer": "ipython3",
   "version": "3.8.10"
  },
  "orig_nbformat": 4
 },
 "nbformat": 4,
 "nbformat_minor": 2
}
